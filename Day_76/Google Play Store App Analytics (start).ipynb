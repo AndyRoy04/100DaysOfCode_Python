{
 "cells": [
  {
   "cell_type": "markdown",
   "metadata": {
    "dc": {
     "key": "4"
    },
    "id": "-Sxae4jbdiT2",
    "run_control": {
     "frozen": true
    },
    "tags": [
     "context"
    ]
   },
   "source": [
    "# Introduction\n",
    "\n",
    "In this notebook, we will do a comprehensive analysis of the Android app market by comparing thousands of apps in the Google Play store."
   ]
  },
  {
   "cell_type": "markdown",
   "metadata": {
    "id": "sDT5lMxadiT3"
   },
   "source": [
    "# About the Dataset of Google Play Store Apps & Reviews"
   ]
  },
  {
   "cell_type": "markdown",
   "metadata": {
    "id": "5CiydsdNdiT3"
   },
   "source": [
    "**Data Source:** <br>\n",
    "App and review data was scraped from the Google Play Store by Lavanya Gupta in 2018. Original files listed [here](\n",
    "https://www.kaggle.com/lava18/google-play-store-apps)."
   ]
  },
  {
   "cell_type": "markdown",
   "metadata": {
    "id": "BBKBNy4UdiT4"
   },
   "source": [
    "# Import Statements"
   ]
  },
  {
   "cell_type": "code",
   "execution_count": 92,
   "metadata": {
    "executionInfo": {
     "elapsed": 594,
     "status": "ok",
     "timestamp": 1602234478794,
     "user": {
      "displayName": "Philipp Muellauer",
      "photoUrl": "https://lh3.googleusercontent.com/a-/AOh14GjjWitgsmZ0M9Wmzf-SRYD005WcMGhejWWHMUiZnFw=s64",
      "userId": "02749974243016517270"
     },
     "user_tz": -60
    },
    "id": "_5mfFH4_diT4"
   },
   "outputs": [],
   "source": [
    "# %pip install plotly\n",
    "import pandas as pd\n",
    "import plotly.express as px"
   ]
  },
  {
   "cell_type": "markdown",
   "metadata": {
    "id": "KegC9nPDdiT7"
   },
   "source": [
    "# Notebook Presentation"
   ]
  },
  {
   "cell_type": "code",
   "execution_count": 93,
   "metadata": {
    "id": "WPL7rhJndiT7"
   },
   "outputs": [],
   "source": [
    "# Show numeric output in decimal format e.g., 2.15\n",
    "pd.options.display.float_format = '{:,.2f}'.format"
   ]
  },
  {
   "cell_type": "markdown",
   "metadata": {
    "id": "Uc9LOZu9diT-"
   },
   "source": [
    "# Read the Dataset"
   ]
  },
  {
   "cell_type": "code",
   "execution_count": 94,
   "metadata": {
    "colab": {
     "base_uri": "https://localhost:8080/",
     "height": 375
    },
    "executionInfo": {
     "elapsed": 441,
     "status": "error",
     "timestamp": 1602234486357,
     "user": {
      "displayName": "Philipp Muellauer",
      "photoUrl": "https://lh3.googleusercontent.com/a-/AOh14GjjWitgsmZ0M9Wmzf-SRYD005WcMGhejWWHMUiZnFw=s64",
      "userId": "02749974243016517270"
     },
     "user_tz": -60
    },
    "id": "zU0Zisv_diT-",
    "outputId": "f88a917e-30a1-45a4-b17a-ab21e557913c"
   },
   "outputs": [],
   "source": [
    "df_apps = pd.read_csv('apps.csv')"
   ]
  },
  {
   "cell_type": "markdown",
   "metadata": {
    "id": "iKvSUwQldiUA"
   },
   "source": [
    "# Data Cleaning"
   ]
  },
  {
   "cell_type": "markdown",
   "metadata": {
    "id": "MWTzYZIds5L9"
   },
   "source": [
    "**Challenge**: How many rows and columns does `df_apps` have? What are the column names? Look at a random sample of 5 different rows with [.sample()](https://pandas.pydata.org/pandas-docs/stable/reference/api/pandas.DataFrame.sample.html)."
   ]
  },
  {
   "cell_type": "code",
   "execution_count": 95,
   "metadata": {},
   "outputs": [
    {
     "name": "stdout",
     "output_type": "stream",
     "text": [
      "Index(['App', 'Category', 'Rating', 'Reviews', 'Size_MBs', 'Installs', 'Type',\n",
      "       'Price', 'Content_Rating', 'Genres', 'Last_Updated', 'Android_Ver'],\n",
      "      dtype='object')\n"
     ]
    },
    {
     "data": {
      "application/vnd.microsoft.datawrangler.viewer.v0+json": {
       "columns": [
        {
         "name": "index",
         "rawType": "object",
         "type": "string"
        },
        {
         "name": "Rating",
         "rawType": "float64",
         "type": "float"
        },
        {
         "name": "Reviews",
         "rawType": "float64",
         "type": "float"
        },
        {
         "name": "Size_MBs",
         "rawType": "float64",
         "type": "float"
        }
       ],
       "ref": "40e82da8-8925-4cb7-93c7-4a91c9848b09",
       "rows": [
        [
         "count",
         "9367.0",
         "10841.0",
         "10841.0"
        ],
        [
         "mean",
         "4.191512757553112",
         "444111.9280509178",
         "19.77414748733108"
        ],
        [
         "std",
         "0.515735240579464",
         "2927628.6639741943",
         "21.404353686899903"
        ],
        [
         "min",
         "1.0",
         "0.0",
         "0.00830078125"
        ],
        [
         "25%",
         "4.0",
         "38.0",
         "4.9"
        ],
        [
         "50%",
         "4.3",
         "2094.0",
         "11.0"
        ],
        [
         "75%",
         "4.5",
         "54768.0",
         "27.0"
        ],
        [
         "max",
         "5.0",
         "78158306.0",
         "100.0"
        ]
       ],
       "shape": {
        "columns": 3,
        "rows": 8
       }
      },
      "text/html": [
       "<div>\n",
       "<style scoped>\n",
       "    .dataframe tbody tr th:only-of-type {\n",
       "        vertical-align: middle;\n",
       "    }\n",
       "\n",
       "    .dataframe tbody tr th {\n",
       "        vertical-align: top;\n",
       "    }\n",
       "\n",
       "    .dataframe thead th {\n",
       "        text-align: right;\n",
       "    }\n",
       "</style>\n",
       "<table border=\"1\" class=\"dataframe\">\n",
       "  <thead>\n",
       "    <tr style=\"text-align: right;\">\n",
       "      <th></th>\n",
       "      <th>Rating</th>\n",
       "      <th>Reviews</th>\n",
       "      <th>Size_MBs</th>\n",
       "    </tr>\n",
       "  </thead>\n",
       "  <tbody>\n",
       "    <tr>\n",
       "      <th>count</th>\n",
       "      <td>9,367.00</td>\n",
       "      <td>10,841.00</td>\n",
       "      <td>10,841.00</td>\n",
       "    </tr>\n",
       "    <tr>\n",
       "      <th>mean</th>\n",
       "      <td>4.19</td>\n",
       "      <td>444,111.93</td>\n",
       "      <td>19.77</td>\n",
       "    </tr>\n",
       "    <tr>\n",
       "      <th>std</th>\n",
       "      <td>0.52</td>\n",
       "      <td>2,927,628.66</td>\n",
       "      <td>21.40</td>\n",
       "    </tr>\n",
       "    <tr>\n",
       "      <th>min</th>\n",
       "      <td>1.00</td>\n",
       "      <td>0.00</td>\n",
       "      <td>0.01</td>\n",
       "    </tr>\n",
       "    <tr>\n",
       "      <th>25%</th>\n",
       "      <td>4.00</td>\n",
       "      <td>38.00</td>\n",
       "      <td>4.90</td>\n",
       "    </tr>\n",
       "    <tr>\n",
       "      <th>50%</th>\n",
       "      <td>4.30</td>\n",
       "      <td>2,094.00</td>\n",
       "      <td>11.00</td>\n",
       "    </tr>\n",
       "    <tr>\n",
       "      <th>75%</th>\n",
       "      <td>4.50</td>\n",
       "      <td>54,768.00</td>\n",
       "      <td>27.00</td>\n",
       "    </tr>\n",
       "    <tr>\n",
       "      <th>max</th>\n",
       "      <td>5.00</td>\n",
       "      <td>78,158,306.00</td>\n",
       "      <td>100.00</td>\n",
       "    </tr>\n",
       "  </tbody>\n",
       "</table>\n",
       "</div>"
      ],
      "text/plain": [
       "        Rating       Reviews  Size_MBs\n",
       "count 9,367.00     10,841.00 10,841.00\n",
       "mean      4.19    444,111.93     19.77\n",
       "std       0.52  2,927,628.66     21.40\n",
       "min       1.00          0.00      0.01\n",
       "25%       4.00         38.00      4.90\n",
       "50%       4.30      2,094.00     11.00\n",
       "75%       4.50     54,768.00     27.00\n",
       "max       5.00 78,158,306.00    100.00"
      ]
     },
     "execution_count": 95,
     "metadata": {},
     "output_type": "execute_result"
    }
   ],
   "source": [
    "print(df_apps.columns)\n",
    "df_apps.describe()  #gives a brief overview of the data in the DF"
   ]
  },
  {
   "cell_type": "code",
   "execution_count": 96,
   "metadata": {},
   "outputs": [
    {
     "data": {
      "application/vnd.microsoft.datawrangler.viewer.v0+json": {
       "columns": [
        {
         "name": "index",
         "rawType": "int64",
         "type": "integer"
        },
        {
         "name": "App",
         "rawType": "object",
         "type": "string"
        },
        {
         "name": "Category",
         "rawType": "object",
         "type": "string"
        },
        {
         "name": "Rating",
         "rawType": "float64",
         "type": "float"
        },
        {
         "name": "Reviews",
         "rawType": "int64",
         "type": "integer"
        },
        {
         "name": "Size_MBs",
         "rawType": "float64",
         "type": "float"
        },
        {
         "name": "Installs",
         "rawType": "object",
         "type": "string"
        },
        {
         "name": "Type",
         "rawType": "object",
         "type": "unknown"
        },
        {
         "name": "Price",
         "rawType": "object",
         "type": "string"
        },
        {
         "name": "Content_Rating",
         "rawType": "object",
         "type": "string"
        },
        {
         "name": "Genres",
         "rawType": "object",
         "type": "string"
        },
        {
         "name": "Last_Updated",
         "rawType": "object",
         "type": "string"
        },
        {
         "name": "Android_Ver",
         "rawType": "object",
         "type": "string"
        }
       ],
       "ref": "de7b5817-1963-497b-a3c0-64c92f7b3ad5",
       "rows": [
        [
         "0",
         "Ak Parti Yardım Toplama",
         "SOCIAL",
         null,
         "0",
         "8.7",
         "0",
         "Paid",
         "$13.99",
         "Teen",
         "Social",
         "July 28, 2017",
         "4.1 and up"
        ],
        [
         "1",
         "Ain Arabic Kids Alif Ba ta",
         "FAMILY",
         null,
         "0",
         "33.0",
         "0",
         "Paid",
         "$2.99",
         "Everyone",
         "Education",
         "April 15, 2016",
         "3.0 and up"
        ],
        [
         "2",
         "Popsicle Launcher for Android P 9.0 launcher",
         "PERSONALIZATION",
         null,
         "0",
         "5.5",
         "0",
         "Paid",
         "$1.49",
         "Everyone",
         "Personalization",
         "July 11, 2018",
         "4.2 and up"
        ],
        [
         "3",
         "Command & Conquer: Rivals",
         "FAMILY",
         null,
         "0",
         "19.0",
         "0",
         null,
         "0",
         "Everyone 10+",
         "Strategy",
         "June 28, 2018",
         "Varies with device"
        ],
        [
         "4",
         "CX Network",
         "BUSINESS",
         null,
         "0",
         "10.0",
         "0",
         "Free",
         "0",
         "Everyone",
         "Business",
         "August 6, 2018",
         "4.1 and up"
        ]
       ],
       "shape": {
        "columns": 12,
        "rows": 5
       }
      },
      "text/html": [
       "<div>\n",
       "<style scoped>\n",
       "    .dataframe tbody tr th:only-of-type {\n",
       "        vertical-align: middle;\n",
       "    }\n",
       "\n",
       "    .dataframe tbody tr th {\n",
       "        vertical-align: top;\n",
       "    }\n",
       "\n",
       "    .dataframe thead th {\n",
       "        text-align: right;\n",
       "    }\n",
       "</style>\n",
       "<table border=\"1\" class=\"dataframe\">\n",
       "  <thead>\n",
       "    <tr style=\"text-align: right;\">\n",
       "      <th></th>\n",
       "      <th>App</th>\n",
       "      <th>Category</th>\n",
       "      <th>Rating</th>\n",
       "      <th>Reviews</th>\n",
       "      <th>Size_MBs</th>\n",
       "      <th>Installs</th>\n",
       "      <th>Type</th>\n",
       "      <th>Price</th>\n",
       "      <th>Content_Rating</th>\n",
       "      <th>Genres</th>\n",
       "      <th>Last_Updated</th>\n",
       "      <th>Android_Ver</th>\n",
       "    </tr>\n",
       "  </thead>\n",
       "  <tbody>\n",
       "    <tr>\n",
       "      <th>0</th>\n",
       "      <td>Ak Parti Yardım Toplama</td>\n",
       "      <td>SOCIAL</td>\n",
       "      <td>NaN</td>\n",
       "      <td>0</td>\n",
       "      <td>8.70</td>\n",
       "      <td>0</td>\n",
       "      <td>Paid</td>\n",
       "      <td>$13.99</td>\n",
       "      <td>Teen</td>\n",
       "      <td>Social</td>\n",
       "      <td>July 28, 2017</td>\n",
       "      <td>4.1 and up</td>\n",
       "    </tr>\n",
       "    <tr>\n",
       "      <th>1</th>\n",
       "      <td>Ain Arabic Kids Alif Ba ta</td>\n",
       "      <td>FAMILY</td>\n",
       "      <td>NaN</td>\n",
       "      <td>0</td>\n",
       "      <td>33.00</td>\n",
       "      <td>0</td>\n",
       "      <td>Paid</td>\n",
       "      <td>$2.99</td>\n",
       "      <td>Everyone</td>\n",
       "      <td>Education</td>\n",
       "      <td>April 15, 2016</td>\n",
       "      <td>3.0 and up</td>\n",
       "    </tr>\n",
       "    <tr>\n",
       "      <th>2</th>\n",
       "      <td>Popsicle Launcher for Android P 9.0 launcher</td>\n",
       "      <td>PERSONALIZATION</td>\n",
       "      <td>NaN</td>\n",
       "      <td>0</td>\n",
       "      <td>5.50</td>\n",
       "      <td>0</td>\n",
       "      <td>Paid</td>\n",
       "      <td>$1.49</td>\n",
       "      <td>Everyone</td>\n",
       "      <td>Personalization</td>\n",
       "      <td>July 11, 2018</td>\n",
       "      <td>4.2 and up</td>\n",
       "    </tr>\n",
       "    <tr>\n",
       "      <th>3</th>\n",
       "      <td>Command &amp; Conquer: Rivals</td>\n",
       "      <td>FAMILY</td>\n",
       "      <td>NaN</td>\n",
       "      <td>0</td>\n",
       "      <td>19.00</td>\n",
       "      <td>0</td>\n",
       "      <td>NaN</td>\n",
       "      <td>0</td>\n",
       "      <td>Everyone 10+</td>\n",
       "      <td>Strategy</td>\n",
       "      <td>June 28, 2018</td>\n",
       "      <td>Varies with device</td>\n",
       "    </tr>\n",
       "    <tr>\n",
       "      <th>4</th>\n",
       "      <td>CX Network</td>\n",
       "      <td>BUSINESS</td>\n",
       "      <td>NaN</td>\n",
       "      <td>0</td>\n",
       "      <td>10.00</td>\n",
       "      <td>0</td>\n",
       "      <td>Free</td>\n",
       "      <td>0</td>\n",
       "      <td>Everyone</td>\n",
       "      <td>Business</td>\n",
       "      <td>August 6, 2018</td>\n",
       "      <td>4.1 and up</td>\n",
       "    </tr>\n",
       "  </tbody>\n",
       "</table>\n",
       "</div>"
      ],
      "text/plain": [
       "                                            App         Category  Rating  \\\n",
       "0                       Ak Parti Yardım Toplama           SOCIAL     NaN   \n",
       "1                    Ain Arabic Kids Alif Ba ta           FAMILY     NaN   \n",
       "2  Popsicle Launcher for Android P 9.0 launcher  PERSONALIZATION     NaN   \n",
       "3                     Command & Conquer: Rivals           FAMILY     NaN   \n",
       "4                                    CX Network         BUSINESS     NaN   \n",
       "\n",
       "   Reviews  Size_MBs Installs  Type   Price Content_Rating           Genres  \\\n",
       "0        0      8.70        0  Paid  $13.99           Teen           Social   \n",
       "1        0     33.00        0  Paid   $2.99       Everyone        Education   \n",
       "2        0      5.50        0  Paid   $1.49       Everyone  Personalization   \n",
       "3        0     19.00        0   NaN       0   Everyone 10+         Strategy   \n",
       "4        0     10.00        0  Free       0       Everyone         Business   \n",
       "\n",
       "     Last_Updated         Android_Ver  \n",
       "0   July 28, 2017          4.1 and up  \n",
       "1  April 15, 2016          3.0 and up  \n",
       "2   July 11, 2018          4.2 and up  \n",
       "3   June 28, 2018  Varies with device  \n",
       "4  August 6, 2018          4.1 and up  "
      ]
     },
     "execution_count": 96,
     "metadata": {},
     "output_type": "execute_result"
    }
   ],
   "source": [
    "df_apps.head()"
   ]
  },
  {
   "cell_type": "code",
   "execution_count": 97,
   "metadata": {
    "id": "HJI7UsPrnuRf"
   },
   "outputs": [
    {
     "data": {
      "application/vnd.microsoft.datawrangler.viewer.v0+json": {
       "columns": [
        {
         "name": "index",
         "rawType": "int64",
         "type": "integer"
        },
        {
         "name": "App",
         "rawType": "object",
         "type": "string"
        },
        {
         "name": "Category",
         "rawType": "object",
         "type": "string"
        },
        {
         "name": "Rating",
         "rawType": "float64",
         "type": "float"
        },
        {
         "name": "Reviews",
         "rawType": "int64",
         "type": "integer"
        },
        {
         "name": "Size_MBs",
         "rawType": "float64",
         "type": "float"
        },
        {
         "name": "Installs",
         "rawType": "object",
         "type": "string"
        },
        {
         "name": "Type",
         "rawType": "object",
         "type": "string"
        },
        {
         "name": "Price",
         "rawType": "object",
         "type": "string"
        },
        {
         "name": "Content_Rating",
         "rawType": "object",
         "type": "string"
        },
        {
         "name": "Genres",
         "rawType": "object",
         "type": "string"
        },
        {
         "name": "Last_Updated",
         "rawType": "object",
         "type": "string"
        },
        {
         "name": "Android_Ver",
         "rawType": "object",
         "type": "string"
        }
       ],
       "ref": "cf970fce-695c-4914-84d3-bfdf356142ff",
       "rows": [
        [
         "1323",
         "Summer Madness",
         "EVENTS",
         null,
         "4",
         "1.4",
         "100",
         "Free",
         "0",
         "Everyone",
         "Events",
         "July 26, 2018",
         "4.0 and up"
        ],
        [
         "8464",
         "Kroger",
         "SHOPPING",
         "4.3",
         "38961",
         "27.0",
         "5,000,000",
         "Free",
         "0",
         "Everyone",
         "Shopping",
         "August 2, 2018",
         "5.0 and up"
        ],
        [
         "196",
         "E.U. Trademark Search Tool",
         "BUSINESS",
         null,
         "0",
         "3.1",
         "10",
         "Free",
         "0",
         "Everyone",
         "Business",
         "March 29, 2018",
         "4.0.3 and up"
        ],
        [
         "6658",
         "Official Matsumoto Kiyoshi application",
         "LIFESTYLE",
         "3.2",
         "3031",
         "2.7",
         "1,000,000",
         "Free",
         "0",
         "Everyone",
         "Lifestyle",
         "July 3, 2018",
         "4.0 and up"
        ],
        [
         "912",
         "Super Hearing Secret Voices Recorder PRO",
         "MEDICAL",
         "5.0",
         "3",
         "23.0",
         "100",
         "Paid",
         "$2.99",
         "Everyone",
         "Medical",
         "April 20, 2018",
         "4.1 and up"
        ]
       ],
       "shape": {
        "columns": 12,
        "rows": 5
       }
      },
      "text/html": [
       "<div>\n",
       "<style scoped>\n",
       "    .dataframe tbody tr th:only-of-type {\n",
       "        vertical-align: middle;\n",
       "    }\n",
       "\n",
       "    .dataframe tbody tr th {\n",
       "        vertical-align: top;\n",
       "    }\n",
       "\n",
       "    .dataframe thead th {\n",
       "        text-align: right;\n",
       "    }\n",
       "</style>\n",
       "<table border=\"1\" class=\"dataframe\">\n",
       "  <thead>\n",
       "    <tr style=\"text-align: right;\">\n",
       "      <th></th>\n",
       "      <th>App</th>\n",
       "      <th>Category</th>\n",
       "      <th>Rating</th>\n",
       "      <th>Reviews</th>\n",
       "      <th>Size_MBs</th>\n",
       "      <th>Installs</th>\n",
       "      <th>Type</th>\n",
       "      <th>Price</th>\n",
       "      <th>Content_Rating</th>\n",
       "      <th>Genres</th>\n",
       "      <th>Last_Updated</th>\n",
       "      <th>Android_Ver</th>\n",
       "    </tr>\n",
       "  </thead>\n",
       "  <tbody>\n",
       "    <tr>\n",
       "      <th>1323</th>\n",
       "      <td>Summer Madness</td>\n",
       "      <td>EVENTS</td>\n",
       "      <td>NaN</td>\n",
       "      <td>4</td>\n",
       "      <td>1.40</td>\n",
       "      <td>100</td>\n",
       "      <td>Free</td>\n",
       "      <td>0</td>\n",
       "      <td>Everyone</td>\n",
       "      <td>Events</td>\n",
       "      <td>July 26, 2018</td>\n",
       "      <td>4.0 and up</td>\n",
       "    </tr>\n",
       "    <tr>\n",
       "      <th>8464</th>\n",
       "      <td>Kroger</td>\n",
       "      <td>SHOPPING</td>\n",
       "      <td>4.30</td>\n",
       "      <td>38961</td>\n",
       "      <td>27.00</td>\n",
       "      <td>5,000,000</td>\n",
       "      <td>Free</td>\n",
       "      <td>0</td>\n",
       "      <td>Everyone</td>\n",
       "      <td>Shopping</td>\n",
       "      <td>August 2, 2018</td>\n",
       "      <td>5.0 and up</td>\n",
       "    </tr>\n",
       "    <tr>\n",
       "      <th>196</th>\n",
       "      <td>E.U. Trademark Search Tool</td>\n",
       "      <td>BUSINESS</td>\n",
       "      <td>NaN</td>\n",
       "      <td>0</td>\n",
       "      <td>3.10</td>\n",
       "      <td>10</td>\n",
       "      <td>Free</td>\n",
       "      <td>0</td>\n",
       "      <td>Everyone</td>\n",
       "      <td>Business</td>\n",
       "      <td>March 29, 2018</td>\n",
       "      <td>4.0.3 and up</td>\n",
       "    </tr>\n",
       "    <tr>\n",
       "      <th>6658</th>\n",
       "      <td>Official Matsumoto Kiyoshi application</td>\n",
       "      <td>LIFESTYLE</td>\n",
       "      <td>3.20</td>\n",
       "      <td>3031</td>\n",
       "      <td>2.70</td>\n",
       "      <td>1,000,000</td>\n",
       "      <td>Free</td>\n",
       "      <td>0</td>\n",
       "      <td>Everyone</td>\n",
       "      <td>Lifestyle</td>\n",
       "      <td>July 3, 2018</td>\n",
       "      <td>4.0 and up</td>\n",
       "    </tr>\n",
       "    <tr>\n",
       "      <th>912</th>\n",
       "      <td>Super Hearing Secret Voices Recorder PRO</td>\n",
       "      <td>MEDICAL</td>\n",
       "      <td>5.00</td>\n",
       "      <td>3</td>\n",
       "      <td>23.00</td>\n",
       "      <td>100</td>\n",
       "      <td>Paid</td>\n",
       "      <td>$2.99</td>\n",
       "      <td>Everyone</td>\n",
       "      <td>Medical</td>\n",
       "      <td>April 20, 2018</td>\n",
       "      <td>4.1 and up</td>\n",
       "    </tr>\n",
       "  </tbody>\n",
       "</table>\n",
       "</div>"
      ],
      "text/plain": [
       "                                           App   Category  Rating  Reviews  \\\n",
       "1323                            Summer Madness     EVENTS     NaN        4   \n",
       "8464                                    Kroger   SHOPPING    4.30    38961   \n",
       "196                 E.U. Trademark Search Tool   BUSINESS     NaN        0   \n",
       "6658    Official Matsumoto Kiyoshi application  LIFESTYLE    3.20     3031   \n",
       "912   Super Hearing Secret Voices Recorder PRO    MEDICAL    5.00        3   \n",
       "\n",
       "      Size_MBs   Installs  Type  Price Content_Rating     Genres  \\\n",
       "1323      1.40        100  Free      0       Everyone     Events   \n",
       "8464     27.00  5,000,000  Free      0       Everyone   Shopping   \n",
       "196       3.10         10  Free      0       Everyone   Business   \n",
       "6658      2.70  1,000,000  Free      0       Everyone  Lifestyle   \n",
       "912      23.00        100  Paid  $2.99       Everyone    Medical   \n",
       "\n",
       "        Last_Updated   Android_Ver  \n",
       "1323   July 26, 2018    4.0 and up  \n",
       "8464  August 2, 2018    5.0 and up  \n",
       "196   March 29, 2018  4.0.3 and up  \n",
       "6658    July 3, 2018    4.0 and up  \n",
       "912   April 20, 2018    4.1 and up  "
      ]
     },
     "execution_count": 97,
     "metadata": {},
     "output_type": "execute_result"
    }
   ],
   "source": [
    "df_apps.sample(5)   #gives 5 random rows"
   ]
  },
  {
   "cell_type": "markdown",
   "metadata": {
    "id": "Hh81sMcvdiUI"
   },
   "source": [
    "### Drop Unused Columns\n",
    "\n",
    "**Challenge**: Remove the columns called `Last_Updated` and `Android_Version` from the DataFrame. We will not use these columns. "
   ]
  },
  {
   "cell_type": "code",
   "execution_count": 98,
   "metadata": {
    "id": "fKXFjPkmnuYA"
   },
   "outputs": [
    {
     "name": "stdout",
     "output_type": "stream",
     "text": [
      "Index(['App', 'Category', 'Rating', 'Reviews', 'Size_MBs', 'Installs', 'Type',\n",
      "       'Price', 'Content_Rating', 'Genres', 'Last_Updated', 'Android_Ver'],\n",
      "      dtype='object')\n",
      "(10841, 12)\n"
     ]
    }
   ],
   "source": [
    "print(df_apps.columns)\n",
    "# df_apps = df_apps.drop(['Last_Updated', 'Android_Ver'], axis=1)     # axis=1 specifies that we want to drop certain columns.\n",
    "print(df_apps.shape)"
   ]
  },
  {
   "cell_type": "markdown",
   "metadata": {
    "id": "YQGe1DIKdiUM"
   },
   "source": [
    "### Find and Remove NaN values in Ratings\n",
    "\n",
    "**Challenge**: How may rows have a NaN value (not-a-number) in the Ratings column? Create DataFrame called `df_apps_clean` that does not include these rows. "
   ]
  },
  {
   "cell_type": "code",
   "execution_count": 99,
   "metadata": {
    "id": "t7EMSKAOnyzI"
   },
   "outputs": [
    {
     "name": "stdout",
     "output_type": "stream",
     "text": [
      "(9365, 12)\n"
     ]
    },
    {
     "data": {
      "application/vnd.microsoft.datawrangler.viewer.v0+json": {
       "columns": [
        {
         "name": "index",
         "rawType": "int64",
         "type": "integer"
        },
        {
         "name": "App",
         "rawType": "object",
         "type": "string"
        },
        {
         "name": "Category",
         "rawType": "object",
         "type": "string"
        },
        {
         "name": "Rating",
         "rawType": "float64",
         "type": "float"
        },
        {
         "name": "Reviews",
         "rawType": "int64",
         "type": "integer"
        },
        {
         "name": "Size_MBs",
         "rawType": "float64",
         "type": "float"
        },
        {
         "name": "Installs",
         "rawType": "object",
         "type": "string"
        },
        {
         "name": "Type",
         "rawType": "object",
         "type": "string"
        },
        {
         "name": "Price",
         "rawType": "object",
         "type": "string"
        },
        {
         "name": "Content_Rating",
         "rawType": "object",
         "type": "string"
        },
        {
         "name": "Genres",
         "rawType": "object",
         "type": "string"
        },
        {
         "name": "Last_Updated",
         "rawType": "object",
         "type": "string"
        },
        {
         "name": "Android_Ver",
         "rawType": "object",
         "type": "string"
        }
       ],
       "ref": "c9bf9e0e-0cda-4a0b-906d-c82c8f296afe",
       "rows": [
        [
         "10836",
         "Subway Surfers",
         "GAME",
         "4.5",
         "27723193",
         "76.0",
         "1,000,000,000",
         "Free",
         "0",
         "Everyone 10+",
         "Arcade",
         "July 12, 2018",
         "4.1 and up"
        ],
        [
         "10837",
         "Subway Surfers",
         "GAME",
         "4.5",
         "27724094",
         "76.0",
         "1,000,000,000",
         "Free",
         "0",
         "Everyone 10+",
         "Arcade",
         "July 12, 2018",
         "4.1 and up"
        ],
        [
         "10838",
         "Subway Surfers",
         "GAME",
         "4.5",
         "27725352",
         "76.0",
         "1,000,000,000",
         "Free",
         "0",
         "Everyone 10+",
         "Arcade",
         "July 12, 2018",
         "4.1 and up"
        ],
        [
         "10839",
         "Subway Surfers",
         "GAME",
         "4.5",
         "27725352",
         "76.0",
         "1,000,000,000",
         "Free",
         "0",
         "Everyone 10+",
         "Arcade",
         "July 12, 2018",
         "4.1 and up"
        ],
        [
         "10840",
         "Subway Surfers",
         "GAME",
         "4.5",
         "27711703",
         "76.0",
         "1,000,000,000",
         "Free",
         "0",
         "Everyone 10+",
         "Arcade",
         "July 12, 2018",
         "4.1 and up"
        ]
       ],
       "shape": {
        "columns": 12,
        "rows": 5
       }
      },
      "text/html": [
       "<div>\n",
       "<style scoped>\n",
       "    .dataframe tbody tr th:only-of-type {\n",
       "        vertical-align: middle;\n",
       "    }\n",
       "\n",
       "    .dataframe tbody tr th {\n",
       "        vertical-align: top;\n",
       "    }\n",
       "\n",
       "    .dataframe thead th {\n",
       "        text-align: right;\n",
       "    }\n",
       "</style>\n",
       "<table border=\"1\" class=\"dataframe\">\n",
       "  <thead>\n",
       "    <tr style=\"text-align: right;\">\n",
       "      <th></th>\n",
       "      <th>App</th>\n",
       "      <th>Category</th>\n",
       "      <th>Rating</th>\n",
       "      <th>Reviews</th>\n",
       "      <th>Size_MBs</th>\n",
       "      <th>Installs</th>\n",
       "      <th>Type</th>\n",
       "      <th>Price</th>\n",
       "      <th>Content_Rating</th>\n",
       "      <th>Genres</th>\n",
       "      <th>Last_Updated</th>\n",
       "      <th>Android_Ver</th>\n",
       "    </tr>\n",
       "  </thead>\n",
       "  <tbody>\n",
       "    <tr>\n",
       "      <th>10836</th>\n",
       "      <td>Subway Surfers</td>\n",
       "      <td>GAME</td>\n",
       "      <td>4.50</td>\n",
       "      <td>27723193</td>\n",
       "      <td>76.00</td>\n",
       "      <td>1,000,000,000</td>\n",
       "      <td>Free</td>\n",
       "      <td>0</td>\n",
       "      <td>Everyone 10+</td>\n",
       "      <td>Arcade</td>\n",
       "      <td>July 12, 2018</td>\n",
       "      <td>4.1 and up</td>\n",
       "    </tr>\n",
       "    <tr>\n",
       "      <th>10837</th>\n",
       "      <td>Subway Surfers</td>\n",
       "      <td>GAME</td>\n",
       "      <td>4.50</td>\n",
       "      <td>27724094</td>\n",
       "      <td>76.00</td>\n",
       "      <td>1,000,000,000</td>\n",
       "      <td>Free</td>\n",
       "      <td>0</td>\n",
       "      <td>Everyone 10+</td>\n",
       "      <td>Arcade</td>\n",
       "      <td>July 12, 2018</td>\n",
       "      <td>4.1 and up</td>\n",
       "    </tr>\n",
       "    <tr>\n",
       "      <th>10838</th>\n",
       "      <td>Subway Surfers</td>\n",
       "      <td>GAME</td>\n",
       "      <td>4.50</td>\n",
       "      <td>27725352</td>\n",
       "      <td>76.00</td>\n",
       "      <td>1,000,000,000</td>\n",
       "      <td>Free</td>\n",
       "      <td>0</td>\n",
       "      <td>Everyone 10+</td>\n",
       "      <td>Arcade</td>\n",
       "      <td>July 12, 2018</td>\n",
       "      <td>4.1 and up</td>\n",
       "    </tr>\n",
       "    <tr>\n",
       "      <th>10839</th>\n",
       "      <td>Subway Surfers</td>\n",
       "      <td>GAME</td>\n",
       "      <td>4.50</td>\n",
       "      <td>27725352</td>\n",
       "      <td>76.00</td>\n",
       "      <td>1,000,000,000</td>\n",
       "      <td>Free</td>\n",
       "      <td>0</td>\n",
       "      <td>Everyone 10+</td>\n",
       "      <td>Arcade</td>\n",
       "      <td>July 12, 2018</td>\n",
       "      <td>4.1 and up</td>\n",
       "    </tr>\n",
       "    <tr>\n",
       "      <th>10840</th>\n",
       "      <td>Subway Surfers</td>\n",
       "      <td>GAME</td>\n",
       "      <td>4.50</td>\n",
       "      <td>27711703</td>\n",
       "      <td>76.00</td>\n",
       "      <td>1,000,000,000</td>\n",
       "      <td>Free</td>\n",
       "      <td>0</td>\n",
       "      <td>Everyone 10+</td>\n",
       "      <td>Arcade</td>\n",
       "      <td>July 12, 2018</td>\n",
       "      <td>4.1 and up</td>\n",
       "    </tr>\n",
       "  </tbody>\n",
       "</table>\n",
       "</div>"
      ],
      "text/plain": [
       "                  App Category  Rating   Reviews  Size_MBs       Installs  \\\n",
       "10836  Subway Surfers     GAME    4.50  27723193     76.00  1,000,000,000   \n",
       "10837  Subway Surfers     GAME    4.50  27724094     76.00  1,000,000,000   \n",
       "10838  Subway Surfers     GAME    4.50  27725352     76.00  1,000,000,000   \n",
       "10839  Subway Surfers     GAME    4.50  27725352     76.00  1,000,000,000   \n",
       "10840  Subway Surfers     GAME    4.50  27711703     76.00  1,000,000,000   \n",
       "\n",
       "       Type Price Content_Rating  Genres   Last_Updated Android_Ver  \n",
       "10836  Free     0   Everyone 10+  Arcade  July 12, 2018  4.1 and up  \n",
       "10837  Free     0   Everyone 10+  Arcade  July 12, 2018  4.1 and up  \n",
       "10838  Free     0   Everyone 10+  Arcade  July 12, 2018  4.1 and up  \n",
       "10839  Free     0   Everyone 10+  Arcade  July 12, 2018  4.1 and up  \n",
       "10840  Free     0   Everyone 10+  Arcade  July 12, 2018  4.1 and up  "
      ]
     },
     "execution_count": 99,
     "metadata": {},
     "output_type": "execute_result"
    }
   ],
   "source": [
    "df_apps_clean = df_apps.dropna()\n",
    "print(df_apps_clean.shape)\n",
    "df_apps_clean.tail()"
   ]
  },
  {
   "cell_type": "markdown",
   "metadata": {
    "id": "pD26SWlxdiUV"
   },
   "source": [
    "### Find and Remove Duplicates\n",
    "\n",
    "**Challenge**: Are there any duplicates in data? Check for duplicates using the [.duplicated()](https://pandas.pydata.org/pandas-docs/stable/reference/api/pandas.DataFrame.duplicated.html) function. How many entries can you find for the \"Instagram\" app? Use [.drop_duplicates()](https://pandas.pydata.org/pandas-docs/stable/reference/api/pandas.DataFrame.drop_duplicates.html) to remove any duplicates from `df_apps_clean`. \n"
   ]
  },
  {
   "cell_type": "code",
   "execution_count": 100,
   "metadata": {
    "id": "lE7X6KG3n5pR"
   },
   "outputs": [
    {
     "name": "stdout",
     "output_type": "stream",
     "text": [
      "(9365, 12)\n"
     ]
    },
    {
     "data": {
      "text/plain": [
       "np.int64(474)"
      ]
     },
     "execution_count": 100,
     "metadata": {},
     "output_type": "execute_result"
    }
   ],
   "source": [
    "print(df_apps_clean.shape)\n",
    "df_apps_clean.duplicated().sum()"
   ]
  },
  {
   "cell_type": "code",
   "execution_count": 101,
   "metadata": {
    "id": "GK2rP7wgn53-"
   },
   "outputs": [
    {
     "data": {
      "application/vnd.microsoft.datawrangler.viewer.v0+json": {
       "columns": [
        {
         "name": "index",
         "rawType": "int64",
         "type": "integer"
        },
        {
         "name": "App",
         "rawType": "object",
         "type": "string"
        },
        {
         "name": "Category",
         "rawType": "object",
         "type": "string"
        },
        {
         "name": "Rating",
         "rawType": "float64",
         "type": "float"
        },
        {
         "name": "Reviews",
         "rawType": "int64",
         "type": "integer"
        },
        {
         "name": "Size_MBs",
         "rawType": "float64",
         "type": "float"
        },
        {
         "name": "Installs",
         "rawType": "object",
         "type": "string"
        },
        {
         "name": "Type",
         "rawType": "object",
         "type": "string"
        },
        {
         "name": "Price",
         "rawType": "object",
         "type": "string"
        },
        {
         "name": "Content_Rating",
         "rawType": "object",
         "type": "string"
        },
        {
         "name": "Genres",
         "rawType": "object",
         "type": "string"
        },
        {
         "name": "Last_Updated",
         "rawType": "object",
         "type": "string"
        },
        {
         "name": "Android_Ver",
         "rawType": "object",
         "type": "string"
        }
       ],
       "ref": "af7f8b8b-171a-4c42-ad83-d7449060d67f",
       "rows": [
        [
         "10806",
         "Instagram",
         "SOCIAL",
         "4.5",
         "66577313",
         "5.3",
         "1,000,000,000",
         "Free",
         "0",
         "Teen",
         "Social",
         "July 31, 2018",
         "Varies with device"
        ],
        [
         "10808",
         "Instagram",
         "SOCIAL",
         "4.5",
         "66577446",
         "5.3",
         "1,000,000,000",
         "Free",
         "0",
         "Teen",
         "Social",
         "July 31, 2018",
         "Varies with device"
        ],
        [
         "10809",
         "Instagram",
         "SOCIAL",
         "4.5",
         "66577313",
         "5.3",
         "1,000,000,000",
         "Free",
         "0",
         "Teen",
         "Social",
         "July 31, 2018",
         "Varies with device"
        ],
        [
         "10810",
         "Instagram",
         "SOCIAL",
         "4.5",
         "66509917",
         "5.3",
         "1,000,000,000",
         "Free",
         "0",
         "Teen",
         "Social",
         "July 31, 2018",
         "Varies with device"
        ]
       ],
       "shape": {
        "columns": 12,
        "rows": 4
       }
      },
      "text/html": [
       "<div>\n",
       "<style scoped>\n",
       "    .dataframe tbody tr th:only-of-type {\n",
       "        vertical-align: middle;\n",
       "    }\n",
       "\n",
       "    .dataframe tbody tr th {\n",
       "        vertical-align: top;\n",
       "    }\n",
       "\n",
       "    .dataframe thead th {\n",
       "        text-align: right;\n",
       "    }\n",
       "</style>\n",
       "<table border=\"1\" class=\"dataframe\">\n",
       "  <thead>\n",
       "    <tr style=\"text-align: right;\">\n",
       "      <th></th>\n",
       "      <th>App</th>\n",
       "      <th>Category</th>\n",
       "      <th>Rating</th>\n",
       "      <th>Reviews</th>\n",
       "      <th>Size_MBs</th>\n",
       "      <th>Installs</th>\n",
       "      <th>Type</th>\n",
       "      <th>Price</th>\n",
       "      <th>Content_Rating</th>\n",
       "      <th>Genres</th>\n",
       "      <th>Last_Updated</th>\n",
       "      <th>Android_Ver</th>\n",
       "    </tr>\n",
       "  </thead>\n",
       "  <tbody>\n",
       "    <tr>\n",
       "      <th>10806</th>\n",
       "      <td>Instagram</td>\n",
       "      <td>SOCIAL</td>\n",
       "      <td>4.50</td>\n",
       "      <td>66577313</td>\n",
       "      <td>5.30</td>\n",
       "      <td>1,000,000,000</td>\n",
       "      <td>Free</td>\n",
       "      <td>0</td>\n",
       "      <td>Teen</td>\n",
       "      <td>Social</td>\n",
       "      <td>July 31, 2018</td>\n",
       "      <td>Varies with device</td>\n",
       "    </tr>\n",
       "    <tr>\n",
       "      <th>10808</th>\n",
       "      <td>Instagram</td>\n",
       "      <td>SOCIAL</td>\n",
       "      <td>4.50</td>\n",
       "      <td>66577446</td>\n",
       "      <td>5.30</td>\n",
       "      <td>1,000,000,000</td>\n",
       "      <td>Free</td>\n",
       "      <td>0</td>\n",
       "      <td>Teen</td>\n",
       "      <td>Social</td>\n",
       "      <td>July 31, 2018</td>\n",
       "      <td>Varies with device</td>\n",
       "    </tr>\n",
       "    <tr>\n",
       "      <th>10809</th>\n",
       "      <td>Instagram</td>\n",
       "      <td>SOCIAL</td>\n",
       "      <td>4.50</td>\n",
       "      <td>66577313</td>\n",
       "      <td>5.30</td>\n",
       "      <td>1,000,000,000</td>\n",
       "      <td>Free</td>\n",
       "      <td>0</td>\n",
       "      <td>Teen</td>\n",
       "      <td>Social</td>\n",
       "      <td>July 31, 2018</td>\n",
       "      <td>Varies with device</td>\n",
       "    </tr>\n",
       "    <tr>\n",
       "      <th>10810</th>\n",
       "      <td>Instagram</td>\n",
       "      <td>SOCIAL</td>\n",
       "      <td>4.50</td>\n",
       "      <td>66509917</td>\n",
       "      <td>5.30</td>\n",
       "      <td>1,000,000,000</td>\n",
       "      <td>Free</td>\n",
       "      <td>0</td>\n",
       "      <td>Teen</td>\n",
       "      <td>Social</td>\n",
       "      <td>July 31, 2018</td>\n",
       "      <td>Varies with device</td>\n",
       "    </tr>\n",
       "  </tbody>\n",
       "</table>\n",
       "</div>"
      ],
      "text/plain": [
       "             App Category  Rating   Reviews  Size_MBs       Installs  Type  \\\n",
       "10806  Instagram   SOCIAL    4.50  66577313      5.30  1,000,000,000  Free   \n",
       "10808  Instagram   SOCIAL    4.50  66577446      5.30  1,000,000,000  Free   \n",
       "10809  Instagram   SOCIAL    4.50  66577313      5.30  1,000,000,000  Free   \n",
       "10810  Instagram   SOCIAL    4.50  66509917      5.30  1,000,000,000  Free   \n",
       "\n",
       "      Price Content_Rating  Genres   Last_Updated         Android_Ver  \n",
       "10806     0           Teen  Social  July 31, 2018  Varies with device  \n",
       "10808     0           Teen  Social  July 31, 2018  Varies with device  \n",
       "10809     0           Teen  Social  July 31, 2018  Varies with device  \n",
       "10810     0           Teen  Social  July 31, 2018  Varies with device  "
      ]
     },
     "execution_count": 101,
     "metadata": {},
     "output_type": "execute_result"
    }
   ],
   "source": [
    "df_apps_clean[df_apps_clean.App == 'Instagram']"
   ]
  },
  {
   "cell_type": "code",
   "execution_count": 102,
   "metadata": {
    "id": "Wtt09kiRn6GS"
   },
   "outputs": [
    {
     "data": {
      "application/vnd.microsoft.datawrangler.viewer.v0+json": {
       "columns": [
        {
         "name": "index",
         "rawType": "int64",
         "type": "integer"
        },
        {
         "name": "App",
         "rawType": "object",
         "type": "string"
        },
        {
         "name": "Category",
         "rawType": "object",
         "type": "string"
        },
        {
         "name": "Rating",
         "rawType": "float64",
         "type": "float"
        },
        {
         "name": "Reviews",
         "rawType": "int64",
         "type": "integer"
        },
        {
         "name": "Size_MBs",
         "rawType": "float64",
         "type": "float"
        },
        {
         "name": "Installs",
         "rawType": "object",
         "type": "string"
        },
        {
         "name": "Type",
         "rawType": "object",
         "type": "string"
        },
        {
         "name": "Price",
         "rawType": "object",
         "type": "string"
        },
        {
         "name": "Content_Rating",
         "rawType": "object",
         "type": "string"
        },
        {
         "name": "Genres",
         "rawType": "object",
         "type": "string"
        },
        {
         "name": "Last_Updated",
         "rawType": "object",
         "type": "string"
        },
        {
         "name": "Android_Ver",
         "rawType": "object",
         "type": "string"
        }
       ],
       "ref": "24c9c021-1fcd-41c3-ba73-bca403252093",
       "rows": [
        [
         "21",
         "KBA-EZ Health Guide",
         "MEDICAL",
         "5.0",
         "4",
         "25.0",
         "1",
         "Free",
         "0",
         "Everyone",
         "Medical",
         "August 2, 2018",
         "4.0.3 and up"
        ],
        [
         "28",
         "Ra Ga Ba",
         "GAME",
         "5.0",
         "2",
         "20.0",
         "1",
         "Paid",
         "$1.49",
         "Everyone",
         "Arcade",
         "February 8, 2017",
         "2.3 and up"
        ],
        [
         "47",
         "Mu.F.O.",
         "GAME",
         "5.0",
         "2",
         "16.0",
         "1",
         "Paid",
         "$0.99",
         "Everyone",
         "Arcade",
         "March 3, 2017",
         "2.3 and up"
        ],
        [
         "82",
         "Brick Breaker BR",
         "GAME",
         "5.0",
         "7",
         "19.0",
         "5",
         "Free",
         "0",
         "Everyone",
         "Arcade",
         "July 23, 2018",
         "4.1 and up"
        ],
        [
         "99",
         "Anatomy & Physiology Vocabulary Exam Review App",
         "MEDICAL",
         "5.0",
         "1",
         "4.6",
         "5",
         "Free",
         "0",
         "Everyone",
         "Medical",
         "August 2, 2018",
         "4.0 and up"
        ]
       ],
       "shape": {
        "columns": 12,
        "rows": 5
       }
      },
      "text/html": [
       "<div>\n",
       "<style scoped>\n",
       "    .dataframe tbody tr th:only-of-type {\n",
       "        vertical-align: middle;\n",
       "    }\n",
       "\n",
       "    .dataframe tbody tr th {\n",
       "        vertical-align: top;\n",
       "    }\n",
       "\n",
       "    .dataframe thead th {\n",
       "        text-align: right;\n",
       "    }\n",
       "</style>\n",
       "<table border=\"1\" class=\"dataframe\">\n",
       "  <thead>\n",
       "    <tr style=\"text-align: right;\">\n",
       "      <th></th>\n",
       "      <th>App</th>\n",
       "      <th>Category</th>\n",
       "      <th>Rating</th>\n",
       "      <th>Reviews</th>\n",
       "      <th>Size_MBs</th>\n",
       "      <th>Installs</th>\n",
       "      <th>Type</th>\n",
       "      <th>Price</th>\n",
       "      <th>Content_Rating</th>\n",
       "      <th>Genres</th>\n",
       "      <th>Last_Updated</th>\n",
       "      <th>Android_Ver</th>\n",
       "    </tr>\n",
       "  </thead>\n",
       "  <tbody>\n",
       "    <tr>\n",
       "      <th>21</th>\n",
       "      <td>KBA-EZ Health Guide</td>\n",
       "      <td>MEDICAL</td>\n",
       "      <td>5.00</td>\n",
       "      <td>4</td>\n",
       "      <td>25.00</td>\n",
       "      <td>1</td>\n",
       "      <td>Free</td>\n",
       "      <td>0</td>\n",
       "      <td>Everyone</td>\n",
       "      <td>Medical</td>\n",
       "      <td>August 2, 2018</td>\n",
       "      <td>4.0.3 and up</td>\n",
       "    </tr>\n",
       "    <tr>\n",
       "      <th>28</th>\n",
       "      <td>Ra Ga Ba</td>\n",
       "      <td>GAME</td>\n",
       "      <td>5.00</td>\n",
       "      <td>2</td>\n",
       "      <td>20.00</td>\n",
       "      <td>1</td>\n",
       "      <td>Paid</td>\n",
       "      <td>$1.49</td>\n",
       "      <td>Everyone</td>\n",
       "      <td>Arcade</td>\n",
       "      <td>February 8, 2017</td>\n",
       "      <td>2.3 and up</td>\n",
       "    </tr>\n",
       "    <tr>\n",
       "      <th>47</th>\n",
       "      <td>Mu.F.O.</td>\n",
       "      <td>GAME</td>\n",
       "      <td>5.00</td>\n",
       "      <td>2</td>\n",
       "      <td>16.00</td>\n",
       "      <td>1</td>\n",
       "      <td>Paid</td>\n",
       "      <td>$0.99</td>\n",
       "      <td>Everyone</td>\n",
       "      <td>Arcade</td>\n",
       "      <td>March 3, 2017</td>\n",
       "      <td>2.3 and up</td>\n",
       "    </tr>\n",
       "    <tr>\n",
       "      <th>82</th>\n",
       "      <td>Brick Breaker BR</td>\n",
       "      <td>GAME</td>\n",
       "      <td>5.00</td>\n",
       "      <td>7</td>\n",
       "      <td>19.00</td>\n",
       "      <td>5</td>\n",
       "      <td>Free</td>\n",
       "      <td>0</td>\n",
       "      <td>Everyone</td>\n",
       "      <td>Arcade</td>\n",
       "      <td>July 23, 2018</td>\n",
       "      <td>4.1 and up</td>\n",
       "    </tr>\n",
       "    <tr>\n",
       "      <th>99</th>\n",
       "      <td>Anatomy &amp; Physiology Vocabulary Exam Review App</td>\n",
       "      <td>MEDICAL</td>\n",
       "      <td>5.00</td>\n",
       "      <td>1</td>\n",
       "      <td>4.60</td>\n",
       "      <td>5</td>\n",
       "      <td>Free</td>\n",
       "      <td>0</td>\n",
       "      <td>Everyone</td>\n",
       "      <td>Medical</td>\n",
       "      <td>August 2, 2018</td>\n",
       "      <td>4.0 and up</td>\n",
       "    </tr>\n",
       "  </tbody>\n",
       "</table>\n",
       "</div>"
      ],
      "text/plain": [
       "                                                App Category  Rating  Reviews  \\\n",
       "21                              KBA-EZ Health Guide  MEDICAL    5.00        4   \n",
       "28                                         Ra Ga Ba     GAME    5.00        2   \n",
       "47                                          Mu.F.O.     GAME    5.00        2   \n",
       "82                                 Brick Breaker BR     GAME    5.00        7   \n",
       "99  Anatomy & Physiology Vocabulary Exam Review App  MEDICAL    5.00        1   \n",
       "\n",
       "    Size_MBs Installs  Type  Price Content_Rating   Genres      Last_Updated  \\\n",
       "21     25.00        1  Free      0       Everyone  Medical    August 2, 2018   \n",
       "28     20.00        1  Paid  $1.49       Everyone   Arcade  February 8, 2017   \n",
       "47     16.00        1  Paid  $0.99       Everyone   Arcade     March 3, 2017   \n",
       "82     19.00        5  Free      0       Everyone   Arcade     July 23, 2018   \n",
       "99      4.60        5  Free      0       Everyone  Medical    August 2, 2018   \n",
       "\n",
       "     Android_Ver  \n",
       "21  4.0.3 and up  \n",
       "28    2.3 and up  \n",
       "47    2.3 and up  \n",
       "82    4.1 and up  \n",
       "99    4.0 and up  "
      ]
     },
     "execution_count": 102,
     "metadata": {},
     "output_type": "execute_result"
    }
   ],
   "source": [
    "df_apps_clean = df_apps_clean.drop_duplicates(subset=['App', 'Type', 'Price'])\n",
    "df_apps_clean.head()"
   ]
  },
  {
   "cell_type": "code",
   "execution_count": 103,
   "metadata": {
    "id": "30yZCwtKn5xC"
   },
   "outputs": [
    {
     "data": {
      "text/plain": [
       "(8197, 12)"
      ]
     },
     "execution_count": 103,
     "metadata": {},
     "output_type": "execute_result"
    }
   ],
   "source": [
    "df_apps_clean.shape"
   ]
  },
  {
   "cell_type": "markdown",
   "metadata": {
    "id": "GJrM69CfdiUh"
   },
   "source": [
    "# Find Highest Rated Apps\n",
    "\n",
    "**Challenge**: Identify which apps are the highest rated. What problem might you encounter if you rely exclusively on ratings alone to determine the quality of an app?"
   ]
  },
  {
   "cell_type": "code",
   "execution_count": 104,
   "metadata": {
    "id": "rp7vFHBMn7st"
   },
   "outputs": [
    {
     "data": {
      "application/vnd.microsoft.datawrangler.viewer.v0+json": {
       "columns": [
        {
         "name": "index",
         "rawType": "int64",
         "type": "integer"
        },
        {
         "name": "App",
         "rawType": "object",
         "type": "string"
        },
        {
         "name": "Category",
         "rawType": "object",
         "type": "string"
        },
        {
         "name": "Rating",
         "rawType": "float64",
         "type": "float"
        },
        {
         "name": "Reviews",
         "rawType": "int64",
         "type": "integer"
        },
        {
         "name": "Size_MBs",
         "rawType": "float64",
         "type": "float"
        },
        {
         "name": "Installs",
         "rawType": "object",
         "type": "string"
        },
        {
         "name": "Type",
         "rawType": "object",
         "type": "string"
        },
        {
         "name": "Price",
         "rawType": "object",
         "type": "string"
        },
        {
         "name": "Content_Rating",
         "rawType": "object",
         "type": "string"
        },
        {
         "name": "Genres",
         "rawType": "object",
         "type": "string"
        },
        {
         "name": "Last_Updated",
         "rawType": "object",
         "type": "string"
        },
        {
         "name": "Android_Ver",
         "rawType": "object",
         "type": "string"
        }
       ],
       "ref": "b6e50e23-7880-4c0d-a1ed-ac505d064cb0",
       "rows": [
        [
         "411",
         "EC SPORTS",
         "SPORTS",
         "5.0",
         "1",
         "6.3",
         "10",
         "Free",
         "0",
         "Everyone",
         "Sports",
         "May 26, 2015",
         "2.3.3 and up"
        ],
        [
         "531",
         "PrimeDelivery",
         "MEDICAL",
         "5.0",
         "3",
         "53.0",
         "10",
         "Free",
         "0",
         "Everyone",
         "Medical",
         "July 13, 2018",
         "4.1 and up"
        ],
        [
         "521",
         "Hum Ek Hain 2.02",
         "SOCIAL",
         "5.0",
         "2",
         "1.8",
         "10",
         "Free",
         "0",
         "Teen",
         "Social",
         "March 18, 2018",
         "5.0 and up"
        ],
        [
         "534",
         "Hey AJ! It's Bedtime!",
         "FAMILY",
         "5.0",
         "1",
         "63.0",
         "10",
         "Paid",
         "$4.99",
         "Everyone",
         "Education",
         "April 4, 2018",
         "2.3 and up"
        ],
        [
         "538",
         "You're an Anime",
         "MEDICAL",
         "5.0",
         "2",
         "83.0",
         "10",
         "Free",
         "0",
         "Everyone",
         "Medical",
         "July 12, 2018",
         "5.0 and up"
        ]
       ],
       "shape": {
        "columns": 12,
        "rows": 5
       }
      },
      "text/html": [
       "<div>\n",
       "<style scoped>\n",
       "    .dataframe tbody tr th:only-of-type {\n",
       "        vertical-align: middle;\n",
       "    }\n",
       "\n",
       "    .dataframe tbody tr th {\n",
       "        vertical-align: top;\n",
       "    }\n",
       "\n",
       "    .dataframe thead th {\n",
       "        text-align: right;\n",
       "    }\n",
       "</style>\n",
       "<table border=\"1\" class=\"dataframe\">\n",
       "  <thead>\n",
       "    <tr style=\"text-align: right;\">\n",
       "      <th></th>\n",
       "      <th>App</th>\n",
       "      <th>Category</th>\n",
       "      <th>Rating</th>\n",
       "      <th>Reviews</th>\n",
       "      <th>Size_MBs</th>\n",
       "      <th>Installs</th>\n",
       "      <th>Type</th>\n",
       "      <th>Price</th>\n",
       "      <th>Content_Rating</th>\n",
       "      <th>Genres</th>\n",
       "      <th>Last_Updated</th>\n",
       "      <th>Android_Ver</th>\n",
       "    </tr>\n",
       "  </thead>\n",
       "  <tbody>\n",
       "    <tr>\n",
       "      <th>411</th>\n",
       "      <td>EC SPORTS</td>\n",
       "      <td>SPORTS</td>\n",
       "      <td>5.00</td>\n",
       "      <td>1</td>\n",
       "      <td>6.30</td>\n",
       "      <td>10</td>\n",
       "      <td>Free</td>\n",
       "      <td>0</td>\n",
       "      <td>Everyone</td>\n",
       "      <td>Sports</td>\n",
       "      <td>May 26, 2015</td>\n",
       "      <td>2.3.3 and up</td>\n",
       "    </tr>\n",
       "    <tr>\n",
       "      <th>531</th>\n",
       "      <td>PrimeDelivery</td>\n",
       "      <td>MEDICAL</td>\n",
       "      <td>5.00</td>\n",
       "      <td>3</td>\n",
       "      <td>53.00</td>\n",
       "      <td>10</td>\n",
       "      <td>Free</td>\n",
       "      <td>0</td>\n",
       "      <td>Everyone</td>\n",
       "      <td>Medical</td>\n",
       "      <td>July 13, 2018</td>\n",
       "      <td>4.1 and up</td>\n",
       "    </tr>\n",
       "    <tr>\n",
       "      <th>521</th>\n",
       "      <td>Hum Ek Hain 2.02</td>\n",
       "      <td>SOCIAL</td>\n",
       "      <td>5.00</td>\n",
       "      <td>2</td>\n",
       "      <td>1.80</td>\n",
       "      <td>10</td>\n",
       "      <td>Free</td>\n",
       "      <td>0</td>\n",
       "      <td>Teen</td>\n",
       "      <td>Social</td>\n",
       "      <td>March 18, 2018</td>\n",
       "      <td>5.0 and up</td>\n",
       "    </tr>\n",
       "    <tr>\n",
       "      <th>534</th>\n",
       "      <td>Hey AJ! It's Bedtime!</td>\n",
       "      <td>FAMILY</td>\n",
       "      <td>5.00</td>\n",
       "      <td>1</td>\n",
       "      <td>63.00</td>\n",
       "      <td>10</td>\n",
       "      <td>Paid</td>\n",
       "      <td>$4.99</td>\n",
       "      <td>Everyone</td>\n",
       "      <td>Education</td>\n",
       "      <td>April 4, 2018</td>\n",
       "      <td>2.3 and up</td>\n",
       "    </tr>\n",
       "    <tr>\n",
       "      <th>538</th>\n",
       "      <td>You're an Anime</td>\n",
       "      <td>MEDICAL</td>\n",
       "      <td>5.00</td>\n",
       "      <td>2</td>\n",
       "      <td>83.00</td>\n",
       "      <td>10</td>\n",
       "      <td>Free</td>\n",
       "      <td>0</td>\n",
       "      <td>Everyone</td>\n",
       "      <td>Medical</td>\n",
       "      <td>July 12, 2018</td>\n",
       "      <td>5.0 and up</td>\n",
       "    </tr>\n",
       "  </tbody>\n",
       "</table>\n",
       "</div>"
      ],
      "text/plain": [
       "                       App Category  Rating  Reviews  Size_MBs Installs  Type  \\\n",
       "411              EC SPORTS   SPORTS    5.00        1      6.30       10  Free   \n",
       "531          PrimeDelivery  MEDICAL    5.00        3     53.00       10  Free   \n",
       "521       Hum Ek Hain 2.02   SOCIAL    5.00        2      1.80       10  Free   \n",
       "534  Hey AJ! It's Bedtime!   FAMILY    5.00        1     63.00       10  Paid   \n",
       "538        You're an Anime  MEDICAL    5.00        2     83.00       10  Free   \n",
       "\n",
       "     Price Content_Rating     Genres    Last_Updated   Android_Ver  \n",
       "411      0       Everyone     Sports    May 26, 2015  2.3.3 and up  \n",
       "531      0       Everyone    Medical   July 13, 2018    4.1 and up  \n",
       "521      0           Teen     Social  March 18, 2018    5.0 and up  \n",
       "534  $4.99       Everyone  Education   April 4, 2018    2.3 and up  \n",
       "538      0       Everyone    Medical   July 12, 2018    5.0 and up  "
      ]
     },
     "execution_count": 104,
     "metadata": {},
     "output_type": "execute_result"
    }
   ],
   "source": [
    "df_apps_clean.sort_values(by='Rating', ascending=False).head()     # Sorting values by Rating"
   ]
  },
  {
   "cell_type": "markdown",
   "metadata": {
    "id": "28o1Tro4diUi"
   },
   "source": [
    "# Find 5 Largest Apps in terms of Size (MBs)\n",
    "\n",
    "**Challenge**: What's the size in megabytes (MB) of the largest Android apps in the Google Play Store. Based on the data, do you think there could be limit in place or can developers make apps as large as they please? "
   ]
  },
  {
   "cell_type": "code",
   "execution_count": 105,
   "metadata": {
    "id": "n5r0pJCOn9Vu"
   },
   "outputs": [
    {
     "data": {
      "application/vnd.microsoft.datawrangler.viewer.v0+json": {
       "columns": [
        {
         "name": "index",
         "rawType": "int64",
         "type": "integer"
        },
        {
         "name": "App",
         "rawType": "object",
         "type": "string"
        },
        {
         "name": "Category",
         "rawType": "object",
         "type": "string"
        },
        {
         "name": "Rating",
         "rawType": "float64",
         "type": "float"
        },
        {
         "name": "Reviews",
         "rawType": "int64",
         "type": "integer"
        },
        {
         "name": "Size_MBs",
         "rawType": "float64",
         "type": "float"
        },
        {
         "name": "Installs",
         "rawType": "object",
         "type": "string"
        },
        {
         "name": "Type",
         "rawType": "object",
         "type": "string"
        },
        {
         "name": "Price",
         "rawType": "object",
         "type": "string"
        },
        {
         "name": "Content_Rating",
         "rawType": "object",
         "type": "string"
        },
        {
         "name": "Genres",
         "rawType": "object",
         "type": "string"
        },
        {
         "name": "Last_Updated",
         "rawType": "object",
         "type": "string"
        },
        {
         "name": "Android_Ver",
         "rawType": "object",
         "type": "string"
        }
       ],
       "ref": "bbbd14e1-5323-4d81-aef8-21c1205ad5c8",
       "rows": [
        [
         "7928",
         "Stickman Legends: Shadow Wars",
         "GAME",
         "4.4",
         "38419",
         "100.0",
         "1,000,000",
         "Paid",
         "$0.99",
         "Everyone 10+",
         "Action",
         "August 3, 2018",
         "4.1 and up"
        ],
        [
         "7926",
         "Post Bank",
         "FINANCE",
         "4.5",
         "60449",
         "100.0",
         "1,000,000",
         "Free",
         "0",
         "Everyone",
         "Finance",
         "July 23, 2018",
         "4.0 and up"
        ],
        [
         "7927",
         "The Walking Dead: Our World",
         "GAME",
         "4.0",
         "22435",
         "100.0",
         "1,000,000",
         "Free",
         "0",
         "Teen",
         "Action",
         "August 1, 2018",
         "5.0 and up"
        ],
        [
         "3144",
         "Vi Trainer",
         "HEALTH_AND_FITNESS",
         "3.6",
         "124",
         "100.0",
         "5,000",
         "Free",
         "0",
         "Everyone",
         "Health & Fitness",
         "August 2, 2018",
         "5.0 and up"
        ],
        [
         "1795",
         "Navi Radiography Pro",
         "MEDICAL",
         "4.7",
         "11",
         "100.0",
         "500",
         "Paid",
         "$15.99",
         "Everyone",
         "Medical",
         "January 14, 2018",
         "4.0.3 and up"
        ]
       ],
       "shape": {
        "columns": 12,
        "rows": 5
       }
      },
      "text/html": [
       "<div>\n",
       "<style scoped>\n",
       "    .dataframe tbody tr th:only-of-type {\n",
       "        vertical-align: middle;\n",
       "    }\n",
       "\n",
       "    .dataframe tbody tr th {\n",
       "        vertical-align: top;\n",
       "    }\n",
       "\n",
       "    .dataframe thead th {\n",
       "        text-align: right;\n",
       "    }\n",
       "</style>\n",
       "<table border=\"1\" class=\"dataframe\">\n",
       "  <thead>\n",
       "    <tr style=\"text-align: right;\">\n",
       "      <th></th>\n",
       "      <th>App</th>\n",
       "      <th>Category</th>\n",
       "      <th>Rating</th>\n",
       "      <th>Reviews</th>\n",
       "      <th>Size_MBs</th>\n",
       "      <th>Installs</th>\n",
       "      <th>Type</th>\n",
       "      <th>Price</th>\n",
       "      <th>Content_Rating</th>\n",
       "      <th>Genres</th>\n",
       "      <th>Last_Updated</th>\n",
       "      <th>Android_Ver</th>\n",
       "    </tr>\n",
       "  </thead>\n",
       "  <tbody>\n",
       "    <tr>\n",
       "      <th>7928</th>\n",
       "      <td>Stickman Legends: Shadow Wars</td>\n",
       "      <td>GAME</td>\n",
       "      <td>4.40</td>\n",
       "      <td>38419</td>\n",
       "      <td>100.00</td>\n",
       "      <td>1,000,000</td>\n",
       "      <td>Paid</td>\n",
       "      <td>$0.99</td>\n",
       "      <td>Everyone 10+</td>\n",
       "      <td>Action</td>\n",
       "      <td>August 3, 2018</td>\n",
       "      <td>4.1 and up</td>\n",
       "    </tr>\n",
       "    <tr>\n",
       "      <th>7926</th>\n",
       "      <td>Post Bank</td>\n",
       "      <td>FINANCE</td>\n",
       "      <td>4.50</td>\n",
       "      <td>60449</td>\n",
       "      <td>100.00</td>\n",
       "      <td>1,000,000</td>\n",
       "      <td>Free</td>\n",
       "      <td>0</td>\n",
       "      <td>Everyone</td>\n",
       "      <td>Finance</td>\n",
       "      <td>July 23, 2018</td>\n",
       "      <td>4.0 and up</td>\n",
       "    </tr>\n",
       "    <tr>\n",
       "      <th>7927</th>\n",
       "      <td>The Walking Dead: Our World</td>\n",
       "      <td>GAME</td>\n",
       "      <td>4.00</td>\n",
       "      <td>22435</td>\n",
       "      <td>100.00</td>\n",
       "      <td>1,000,000</td>\n",
       "      <td>Free</td>\n",
       "      <td>0</td>\n",
       "      <td>Teen</td>\n",
       "      <td>Action</td>\n",
       "      <td>August 1, 2018</td>\n",
       "      <td>5.0 and up</td>\n",
       "    </tr>\n",
       "    <tr>\n",
       "      <th>3144</th>\n",
       "      <td>Vi Trainer</td>\n",
       "      <td>HEALTH_AND_FITNESS</td>\n",
       "      <td>3.60</td>\n",
       "      <td>124</td>\n",
       "      <td>100.00</td>\n",
       "      <td>5,000</td>\n",
       "      <td>Free</td>\n",
       "      <td>0</td>\n",
       "      <td>Everyone</td>\n",
       "      <td>Health &amp; Fitness</td>\n",
       "      <td>August 2, 2018</td>\n",
       "      <td>5.0 and up</td>\n",
       "    </tr>\n",
       "    <tr>\n",
       "      <th>1795</th>\n",
       "      <td>Navi Radiography Pro</td>\n",
       "      <td>MEDICAL</td>\n",
       "      <td>4.70</td>\n",
       "      <td>11</td>\n",
       "      <td>100.00</td>\n",
       "      <td>500</td>\n",
       "      <td>Paid</td>\n",
       "      <td>$15.99</td>\n",
       "      <td>Everyone</td>\n",
       "      <td>Medical</td>\n",
       "      <td>January 14, 2018</td>\n",
       "      <td>4.0.3 and up</td>\n",
       "    </tr>\n",
       "  </tbody>\n",
       "</table>\n",
       "</div>"
      ],
      "text/plain": [
       "                                App            Category  Rating  Reviews  \\\n",
       "7928  Stickman Legends: Shadow Wars                GAME    4.40    38419   \n",
       "7926                      Post Bank             FINANCE    4.50    60449   \n",
       "7927    The Walking Dead: Our World                GAME    4.00    22435   \n",
       "3144                     Vi Trainer  HEALTH_AND_FITNESS    3.60      124   \n",
       "1795           Navi Radiography Pro             MEDICAL    4.70       11   \n",
       "\n",
       "      Size_MBs   Installs  Type   Price Content_Rating            Genres  \\\n",
       "7928    100.00  1,000,000  Paid   $0.99   Everyone 10+            Action   \n",
       "7926    100.00  1,000,000  Free       0       Everyone           Finance   \n",
       "7927    100.00  1,000,000  Free       0           Teen            Action   \n",
       "3144    100.00      5,000  Free       0       Everyone  Health & Fitness   \n",
       "1795    100.00        500  Paid  $15.99       Everyone           Medical   \n",
       "\n",
       "          Last_Updated   Android_Ver  \n",
       "7928    August 3, 2018    4.1 and up  \n",
       "7926     July 23, 2018    4.0 and up  \n",
       "7927    August 1, 2018    5.0 and up  \n",
       "3144    August 2, 2018    5.0 and up  \n",
       "1795  January 14, 2018  4.0.3 and up  "
      ]
     },
     "execution_count": 105,
     "metadata": {},
     "output_type": "execute_result"
    }
   ],
   "source": [
    "df_apps_clean.sort_values(by='Size_MBs', ascending=False).head()     # Sorting values by Rating"
   ]
  },
  {
   "cell_type": "markdown",
   "metadata": {
    "id": "C3gTckh7diUk"
   },
   "source": [
    "# Find the 5 App with Most Reviews\n",
    "\n",
    "**Challenge**: Which apps have the highest number of reviews? Are there any paid apps among the top 50?"
   ]
  },
  {
   "cell_type": "code",
   "execution_count": 106,
   "metadata": {
    "id": "TLt98G0Sn_De"
   },
   "outputs": [
    {
     "data": {
      "application/vnd.microsoft.datawrangler.viewer.v0+json": {
       "columns": [
        {
         "name": "index",
         "rawType": "int64",
         "type": "integer"
        },
        {
         "name": "App",
         "rawType": "object",
         "type": "string"
        },
        {
         "name": "Category",
         "rawType": "object",
         "type": "string"
        },
        {
         "name": "Rating",
         "rawType": "float64",
         "type": "float"
        },
        {
         "name": "Reviews",
         "rawType": "int64",
         "type": "integer"
        },
        {
         "name": "Size_MBs",
         "rawType": "float64",
         "type": "float"
        },
        {
         "name": "Installs",
         "rawType": "object",
         "type": "string"
        },
        {
         "name": "Type",
         "rawType": "object",
         "type": "string"
        },
        {
         "name": "Price",
         "rawType": "object",
         "type": "string"
        },
        {
         "name": "Content_Rating",
         "rawType": "object",
         "type": "string"
        },
        {
         "name": "Genres",
         "rawType": "object",
         "type": "string"
        },
        {
         "name": "Last_Updated",
         "rawType": "object",
         "type": "string"
        },
        {
         "name": "Android_Ver",
         "rawType": "object",
         "type": "string"
        }
       ],
       "ref": "e8874bb5-02bd-482b-9925-2c61845ac797",
       "rows": [
        [
         "10805",
         "Facebook",
         "SOCIAL",
         "4.1",
         "78158306",
         "5.3",
         "1,000,000,000",
         "Free",
         "0",
         "Teen",
         "Social",
         "August 3, 2018",
         "Varies with device"
        ],
        [
         "10785",
         "WhatsApp Messenger",
         "COMMUNICATION",
         "4.4",
         "69119316",
         "3.5",
         "1,000,000,000",
         "Free",
         "0",
         "Everyone",
         "Communication",
         "August 3, 2018",
         "Varies with device"
        ],
        [
         "10806",
         "Instagram",
         "SOCIAL",
         "4.5",
         "66577313",
         "5.3",
         "1,000,000,000",
         "Free",
         "0",
         "Teen",
         "Social",
         "July 31, 2018",
         "Varies with device"
        ],
        [
         "10784",
         "Messenger – Text and Video Chat for Free",
         "COMMUNICATION",
         "4.0",
         "56642847",
         "3.5",
         "1,000,000,000",
         "Free",
         "0",
         "Everyone",
         "Communication",
         "August 1, 2018",
         "Varies with device"
        ],
        [
         "10650",
         "Clash of Clans",
         "GAME",
         "4.6",
         "44891723",
         "98.0",
         "100,000,000",
         "Free",
         "0",
         "Everyone 10+",
         "Strategy",
         "July 15, 2018",
         "4.1 and up"
        ]
       ],
       "shape": {
        "columns": 12,
        "rows": 5
       }
      },
      "text/html": [
       "<div>\n",
       "<style scoped>\n",
       "    .dataframe tbody tr th:only-of-type {\n",
       "        vertical-align: middle;\n",
       "    }\n",
       "\n",
       "    .dataframe tbody tr th {\n",
       "        vertical-align: top;\n",
       "    }\n",
       "\n",
       "    .dataframe thead th {\n",
       "        text-align: right;\n",
       "    }\n",
       "</style>\n",
       "<table border=\"1\" class=\"dataframe\">\n",
       "  <thead>\n",
       "    <tr style=\"text-align: right;\">\n",
       "      <th></th>\n",
       "      <th>App</th>\n",
       "      <th>Category</th>\n",
       "      <th>Rating</th>\n",
       "      <th>Reviews</th>\n",
       "      <th>Size_MBs</th>\n",
       "      <th>Installs</th>\n",
       "      <th>Type</th>\n",
       "      <th>Price</th>\n",
       "      <th>Content_Rating</th>\n",
       "      <th>Genres</th>\n",
       "      <th>Last_Updated</th>\n",
       "      <th>Android_Ver</th>\n",
       "    </tr>\n",
       "  </thead>\n",
       "  <tbody>\n",
       "    <tr>\n",
       "      <th>10805</th>\n",
       "      <td>Facebook</td>\n",
       "      <td>SOCIAL</td>\n",
       "      <td>4.10</td>\n",
       "      <td>78158306</td>\n",
       "      <td>5.30</td>\n",
       "      <td>1,000,000,000</td>\n",
       "      <td>Free</td>\n",
       "      <td>0</td>\n",
       "      <td>Teen</td>\n",
       "      <td>Social</td>\n",
       "      <td>August 3, 2018</td>\n",
       "      <td>Varies with device</td>\n",
       "    </tr>\n",
       "    <tr>\n",
       "      <th>10785</th>\n",
       "      <td>WhatsApp Messenger</td>\n",
       "      <td>COMMUNICATION</td>\n",
       "      <td>4.40</td>\n",
       "      <td>69119316</td>\n",
       "      <td>3.50</td>\n",
       "      <td>1,000,000,000</td>\n",
       "      <td>Free</td>\n",
       "      <td>0</td>\n",
       "      <td>Everyone</td>\n",
       "      <td>Communication</td>\n",
       "      <td>August 3, 2018</td>\n",
       "      <td>Varies with device</td>\n",
       "    </tr>\n",
       "    <tr>\n",
       "      <th>10806</th>\n",
       "      <td>Instagram</td>\n",
       "      <td>SOCIAL</td>\n",
       "      <td>4.50</td>\n",
       "      <td>66577313</td>\n",
       "      <td>5.30</td>\n",
       "      <td>1,000,000,000</td>\n",
       "      <td>Free</td>\n",
       "      <td>0</td>\n",
       "      <td>Teen</td>\n",
       "      <td>Social</td>\n",
       "      <td>July 31, 2018</td>\n",
       "      <td>Varies with device</td>\n",
       "    </tr>\n",
       "    <tr>\n",
       "      <th>10784</th>\n",
       "      <td>Messenger – Text and Video Chat for Free</td>\n",
       "      <td>COMMUNICATION</td>\n",
       "      <td>4.00</td>\n",
       "      <td>56642847</td>\n",
       "      <td>3.50</td>\n",
       "      <td>1,000,000,000</td>\n",
       "      <td>Free</td>\n",
       "      <td>0</td>\n",
       "      <td>Everyone</td>\n",
       "      <td>Communication</td>\n",
       "      <td>August 1, 2018</td>\n",
       "      <td>Varies with device</td>\n",
       "    </tr>\n",
       "    <tr>\n",
       "      <th>10650</th>\n",
       "      <td>Clash of Clans</td>\n",
       "      <td>GAME</td>\n",
       "      <td>4.60</td>\n",
       "      <td>44891723</td>\n",
       "      <td>98.00</td>\n",
       "      <td>100,000,000</td>\n",
       "      <td>Free</td>\n",
       "      <td>0</td>\n",
       "      <td>Everyone 10+</td>\n",
       "      <td>Strategy</td>\n",
       "      <td>July 15, 2018</td>\n",
       "      <td>4.1 and up</td>\n",
       "    </tr>\n",
       "  </tbody>\n",
       "</table>\n",
       "</div>"
      ],
      "text/plain": [
       "                                            App       Category  Rating  \\\n",
       "10805                                  Facebook         SOCIAL    4.10   \n",
       "10785                        WhatsApp Messenger  COMMUNICATION    4.40   \n",
       "10806                                 Instagram         SOCIAL    4.50   \n",
       "10784  Messenger – Text and Video Chat for Free  COMMUNICATION    4.00   \n",
       "10650                            Clash of Clans           GAME    4.60   \n",
       "\n",
       "        Reviews  Size_MBs       Installs  Type Price Content_Rating  \\\n",
       "10805  78158306      5.30  1,000,000,000  Free     0           Teen   \n",
       "10785  69119316      3.50  1,000,000,000  Free     0       Everyone   \n",
       "10806  66577313      5.30  1,000,000,000  Free     0           Teen   \n",
       "10784  56642847      3.50  1,000,000,000  Free     0       Everyone   \n",
       "10650  44891723     98.00    100,000,000  Free     0   Everyone 10+   \n",
       "\n",
       "              Genres    Last_Updated         Android_Ver  \n",
       "10805         Social  August 3, 2018  Varies with device  \n",
       "10785  Communication  August 3, 2018  Varies with device  \n",
       "10806         Social   July 31, 2018  Varies with device  \n",
       "10784  Communication  August 1, 2018  Varies with device  \n",
       "10650       Strategy   July 15, 2018          4.1 and up  "
      ]
     },
     "execution_count": 106,
     "metadata": {},
     "output_type": "execute_result"
    }
   ],
   "source": [
    "most_reviews = df_apps_clean.sort_values(by='Reviews', ascending=False)     # Sorting values by Reviews and getting the highest\n",
    "most_reviews.head()"
   ]
  },
  {
   "cell_type": "markdown",
   "metadata": {
    "id": "BFoRqpezjebe"
   },
   "source": [
    "# Plotly Pie and Donut Charts - Visualise Categorical Data: Content Ratings"
   ]
  },
  {
   "cell_type": "code",
   "execution_count": 107,
   "metadata": {
    "id": "c0IIxNGnoFKM"
   },
   "outputs": [],
   "source": [
    "ratings = df_apps_clean.Content_Rating.value_counts()"
   ]
  },
  {
   "cell_type": "code",
   "execution_count": 108,
   "metadata": {
    "id": "TSiV6ZkjoFVg"
   },
   "outputs": [
    {
     "data": {
      "application/vnd.plotly.v1+json": {
       "config": {
        "plotlyServerURL": "https://plot.ly"
       },
       "data": [
        {
         "domain": {
          "x": [
           0,
           1
          ],
          "y": [
           0,
           1
          ]
         },
         "hovertemplate": "label=%{label}<br>value=%{value}<extra></extra>",
         "labels": [
          "Everyone",
          "Teen",
          "Mature 17+",
          "Everyone 10+",
          "Adults only 18+",
          "Unrated"
         ],
         "legendgroup": "",
         "name": "",
         "showlegend": true,
         "textinfo": "percent+label",
         "textposition": "outside",
         "type": "pie",
         "values": {
          "bdata": "2xmQA2UBMQEDAAEA",
          "dtype": "i2"
         }
        }
       ],
       "layout": {
        "legend": {
         "tracegroupgap": 0
        },
        "template": {
         "data": {
          "bar": [
           {
            "error_x": {
             "color": "#2a3f5f"
            },
            "error_y": {
             "color": "#2a3f5f"
            },
            "marker": {
             "line": {
              "color": "#E5ECF6",
              "width": 0.5
             },
             "pattern": {
              "fillmode": "overlay",
              "size": 10,
              "solidity": 0.2
             }
            },
            "type": "bar"
           }
          ],
          "barpolar": [
           {
            "marker": {
             "line": {
              "color": "#E5ECF6",
              "width": 0.5
             },
             "pattern": {
              "fillmode": "overlay",
              "size": 10,
              "solidity": 0.2
             }
            },
            "type": "barpolar"
           }
          ],
          "carpet": [
           {
            "aaxis": {
             "endlinecolor": "#2a3f5f",
             "gridcolor": "white",
             "linecolor": "white",
             "minorgridcolor": "white",
             "startlinecolor": "#2a3f5f"
            },
            "baxis": {
             "endlinecolor": "#2a3f5f",
             "gridcolor": "white",
             "linecolor": "white",
             "minorgridcolor": "white",
             "startlinecolor": "#2a3f5f"
            },
            "type": "carpet"
           }
          ],
          "choropleth": [
           {
            "colorbar": {
             "outlinewidth": 0,
             "ticks": ""
            },
            "type": "choropleth"
           }
          ],
          "contour": [
           {
            "colorbar": {
             "outlinewidth": 0,
             "ticks": ""
            },
            "colorscale": [
             [
              0,
              "#0d0887"
             ],
             [
              0.1111111111111111,
              "#46039f"
             ],
             [
              0.2222222222222222,
              "#7201a8"
             ],
             [
              0.3333333333333333,
              "#9c179e"
             ],
             [
              0.4444444444444444,
              "#bd3786"
             ],
             [
              0.5555555555555556,
              "#d8576b"
             ],
             [
              0.6666666666666666,
              "#ed7953"
             ],
             [
              0.7777777777777778,
              "#fb9f3a"
             ],
             [
              0.8888888888888888,
              "#fdca26"
             ],
             [
              1,
              "#f0f921"
             ]
            ],
            "type": "contour"
           }
          ],
          "contourcarpet": [
           {
            "colorbar": {
             "outlinewidth": 0,
             "ticks": ""
            },
            "type": "contourcarpet"
           }
          ],
          "heatmap": [
           {
            "colorbar": {
             "outlinewidth": 0,
             "ticks": ""
            },
            "colorscale": [
             [
              0,
              "#0d0887"
             ],
             [
              0.1111111111111111,
              "#46039f"
             ],
             [
              0.2222222222222222,
              "#7201a8"
             ],
             [
              0.3333333333333333,
              "#9c179e"
             ],
             [
              0.4444444444444444,
              "#bd3786"
             ],
             [
              0.5555555555555556,
              "#d8576b"
             ],
             [
              0.6666666666666666,
              "#ed7953"
             ],
             [
              0.7777777777777778,
              "#fb9f3a"
             ],
             [
              0.8888888888888888,
              "#fdca26"
             ],
             [
              1,
              "#f0f921"
             ]
            ],
            "type": "heatmap"
           }
          ],
          "histogram": [
           {
            "marker": {
             "pattern": {
              "fillmode": "overlay",
              "size": 10,
              "solidity": 0.2
             }
            },
            "type": "histogram"
           }
          ],
          "histogram2d": [
           {
            "colorbar": {
             "outlinewidth": 0,
             "ticks": ""
            },
            "colorscale": [
             [
              0,
              "#0d0887"
             ],
             [
              0.1111111111111111,
              "#46039f"
             ],
             [
              0.2222222222222222,
              "#7201a8"
             ],
             [
              0.3333333333333333,
              "#9c179e"
             ],
             [
              0.4444444444444444,
              "#bd3786"
             ],
             [
              0.5555555555555556,
              "#d8576b"
             ],
             [
              0.6666666666666666,
              "#ed7953"
             ],
             [
              0.7777777777777778,
              "#fb9f3a"
             ],
             [
              0.8888888888888888,
              "#fdca26"
             ],
             [
              1,
              "#f0f921"
             ]
            ],
            "type": "histogram2d"
           }
          ],
          "histogram2dcontour": [
           {
            "colorbar": {
             "outlinewidth": 0,
             "ticks": ""
            },
            "colorscale": [
             [
              0,
              "#0d0887"
             ],
             [
              0.1111111111111111,
              "#46039f"
             ],
             [
              0.2222222222222222,
              "#7201a8"
             ],
             [
              0.3333333333333333,
              "#9c179e"
             ],
             [
              0.4444444444444444,
              "#bd3786"
             ],
             [
              0.5555555555555556,
              "#d8576b"
             ],
             [
              0.6666666666666666,
              "#ed7953"
             ],
             [
              0.7777777777777778,
              "#fb9f3a"
             ],
             [
              0.8888888888888888,
              "#fdca26"
             ],
             [
              1,
              "#f0f921"
             ]
            ],
            "type": "histogram2dcontour"
           }
          ],
          "mesh3d": [
           {
            "colorbar": {
             "outlinewidth": 0,
             "ticks": ""
            },
            "type": "mesh3d"
           }
          ],
          "parcoords": [
           {
            "line": {
             "colorbar": {
              "outlinewidth": 0,
              "ticks": ""
             }
            },
            "type": "parcoords"
           }
          ],
          "pie": [
           {
            "automargin": true,
            "type": "pie"
           }
          ],
          "scatter": [
           {
            "fillpattern": {
             "fillmode": "overlay",
             "size": 10,
             "solidity": 0.2
            },
            "type": "scatter"
           }
          ],
          "scatter3d": [
           {
            "line": {
             "colorbar": {
              "outlinewidth": 0,
              "ticks": ""
             }
            },
            "marker": {
             "colorbar": {
              "outlinewidth": 0,
              "ticks": ""
             }
            },
            "type": "scatter3d"
           }
          ],
          "scattercarpet": [
           {
            "marker": {
             "colorbar": {
              "outlinewidth": 0,
              "ticks": ""
             }
            },
            "type": "scattercarpet"
           }
          ],
          "scattergeo": [
           {
            "marker": {
             "colorbar": {
              "outlinewidth": 0,
              "ticks": ""
             }
            },
            "type": "scattergeo"
           }
          ],
          "scattergl": [
           {
            "marker": {
             "colorbar": {
              "outlinewidth": 0,
              "ticks": ""
             }
            },
            "type": "scattergl"
           }
          ],
          "scattermap": [
           {
            "marker": {
             "colorbar": {
              "outlinewidth": 0,
              "ticks": ""
             }
            },
            "type": "scattermap"
           }
          ],
          "scattermapbox": [
           {
            "marker": {
             "colorbar": {
              "outlinewidth": 0,
              "ticks": ""
             }
            },
            "type": "scattermapbox"
           }
          ],
          "scatterpolar": [
           {
            "marker": {
             "colorbar": {
              "outlinewidth": 0,
              "ticks": ""
             }
            },
            "type": "scatterpolar"
           }
          ],
          "scatterpolargl": [
           {
            "marker": {
             "colorbar": {
              "outlinewidth": 0,
              "ticks": ""
             }
            },
            "type": "scatterpolargl"
           }
          ],
          "scatterternary": [
           {
            "marker": {
             "colorbar": {
              "outlinewidth": 0,
              "ticks": ""
             }
            },
            "type": "scatterternary"
           }
          ],
          "surface": [
           {
            "colorbar": {
             "outlinewidth": 0,
             "ticks": ""
            },
            "colorscale": [
             [
              0,
              "#0d0887"
             ],
             [
              0.1111111111111111,
              "#46039f"
             ],
             [
              0.2222222222222222,
              "#7201a8"
             ],
             [
              0.3333333333333333,
              "#9c179e"
             ],
             [
              0.4444444444444444,
              "#bd3786"
             ],
             [
              0.5555555555555556,
              "#d8576b"
             ],
             [
              0.6666666666666666,
              "#ed7953"
             ],
             [
              0.7777777777777778,
              "#fb9f3a"
             ],
             [
              0.8888888888888888,
              "#fdca26"
             ],
             [
              1,
              "#f0f921"
             ]
            ],
            "type": "surface"
           }
          ],
          "table": [
           {
            "cells": {
             "fill": {
              "color": "#EBF0F8"
             },
             "line": {
              "color": "white"
             }
            },
            "header": {
             "fill": {
              "color": "#C8D4E3"
             },
             "line": {
              "color": "white"
             }
            },
            "type": "table"
           }
          ]
         },
         "layout": {
          "annotationdefaults": {
           "arrowcolor": "#2a3f5f",
           "arrowhead": 0,
           "arrowwidth": 1
          },
          "autotypenumbers": "strict",
          "coloraxis": {
           "colorbar": {
            "outlinewidth": 0,
            "ticks": ""
           }
          },
          "colorscale": {
           "diverging": [
            [
             0,
             "#8e0152"
            ],
            [
             0.1,
             "#c51b7d"
            ],
            [
             0.2,
             "#de77ae"
            ],
            [
             0.3,
             "#f1b6da"
            ],
            [
             0.4,
             "#fde0ef"
            ],
            [
             0.5,
             "#f7f7f7"
            ],
            [
             0.6,
             "#e6f5d0"
            ],
            [
             0.7,
             "#b8e186"
            ],
            [
             0.8,
             "#7fbc41"
            ],
            [
             0.9,
             "#4d9221"
            ],
            [
             1,
             "#276419"
            ]
           ],
           "sequential": [
            [
             0,
             "#0d0887"
            ],
            [
             0.1111111111111111,
             "#46039f"
            ],
            [
             0.2222222222222222,
             "#7201a8"
            ],
            [
             0.3333333333333333,
             "#9c179e"
            ],
            [
             0.4444444444444444,
             "#bd3786"
            ],
            [
             0.5555555555555556,
             "#d8576b"
            ],
            [
             0.6666666666666666,
             "#ed7953"
            ],
            [
             0.7777777777777778,
             "#fb9f3a"
            ],
            [
             0.8888888888888888,
             "#fdca26"
            ],
            [
             1,
             "#f0f921"
            ]
           ],
           "sequentialminus": [
            [
             0,
             "#0d0887"
            ],
            [
             0.1111111111111111,
             "#46039f"
            ],
            [
             0.2222222222222222,
             "#7201a8"
            ],
            [
             0.3333333333333333,
             "#9c179e"
            ],
            [
             0.4444444444444444,
             "#bd3786"
            ],
            [
             0.5555555555555556,
             "#d8576b"
            ],
            [
             0.6666666666666666,
             "#ed7953"
            ],
            [
             0.7777777777777778,
             "#fb9f3a"
            ],
            [
             0.8888888888888888,
             "#fdca26"
            ],
            [
             1,
             "#f0f921"
            ]
           ]
          },
          "colorway": [
           "#636efa",
           "#EF553B",
           "#00cc96",
           "#ab63fa",
           "#FFA15A",
           "#19d3f3",
           "#FF6692",
           "#B6E880",
           "#FF97FF",
           "#FECB52"
          ],
          "font": {
           "color": "#2a3f5f"
          },
          "geo": {
           "bgcolor": "white",
           "lakecolor": "white",
           "landcolor": "#E5ECF6",
           "showlakes": true,
           "showland": true,
           "subunitcolor": "white"
          },
          "hoverlabel": {
           "align": "left"
          },
          "hovermode": "closest",
          "mapbox": {
           "style": "light"
          },
          "paper_bgcolor": "white",
          "plot_bgcolor": "#E5ECF6",
          "polar": {
           "angularaxis": {
            "gridcolor": "white",
            "linecolor": "white",
            "ticks": ""
           },
           "bgcolor": "#E5ECF6",
           "radialaxis": {
            "gridcolor": "white",
            "linecolor": "white",
            "ticks": ""
           }
          },
          "scene": {
           "xaxis": {
            "backgroundcolor": "#E5ECF6",
            "gridcolor": "white",
            "gridwidth": 2,
            "linecolor": "white",
            "showbackground": true,
            "ticks": "",
            "zerolinecolor": "white"
           },
           "yaxis": {
            "backgroundcolor": "#E5ECF6",
            "gridcolor": "white",
            "gridwidth": 2,
            "linecolor": "white",
            "showbackground": true,
            "ticks": "",
            "zerolinecolor": "white"
           },
           "zaxis": {
            "backgroundcolor": "#E5ECF6",
            "gridcolor": "white",
            "gridwidth": 2,
            "linecolor": "white",
            "showbackground": true,
            "ticks": "",
            "zerolinecolor": "white"
           }
          },
          "shapedefaults": {
           "line": {
            "color": "#2a3f5f"
           }
          },
          "ternary": {
           "aaxis": {
            "gridcolor": "white",
            "linecolor": "white",
            "ticks": ""
           },
           "baxis": {
            "gridcolor": "white",
            "linecolor": "white",
            "ticks": ""
           },
           "bgcolor": "#E5ECF6",
           "caxis": {
            "gridcolor": "white",
            "linecolor": "white",
            "ticks": ""
           }
          },
          "title": {
           "x": 0.05
          },
          "xaxis": {
           "automargin": true,
           "gridcolor": "white",
           "linecolor": "white",
           "ticks": "",
           "title": {
            "standoff": 15
           },
           "zerolinecolor": "white",
           "zerolinewidth": 2
          },
          "yaxis": {
           "automargin": true,
           "gridcolor": "white",
           "linecolor": "white",
           "ticks": "",
           "title": {
            "standoff": 15
           },
           "zerolinecolor": "white",
           "zerolinewidth": 2
          }
         }
        },
        "title": {
         "text": "Content Ratings"
        }
       }
      }
     },
     "metadata": {},
     "output_type": "display_data"
    }
   ],
   "source": [
    "fig = px.pie(labels=ratings.index, \n",
    "             values=ratings.values,\n",
    "             title='Content Ratings',\n",
    "             names=ratings.index\n",
    "             )\n",
    "fig.update_traces(textposition='outside', textinfo='percent+label')\n",
    "fig.show()"
   ]
  },
  {
   "cell_type": "code",
   "execution_count": 109,
   "metadata": {
    "id": "6ZaHYNy2oFEE"
   },
   "outputs": [
    {
     "data": {
      "application/vnd.plotly.v1+json": {
       "config": {
        "plotlyServerURL": "https://plot.ly"
       },
       "data": [
        {
         "domain": {
          "x": [
           0,
           1
          ],
          "y": [
           0,
           1
          ]
         },
         "hole": 0.5,
         "hovertemplate": "label=%{label}<br>value=%{value}<extra></extra>",
         "labels": [
          "Everyone",
          "Teen",
          "Mature 17+",
          "Everyone 10+",
          "Adults only 18+",
          "Unrated"
         ],
         "legendgroup": "",
         "name": "",
         "showlegend": true,
         "textfont": {
          "size": 15
         },
         "textinfo": "percent",
         "textposition": "inside",
         "type": "pie",
         "values": {
          "bdata": "2xmQA2UBMQEDAAEA",
          "dtype": "i2"
         }
        }
       ],
       "layout": {
        "legend": {
         "tracegroupgap": 0
        },
        "template": {
         "data": {
          "bar": [
           {
            "error_x": {
             "color": "#2a3f5f"
            },
            "error_y": {
             "color": "#2a3f5f"
            },
            "marker": {
             "line": {
              "color": "#E5ECF6",
              "width": 0.5
             },
             "pattern": {
              "fillmode": "overlay",
              "size": 10,
              "solidity": 0.2
             }
            },
            "type": "bar"
           }
          ],
          "barpolar": [
           {
            "marker": {
             "line": {
              "color": "#E5ECF6",
              "width": 0.5
             },
             "pattern": {
              "fillmode": "overlay",
              "size": 10,
              "solidity": 0.2
             }
            },
            "type": "barpolar"
           }
          ],
          "carpet": [
           {
            "aaxis": {
             "endlinecolor": "#2a3f5f",
             "gridcolor": "white",
             "linecolor": "white",
             "minorgridcolor": "white",
             "startlinecolor": "#2a3f5f"
            },
            "baxis": {
             "endlinecolor": "#2a3f5f",
             "gridcolor": "white",
             "linecolor": "white",
             "minorgridcolor": "white",
             "startlinecolor": "#2a3f5f"
            },
            "type": "carpet"
           }
          ],
          "choropleth": [
           {
            "colorbar": {
             "outlinewidth": 0,
             "ticks": ""
            },
            "type": "choropleth"
           }
          ],
          "contour": [
           {
            "colorbar": {
             "outlinewidth": 0,
             "ticks": ""
            },
            "colorscale": [
             [
              0,
              "#0d0887"
             ],
             [
              0.1111111111111111,
              "#46039f"
             ],
             [
              0.2222222222222222,
              "#7201a8"
             ],
             [
              0.3333333333333333,
              "#9c179e"
             ],
             [
              0.4444444444444444,
              "#bd3786"
             ],
             [
              0.5555555555555556,
              "#d8576b"
             ],
             [
              0.6666666666666666,
              "#ed7953"
             ],
             [
              0.7777777777777778,
              "#fb9f3a"
             ],
             [
              0.8888888888888888,
              "#fdca26"
             ],
             [
              1,
              "#f0f921"
             ]
            ],
            "type": "contour"
           }
          ],
          "contourcarpet": [
           {
            "colorbar": {
             "outlinewidth": 0,
             "ticks": ""
            },
            "type": "contourcarpet"
           }
          ],
          "heatmap": [
           {
            "colorbar": {
             "outlinewidth": 0,
             "ticks": ""
            },
            "colorscale": [
             [
              0,
              "#0d0887"
             ],
             [
              0.1111111111111111,
              "#46039f"
             ],
             [
              0.2222222222222222,
              "#7201a8"
             ],
             [
              0.3333333333333333,
              "#9c179e"
             ],
             [
              0.4444444444444444,
              "#bd3786"
             ],
             [
              0.5555555555555556,
              "#d8576b"
             ],
             [
              0.6666666666666666,
              "#ed7953"
             ],
             [
              0.7777777777777778,
              "#fb9f3a"
             ],
             [
              0.8888888888888888,
              "#fdca26"
             ],
             [
              1,
              "#f0f921"
             ]
            ],
            "type": "heatmap"
           }
          ],
          "histogram": [
           {
            "marker": {
             "pattern": {
              "fillmode": "overlay",
              "size": 10,
              "solidity": 0.2
             }
            },
            "type": "histogram"
           }
          ],
          "histogram2d": [
           {
            "colorbar": {
             "outlinewidth": 0,
             "ticks": ""
            },
            "colorscale": [
             [
              0,
              "#0d0887"
             ],
             [
              0.1111111111111111,
              "#46039f"
             ],
             [
              0.2222222222222222,
              "#7201a8"
             ],
             [
              0.3333333333333333,
              "#9c179e"
             ],
             [
              0.4444444444444444,
              "#bd3786"
             ],
             [
              0.5555555555555556,
              "#d8576b"
             ],
             [
              0.6666666666666666,
              "#ed7953"
             ],
             [
              0.7777777777777778,
              "#fb9f3a"
             ],
             [
              0.8888888888888888,
              "#fdca26"
             ],
             [
              1,
              "#f0f921"
             ]
            ],
            "type": "histogram2d"
           }
          ],
          "histogram2dcontour": [
           {
            "colorbar": {
             "outlinewidth": 0,
             "ticks": ""
            },
            "colorscale": [
             [
              0,
              "#0d0887"
             ],
             [
              0.1111111111111111,
              "#46039f"
             ],
             [
              0.2222222222222222,
              "#7201a8"
             ],
             [
              0.3333333333333333,
              "#9c179e"
             ],
             [
              0.4444444444444444,
              "#bd3786"
             ],
             [
              0.5555555555555556,
              "#d8576b"
             ],
             [
              0.6666666666666666,
              "#ed7953"
             ],
             [
              0.7777777777777778,
              "#fb9f3a"
             ],
             [
              0.8888888888888888,
              "#fdca26"
             ],
             [
              1,
              "#f0f921"
             ]
            ],
            "type": "histogram2dcontour"
           }
          ],
          "mesh3d": [
           {
            "colorbar": {
             "outlinewidth": 0,
             "ticks": ""
            },
            "type": "mesh3d"
           }
          ],
          "parcoords": [
           {
            "line": {
             "colorbar": {
              "outlinewidth": 0,
              "ticks": ""
             }
            },
            "type": "parcoords"
           }
          ],
          "pie": [
           {
            "automargin": true,
            "type": "pie"
           }
          ],
          "scatter": [
           {
            "fillpattern": {
             "fillmode": "overlay",
             "size": 10,
             "solidity": 0.2
            },
            "type": "scatter"
           }
          ],
          "scatter3d": [
           {
            "line": {
             "colorbar": {
              "outlinewidth": 0,
              "ticks": ""
             }
            },
            "marker": {
             "colorbar": {
              "outlinewidth": 0,
              "ticks": ""
             }
            },
            "type": "scatter3d"
           }
          ],
          "scattercarpet": [
           {
            "marker": {
             "colorbar": {
              "outlinewidth": 0,
              "ticks": ""
             }
            },
            "type": "scattercarpet"
           }
          ],
          "scattergeo": [
           {
            "marker": {
             "colorbar": {
              "outlinewidth": 0,
              "ticks": ""
             }
            },
            "type": "scattergeo"
           }
          ],
          "scattergl": [
           {
            "marker": {
             "colorbar": {
              "outlinewidth": 0,
              "ticks": ""
             }
            },
            "type": "scattergl"
           }
          ],
          "scattermap": [
           {
            "marker": {
             "colorbar": {
              "outlinewidth": 0,
              "ticks": ""
             }
            },
            "type": "scattermap"
           }
          ],
          "scattermapbox": [
           {
            "marker": {
             "colorbar": {
              "outlinewidth": 0,
              "ticks": ""
             }
            },
            "type": "scattermapbox"
           }
          ],
          "scatterpolar": [
           {
            "marker": {
             "colorbar": {
              "outlinewidth": 0,
              "ticks": ""
             }
            },
            "type": "scatterpolar"
           }
          ],
          "scatterpolargl": [
           {
            "marker": {
             "colorbar": {
              "outlinewidth": 0,
              "ticks": ""
             }
            },
            "type": "scatterpolargl"
           }
          ],
          "scatterternary": [
           {
            "marker": {
             "colorbar": {
              "outlinewidth": 0,
              "ticks": ""
             }
            },
            "type": "scatterternary"
           }
          ],
          "surface": [
           {
            "colorbar": {
             "outlinewidth": 0,
             "ticks": ""
            },
            "colorscale": [
             [
              0,
              "#0d0887"
             ],
             [
              0.1111111111111111,
              "#46039f"
             ],
             [
              0.2222222222222222,
              "#7201a8"
             ],
             [
              0.3333333333333333,
              "#9c179e"
             ],
             [
              0.4444444444444444,
              "#bd3786"
             ],
             [
              0.5555555555555556,
              "#d8576b"
             ],
             [
              0.6666666666666666,
              "#ed7953"
             ],
             [
              0.7777777777777778,
              "#fb9f3a"
             ],
             [
              0.8888888888888888,
              "#fdca26"
             ],
             [
              1,
              "#f0f921"
             ]
            ],
            "type": "surface"
           }
          ],
          "table": [
           {
            "cells": {
             "fill": {
              "color": "#EBF0F8"
             },
             "line": {
              "color": "white"
             }
            },
            "header": {
             "fill": {
              "color": "#C8D4E3"
             },
             "line": {
              "color": "white"
             }
            },
            "type": "table"
           }
          ]
         },
         "layout": {
          "annotationdefaults": {
           "arrowcolor": "#2a3f5f",
           "arrowhead": 0,
           "arrowwidth": 1
          },
          "autotypenumbers": "strict",
          "coloraxis": {
           "colorbar": {
            "outlinewidth": 0,
            "ticks": ""
           }
          },
          "colorscale": {
           "diverging": [
            [
             0,
             "#8e0152"
            ],
            [
             0.1,
             "#c51b7d"
            ],
            [
             0.2,
             "#de77ae"
            ],
            [
             0.3,
             "#f1b6da"
            ],
            [
             0.4,
             "#fde0ef"
            ],
            [
             0.5,
             "#f7f7f7"
            ],
            [
             0.6,
             "#e6f5d0"
            ],
            [
             0.7,
             "#b8e186"
            ],
            [
             0.8,
             "#7fbc41"
            ],
            [
             0.9,
             "#4d9221"
            ],
            [
             1,
             "#276419"
            ]
           ],
           "sequential": [
            [
             0,
             "#0d0887"
            ],
            [
             0.1111111111111111,
             "#46039f"
            ],
            [
             0.2222222222222222,
             "#7201a8"
            ],
            [
             0.3333333333333333,
             "#9c179e"
            ],
            [
             0.4444444444444444,
             "#bd3786"
            ],
            [
             0.5555555555555556,
             "#d8576b"
            ],
            [
             0.6666666666666666,
             "#ed7953"
            ],
            [
             0.7777777777777778,
             "#fb9f3a"
            ],
            [
             0.8888888888888888,
             "#fdca26"
            ],
            [
             1,
             "#f0f921"
            ]
           ],
           "sequentialminus": [
            [
             0,
             "#0d0887"
            ],
            [
             0.1111111111111111,
             "#46039f"
            ],
            [
             0.2222222222222222,
             "#7201a8"
            ],
            [
             0.3333333333333333,
             "#9c179e"
            ],
            [
             0.4444444444444444,
             "#bd3786"
            ],
            [
             0.5555555555555556,
             "#d8576b"
            ],
            [
             0.6666666666666666,
             "#ed7953"
            ],
            [
             0.7777777777777778,
             "#fb9f3a"
            ],
            [
             0.8888888888888888,
             "#fdca26"
            ],
            [
             1,
             "#f0f921"
            ]
           ]
          },
          "colorway": [
           "#636efa",
           "#EF553B",
           "#00cc96",
           "#ab63fa",
           "#FFA15A",
           "#19d3f3",
           "#FF6692",
           "#B6E880",
           "#FF97FF",
           "#FECB52"
          ],
          "font": {
           "color": "#2a3f5f"
          },
          "geo": {
           "bgcolor": "white",
           "lakecolor": "white",
           "landcolor": "#E5ECF6",
           "showlakes": true,
           "showland": true,
           "subunitcolor": "white"
          },
          "hoverlabel": {
           "align": "left"
          },
          "hovermode": "closest",
          "mapbox": {
           "style": "light"
          },
          "paper_bgcolor": "white",
          "plot_bgcolor": "#E5ECF6",
          "polar": {
           "angularaxis": {
            "gridcolor": "white",
            "linecolor": "white",
            "ticks": ""
           },
           "bgcolor": "#E5ECF6",
           "radialaxis": {
            "gridcolor": "white",
            "linecolor": "white",
            "ticks": ""
           }
          },
          "scene": {
           "xaxis": {
            "backgroundcolor": "#E5ECF6",
            "gridcolor": "white",
            "gridwidth": 2,
            "linecolor": "white",
            "showbackground": true,
            "ticks": "",
            "zerolinecolor": "white"
           },
           "yaxis": {
            "backgroundcolor": "#E5ECF6",
            "gridcolor": "white",
            "gridwidth": 2,
            "linecolor": "white",
            "showbackground": true,
            "ticks": "",
            "zerolinecolor": "white"
           },
           "zaxis": {
            "backgroundcolor": "#E5ECF6",
            "gridcolor": "white",
            "gridwidth": 2,
            "linecolor": "white",
            "showbackground": true,
            "ticks": "",
            "zerolinecolor": "white"
           }
          },
          "shapedefaults": {
           "line": {
            "color": "#2a3f5f"
           }
          },
          "ternary": {
           "aaxis": {
            "gridcolor": "white",
            "linecolor": "white",
            "ticks": ""
           },
           "baxis": {
            "gridcolor": "white",
            "linecolor": "white",
            "ticks": ""
           },
           "bgcolor": "#E5ECF6",
           "caxis": {
            "gridcolor": "white",
            "linecolor": "white",
            "ticks": ""
           }
          },
          "title": {
           "x": 0.05
          },
          "xaxis": {
           "automargin": true,
           "gridcolor": "white",
           "linecolor": "white",
           "ticks": "",
           "title": {
            "standoff": 15
           },
           "zerolinecolor": "white",
           "zerolinewidth": 2
          },
          "yaxis": {
           "automargin": true,
           "gridcolor": "white",
           "linecolor": "white",
           "ticks": "",
           "title": {
            "standoff": 15
           },
           "zerolinecolor": "white",
           "zerolinewidth": 2
          }
         }
        },
        "title": {
         "text": "Content Ratings"
        }
       }
      }
     },
     "metadata": {},
     "output_type": "display_data"
    }
   ],
   "source": [
    "fig = px.pie(labels=ratings.index, \n",
    "             values=ratings.values,\n",
    "             title='Content Ratings',\n",
    "             names=ratings.index,\n",
    "             hole=0.5\n",
    "             )\n",
    "fig.update_traces(textposition='inside', textfont_size=15, textinfo='percent')\n",
    "fig.show()"
   ]
  },
  {
   "cell_type": "markdown",
   "metadata": {
    "id": "RoPpW37xdiUm"
   },
   "source": [
    "# Numeric Type Conversion: Examine the Number of Installs\n",
    "\n",
    "**Challenge**: How many apps had over 1 billion (that's right - BILLION) installations? How many apps just had a single install? \n",
    "\n",
    "Check the datatype of the Installs column.\n",
    "\n",
    "Count the number of apps at each level of installations. \n",
    "\n",
    "Convert the number of installations (the Installs column) to a numeric data type. Hint: this is a 2-step process. You'll have make sure you remove non-numeric characters first. "
   ]
  },
  {
   "cell_type": "code",
   "execution_count": 110,
   "metadata": {
    "id": "yzR49fYcoJRI"
   },
   "outputs": [
    {
     "data": {
      "application/vnd.microsoft.datawrangler.viewer.v0+json": {
       "columns": [
        {
         "name": "index",
         "rawType": "int64",
         "type": "integer"
        },
        {
         "name": "App",
         "rawType": "object",
         "type": "string"
        },
        {
         "name": "Category",
         "rawType": "object",
         "type": "string"
        },
        {
         "name": "Rating",
         "rawType": "float64",
         "type": "float"
        },
        {
         "name": "Reviews",
         "rawType": "int64",
         "type": "integer"
        },
        {
         "name": "Size_MBs",
         "rawType": "float64",
         "type": "float"
        },
        {
         "name": "Installs",
         "rawType": "object",
         "type": "string"
        },
        {
         "name": "Type",
         "rawType": "object",
         "type": "string"
        },
        {
         "name": "Price",
         "rawType": "object",
         "type": "string"
        },
        {
         "name": "Content_Rating",
         "rawType": "object",
         "type": "string"
        },
        {
         "name": "Genres",
         "rawType": "object",
         "type": "string"
        },
        {
         "name": "Last_Updated",
         "rawType": "object",
         "type": "string"
        },
        {
         "name": "Android_Ver",
         "rawType": "object",
         "type": "string"
        }
       ],
       "ref": "5e84a218-a0ae-481d-9047-bc6e7530ff02",
       "rows": [
        [
         "10783",
         "Google Play Books",
         "BOOKS_AND_REFERENCE",
         "3.9",
         "1433233",
         "5.7",
         "1,000,000,000",
         "Free",
         "0",
         "Teen",
         "Books & Reference",
         "August 3, 2018",
         "Varies with device"
        ],
        [
         "10784",
         "Messenger – Text and Video Chat for Free",
         "COMMUNICATION",
         "4.0",
         "56642847",
         "3.5",
         "1,000,000,000",
         "Free",
         "0",
         "Everyone",
         "Communication",
         "August 1, 2018",
         "Varies with device"
        ],
        [
         "10785",
         "WhatsApp Messenger",
         "COMMUNICATION",
         "4.4",
         "69119316",
         "3.5",
         "1,000,000,000",
         "Free",
         "0",
         "Everyone",
         "Communication",
         "August 3, 2018",
         "Varies with device"
        ],
        [
         "10786",
         "Google Chrome: Fast & Secure",
         "COMMUNICATION",
         "4.3",
         "9642995",
         "3.5",
         "1,000,000,000",
         "Free",
         "0",
         "Everyone",
         "Communication",
         "August 1, 2018",
         "Varies with device"
        ],
        [
         "10787",
         "Gmail",
         "COMMUNICATION",
         "4.3",
         "4604324",
         "3.5",
         "1,000,000,000",
         "Free",
         "0",
         "Everyone",
         "Communication",
         "August 2, 2018",
         "Varies with device"
        ],
        [
         "10788",
         "Hangouts",
         "COMMUNICATION",
         "4.0",
         "3419249",
         "3.5",
         "1,000,000,000",
         "Free",
         "0",
         "Everyone",
         "Communication",
         "July 21, 2018",
         "Varies with device"
        ],
        [
         "10792",
         "Skype - free IM & video calls",
         "COMMUNICATION",
         "4.1",
         "10484169",
         "3.5",
         "1,000,000,000",
         "Free",
         "0",
         "Everyone",
         "Communication",
         "August 3, 2018",
         "Varies with device"
        ],
        [
         "10803",
         "Google Play Games",
         "ENTERTAINMENT",
         "4.3",
         "7165362",
         "9.35",
         "1,000,000,000",
         "Free",
         "0",
         "Teen",
         "Entertainment",
         "July 16, 2018",
         "Varies with device"
        ],
        [
         "10805",
         "Facebook",
         "SOCIAL",
         "4.1",
         "78158306",
         "5.3",
         "1,000,000,000",
         "Free",
         "0",
         "Teen",
         "Social",
         "August 3, 2018",
         "Varies with device"
        ],
        [
         "10806",
         "Instagram",
         "SOCIAL",
         "4.5",
         "66577313",
         "5.3",
         "1,000,000,000",
         "Free",
         "0",
         "Teen",
         "Social",
         "July 31, 2018",
         "Varies with device"
        ],
        [
         "10807",
         "Google+",
         "SOCIAL",
         "4.2",
         "4831125",
         "5.3",
         "1,000,000,000",
         "Free",
         "0",
         "Teen",
         "Social",
         "July 26, 2018",
         "Varies with device"
        ],
        [
         "10813",
         "Google Photos",
         "PHOTOGRAPHY",
         "4.5",
         "10858556",
         "6.9",
         "1,000,000,000",
         "Free",
         "0",
         "Everyone",
         "Photography",
         "August 6, 2018",
         "Varies with device"
        ],
        [
         "10817",
         "Maps - Navigate & Explore",
         "TRAVEL_AND_LOCAL",
         "4.3",
         "9235155",
         "12.0",
         "1,000,000,000",
         "Free",
         "0",
         "Everyone",
         "Travel & Local",
         "July 31, 2018",
         "Varies with device"
        ],
        [
         "10818",
         "Google Street View",
         "TRAVEL_AND_LOCAL",
         "4.2",
         "2129689",
         "12.0",
         "1,000,000,000",
         "Free",
         "0",
         "Everyone",
         "Travel & Local",
         "August 6, 2018",
         "Varies with device"
        ],
        [
         "10822",
         "Google",
         "TOOLS",
         "4.4",
         "8033493",
         "3.4",
         "1,000,000,000",
         "Free",
         "0",
         "Everyone",
         "Tools",
         "August 3, 2018",
         "Varies with device"
        ],
        [
         "10824",
         "Google Drive",
         "PRODUCTIVITY",
         "4.4",
         "2731171",
         "4.0",
         "1,000,000,000",
         "Free",
         "0",
         "Everyone",
         "Productivity",
         "August 6, 2018",
         "Varies with device"
        ],
        [
         "10828",
         "YouTube",
         "VIDEO_PLAYERS",
         "4.3",
         "25655305",
         "4.65",
         "1,000,000,000",
         "Free",
         "0",
         "Teen",
         "Video Players & Editors",
         "August 2, 2018",
         "Varies with device"
        ],
        [
         "10829",
         "Google Play Movies & TV",
         "VIDEO_PLAYERS",
         "3.7",
         "906384",
         "4.65",
         "1,000,000,000",
         "Free",
         "0",
         "Teen",
         "Video Players & Editors",
         "August 6, 2018",
         "Varies with device"
        ],
        [
         "10831",
         "Google News",
         "NEWS_AND_MAGAZINES",
         "3.9",
         "877635",
         "13.0",
         "1,000,000,000",
         "Free",
         "0",
         "Teen",
         "News & Magazines",
         "August 1, 2018",
         "4.4 and up"
        ],
        [
         "10835",
         "Subway Surfers",
         "GAME",
         "4.5",
         "27722264",
         "76.0",
         "1,000,000,000",
         "Free",
         "0",
         "Everyone 10+",
         "Arcade",
         "July 12, 2018",
         "4.1 and up"
        ]
       ],
       "shape": {
        "columns": 12,
        "rows": 20
       }
      },
      "text/html": [
       "<div>\n",
       "<style scoped>\n",
       "    .dataframe tbody tr th:only-of-type {\n",
       "        vertical-align: middle;\n",
       "    }\n",
       "\n",
       "    .dataframe tbody tr th {\n",
       "        vertical-align: top;\n",
       "    }\n",
       "\n",
       "    .dataframe thead th {\n",
       "        text-align: right;\n",
       "    }\n",
       "</style>\n",
       "<table border=\"1\" class=\"dataframe\">\n",
       "  <thead>\n",
       "    <tr style=\"text-align: right;\">\n",
       "      <th></th>\n",
       "      <th>App</th>\n",
       "      <th>Category</th>\n",
       "      <th>Rating</th>\n",
       "      <th>Reviews</th>\n",
       "      <th>Size_MBs</th>\n",
       "      <th>Installs</th>\n",
       "      <th>Type</th>\n",
       "      <th>Price</th>\n",
       "      <th>Content_Rating</th>\n",
       "      <th>Genres</th>\n",
       "      <th>Last_Updated</th>\n",
       "      <th>Android_Ver</th>\n",
       "    </tr>\n",
       "  </thead>\n",
       "  <tbody>\n",
       "    <tr>\n",
       "      <th>10783</th>\n",
       "      <td>Google Play Books</td>\n",
       "      <td>BOOKS_AND_REFERENCE</td>\n",
       "      <td>3.90</td>\n",
       "      <td>1433233</td>\n",
       "      <td>5.70</td>\n",
       "      <td>1,000,000,000</td>\n",
       "      <td>Free</td>\n",
       "      <td>0</td>\n",
       "      <td>Teen</td>\n",
       "      <td>Books &amp; Reference</td>\n",
       "      <td>August 3, 2018</td>\n",
       "      <td>Varies with device</td>\n",
       "    </tr>\n",
       "    <tr>\n",
       "      <th>10784</th>\n",
       "      <td>Messenger – Text and Video Chat for Free</td>\n",
       "      <td>COMMUNICATION</td>\n",
       "      <td>4.00</td>\n",
       "      <td>56642847</td>\n",
       "      <td>3.50</td>\n",
       "      <td>1,000,000,000</td>\n",
       "      <td>Free</td>\n",
       "      <td>0</td>\n",
       "      <td>Everyone</td>\n",
       "      <td>Communication</td>\n",
       "      <td>August 1, 2018</td>\n",
       "      <td>Varies with device</td>\n",
       "    </tr>\n",
       "    <tr>\n",
       "      <th>10785</th>\n",
       "      <td>WhatsApp Messenger</td>\n",
       "      <td>COMMUNICATION</td>\n",
       "      <td>4.40</td>\n",
       "      <td>69119316</td>\n",
       "      <td>3.50</td>\n",
       "      <td>1,000,000,000</td>\n",
       "      <td>Free</td>\n",
       "      <td>0</td>\n",
       "      <td>Everyone</td>\n",
       "      <td>Communication</td>\n",
       "      <td>August 3, 2018</td>\n",
       "      <td>Varies with device</td>\n",
       "    </tr>\n",
       "    <tr>\n",
       "      <th>10786</th>\n",
       "      <td>Google Chrome: Fast &amp; Secure</td>\n",
       "      <td>COMMUNICATION</td>\n",
       "      <td>4.30</td>\n",
       "      <td>9642995</td>\n",
       "      <td>3.50</td>\n",
       "      <td>1,000,000,000</td>\n",
       "      <td>Free</td>\n",
       "      <td>0</td>\n",
       "      <td>Everyone</td>\n",
       "      <td>Communication</td>\n",
       "      <td>August 1, 2018</td>\n",
       "      <td>Varies with device</td>\n",
       "    </tr>\n",
       "    <tr>\n",
       "      <th>10787</th>\n",
       "      <td>Gmail</td>\n",
       "      <td>COMMUNICATION</td>\n",
       "      <td>4.30</td>\n",
       "      <td>4604324</td>\n",
       "      <td>3.50</td>\n",
       "      <td>1,000,000,000</td>\n",
       "      <td>Free</td>\n",
       "      <td>0</td>\n",
       "      <td>Everyone</td>\n",
       "      <td>Communication</td>\n",
       "      <td>August 2, 2018</td>\n",
       "      <td>Varies with device</td>\n",
       "    </tr>\n",
       "    <tr>\n",
       "      <th>10788</th>\n",
       "      <td>Hangouts</td>\n",
       "      <td>COMMUNICATION</td>\n",
       "      <td>4.00</td>\n",
       "      <td>3419249</td>\n",
       "      <td>3.50</td>\n",
       "      <td>1,000,000,000</td>\n",
       "      <td>Free</td>\n",
       "      <td>0</td>\n",
       "      <td>Everyone</td>\n",
       "      <td>Communication</td>\n",
       "      <td>July 21, 2018</td>\n",
       "      <td>Varies with device</td>\n",
       "    </tr>\n",
       "    <tr>\n",
       "      <th>10792</th>\n",
       "      <td>Skype - free IM &amp; video calls</td>\n",
       "      <td>COMMUNICATION</td>\n",
       "      <td>4.10</td>\n",
       "      <td>10484169</td>\n",
       "      <td>3.50</td>\n",
       "      <td>1,000,000,000</td>\n",
       "      <td>Free</td>\n",
       "      <td>0</td>\n",
       "      <td>Everyone</td>\n",
       "      <td>Communication</td>\n",
       "      <td>August 3, 2018</td>\n",
       "      <td>Varies with device</td>\n",
       "    </tr>\n",
       "    <tr>\n",
       "      <th>10803</th>\n",
       "      <td>Google Play Games</td>\n",
       "      <td>ENTERTAINMENT</td>\n",
       "      <td>4.30</td>\n",
       "      <td>7165362</td>\n",
       "      <td>9.35</td>\n",
       "      <td>1,000,000,000</td>\n",
       "      <td>Free</td>\n",
       "      <td>0</td>\n",
       "      <td>Teen</td>\n",
       "      <td>Entertainment</td>\n",
       "      <td>July 16, 2018</td>\n",
       "      <td>Varies with device</td>\n",
       "    </tr>\n",
       "    <tr>\n",
       "      <th>10805</th>\n",
       "      <td>Facebook</td>\n",
       "      <td>SOCIAL</td>\n",
       "      <td>4.10</td>\n",
       "      <td>78158306</td>\n",
       "      <td>5.30</td>\n",
       "      <td>1,000,000,000</td>\n",
       "      <td>Free</td>\n",
       "      <td>0</td>\n",
       "      <td>Teen</td>\n",
       "      <td>Social</td>\n",
       "      <td>August 3, 2018</td>\n",
       "      <td>Varies with device</td>\n",
       "    </tr>\n",
       "    <tr>\n",
       "      <th>10806</th>\n",
       "      <td>Instagram</td>\n",
       "      <td>SOCIAL</td>\n",
       "      <td>4.50</td>\n",
       "      <td>66577313</td>\n",
       "      <td>5.30</td>\n",
       "      <td>1,000,000,000</td>\n",
       "      <td>Free</td>\n",
       "      <td>0</td>\n",
       "      <td>Teen</td>\n",
       "      <td>Social</td>\n",
       "      <td>July 31, 2018</td>\n",
       "      <td>Varies with device</td>\n",
       "    </tr>\n",
       "    <tr>\n",
       "      <th>10807</th>\n",
       "      <td>Google+</td>\n",
       "      <td>SOCIAL</td>\n",
       "      <td>4.20</td>\n",
       "      <td>4831125</td>\n",
       "      <td>5.30</td>\n",
       "      <td>1,000,000,000</td>\n",
       "      <td>Free</td>\n",
       "      <td>0</td>\n",
       "      <td>Teen</td>\n",
       "      <td>Social</td>\n",
       "      <td>July 26, 2018</td>\n",
       "      <td>Varies with device</td>\n",
       "    </tr>\n",
       "    <tr>\n",
       "      <th>10813</th>\n",
       "      <td>Google Photos</td>\n",
       "      <td>PHOTOGRAPHY</td>\n",
       "      <td>4.50</td>\n",
       "      <td>10858556</td>\n",
       "      <td>6.90</td>\n",
       "      <td>1,000,000,000</td>\n",
       "      <td>Free</td>\n",
       "      <td>0</td>\n",
       "      <td>Everyone</td>\n",
       "      <td>Photography</td>\n",
       "      <td>August 6, 2018</td>\n",
       "      <td>Varies with device</td>\n",
       "    </tr>\n",
       "    <tr>\n",
       "      <th>10817</th>\n",
       "      <td>Maps - Navigate &amp; Explore</td>\n",
       "      <td>TRAVEL_AND_LOCAL</td>\n",
       "      <td>4.30</td>\n",
       "      <td>9235155</td>\n",
       "      <td>12.00</td>\n",
       "      <td>1,000,000,000</td>\n",
       "      <td>Free</td>\n",
       "      <td>0</td>\n",
       "      <td>Everyone</td>\n",
       "      <td>Travel &amp; Local</td>\n",
       "      <td>July 31, 2018</td>\n",
       "      <td>Varies with device</td>\n",
       "    </tr>\n",
       "    <tr>\n",
       "      <th>10818</th>\n",
       "      <td>Google Street View</td>\n",
       "      <td>TRAVEL_AND_LOCAL</td>\n",
       "      <td>4.20</td>\n",
       "      <td>2129689</td>\n",
       "      <td>12.00</td>\n",
       "      <td>1,000,000,000</td>\n",
       "      <td>Free</td>\n",
       "      <td>0</td>\n",
       "      <td>Everyone</td>\n",
       "      <td>Travel &amp; Local</td>\n",
       "      <td>August 6, 2018</td>\n",
       "      <td>Varies with device</td>\n",
       "    </tr>\n",
       "    <tr>\n",
       "      <th>10822</th>\n",
       "      <td>Google</td>\n",
       "      <td>TOOLS</td>\n",
       "      <td>4.40</td>\n",
       "      <td>8033493</td>\n",
       "      <td>3.40</td>\n",
       "      <td>1,000,000,000</td>\n",
       "      <td>Free</td>\n",
       "      <td>0</td>\n",
       "      <td>Everyone</td>\n",
       "      <td>Tools</td>\n",
       "      <td>August 3, 2018</td>\n",
       "      <td>Varies with device</td>\n",
       "    </tr>\n",
       "    <tr>\n",
       "      <th>10824</th>\n",
       "      <td>Google Drive</td>\n",
       "      <td>PRODUCTIVITY</td>\n",
       "      <td>4.40</td>\n",
       "      <td>2731171</td>\n",
       "      <td>4.00</td>\n",
       "      <td>1,000,000,000</td>\n",
       "      <td>Free</td>\n",
       "      <td>0</td>\n",
       "      <td>Everyone</td>\n",
       "      <td>Productivity</td>\n",
       "      <td>August 6, 2018</td>\n",
       "      <td>Varies with device</td>\n",
       "    </tr>\n",
       "    <tr>\n",
       "      <th>10828</th>\n",
       "      <td>YouTube</td>\n",
       "      <td>VIDEO_PLAYERS</td>\n",
       "      <td>4.30</td>\n",
       "      <td>25655305</td>\n",
       "      <td>4.65</td>\n",
       "      <td>1,000,000,000</td>\n",
       "      <td>Free</td>\n",
       "      <td>0</td>\n",
       "      <td>Teen</td>\n",
       "      <td>Video Players &amp; Editors</td>\n",
       "      <td>August 2, 2018</td>\n",
       "      <td>Varies with device</td>\n",
       "    </tr>\n",
       "    <tr>\n",
       "      <th>10829</th>\n",
       "      <td>Google Play Movies &amp; TV</td>\n",
       "      <td>VIDEO_PLAYERS</td>\n",
       "      <td>3.70</td>\n",
       "      <td>906384</td>\n",
       "      <td>4.65</td>\n",
       "      <td>1,000,000,000</td>\n",
       "      <td>Free</td>\n",
       "      <td>0</td>\n",
       "      <td>Teen</td>\n",
       "      <td>Video Players &amp; Editors</td>\n",
       "      <td>August 6, 2018</td>\n",
       "      <td>Varies with device</td>\n",
       "    </tr>\n",
       "    <tr>\n",
       "      <th>10831</th>\n",
       "      <td>Google News</td>\n",
       "      <td>NEWS_AND_MAGAZINES</td>\n",
       "      <td>3.90</td>\n",
       "      <td>877635</td>\n",
       "      <td>13.00</td>\n",
       "      <td>1,000,000,000</td>\n",
       "      <td>Free</td>\n",
       "      <td>0</td>\n",
       "      <td>Teen</td>\n",
       "      <td>News &amp; Magazines</td>\n",
       "      <td>August 1, 2018</td>\n",
       "      <td>4.4 and up</td>\n",
       "    </tr>\n",
       "    <tr>\n",
       "      <th>10835</th>\n",
       "      <td>Subway Surfers</td>\n",
       "      <td>GAME</td>\n",
       "      <td>4.50</td>\n",
       "      <td>27722264</td>\n",
       "      <td>76.00</td>\n",
       "      <td>1,000,000,000</td>\n",
       "      <td>Free</td>\n",
       "      <td>0</td>\n",
       "      <td>Everyone 10+</td>\n",
       "      <td>Arcade</td>\n",
       "      <td>July 12, 2018</td>\n",
       "      <td>4.1 and up</td>\n",
       "    </tr>\n",
       "  </tbody>\n",
       "</table>\n",
       "</div>"
      ],
      "text/plain": [
       "                                            App             Category  Rating  \\\n",
       "10783                         Google Play Books  BOOKS_AND_REFERENCE    3.90   \n",
       "10784  Messenger – Text and Video Chat for Free        COMMUNICATION    4.00   \n",
       "10785                        WhatsApp Messenger        COMMUNICATION    4.40   \n",
       "10786              Google Chrome: Fast & Secure        COMMUNICATION    4.30   \n",
       "10787                                     Gmail        COMMUNICATION    4.30   \n",
       "10788                                  Hangouts        COMMUNICATION    4.00   \n",
       "10792             Skype - free IM & video calls        COMMUNICATION    4.10   \n",
       "10803                         Google Play Games        ENTERTAINMENT    4.30   \n",
       "10805                                  Facebook               SOCIAL    4.10   \n",
       "10806                                 Instagram               SOCIAL    4.50   \n",
       "10807                                   Google+               SOCIAL    4.20   \n",
       "10813                             Google Photos          PHOTOGRAPHY    4.50   \n",
       "10817                 Maps - Navigate & Explore     TRAVEL_AND_LOCAL    4.30   \n",
       "10818                        Google Street View     TRAVEL_AND_LOCAL    4.20   \n",
       "10822                                    Google                TOOLS    4.40   \n",
       "10824                              Google Drive         PRODUCTIVITY    4.40   \n",
       "10828                                   YouTube        VIDEO_PLAYERS    4.30   \n",
       "10829                   Google Play Movies & TV        VIDEO_PLAYERS    3.70   \n",
       "10831                               Google News   NEWS_AND_MAGAZINES    3.90   \n",
       "10835                            Subway Surfers                 GAME    4.50   \n",
       "\n",
       "        Reviews  Size_MBs       Installs  Type Price Content_Rating  \\\n",
       "10783   1433233      5.70  1,000,000,000  Free     0           Teen   \n",
       "10784  56642847      3.50  1,000,000,000  Free     0       Everyone   \n",
       "10785  69119316      3.50  1,000,000,000  Free     0       Everyone   \n",
       "10786   9642995      3.50  1,000,000,000  Free     0       Everyone   \n",
       "10787   4604324      3.50  1,000,000,000  Free     0       Everyone   \n",
       "10788   3419249      3.50  1,000,000,000  Free     0       Everyone   \n",
       "10792  10484169      3.50  1,000,000,000  Free     0       Everyone   \n",
       "10803   7165362      9.35  1,000,000,000  Free     0           Teen   \n",
       "10805  78158306      5.30  1,000,000,000  Free     0           Teen   \n",
       "10806  66577313      5.30  1,000,000,000  Free     0           Teen   \n",
       "10807   4831125      5.30  1,000,000,000  Free     0           Teen   \n",
       "10813  10858556      6.90  1,000,000,000  Free     0       Everyone   \n",
       "10817   9235155     12.00  1,000,000,000  Free     0       Everyone   \n",
       "10818   2129689     12.00  1,000,000,000  Free     0       Everyone   \n",
       "10822   8033493      3.40  1,000,000,000  Free     0       Everyone   \n",
       "10824   2731171      4.00  1,000,000,000  Free     0       Everyone   \n",
       "10828  25655305      4.65  1,000,000,000  Free     0           Teen   \n",
       "10829    906384      4.65  1,000,000,000  Free     0           Teen   \n",
       "10831    877635     13.00  1,000,000,000  Free     0           Teen   \n",
       "10835  27722264     76.00  1,000,000,000  Free     0   Everyone 10+   \n",
       "\n",
       "                        Genres    Last_Updated         Android_Ver  \n",
       "10783        Books & Reference  August 3, 2018  Varies with device  \n",
       "10784            Communication  August 1, 2018  Varies with device  \n",
       "10785            Communication  August 3, 2018  Varies with device  \n",
       "10786            Communication  August 1, 2018  Varies with device  \n",
       "10787            Communication  August 2, 2018  Varies with device  \n",
       "10788            Communication   July 21, 2018  Varies with device  \n",
       "10792            Communication  August 3, 2018  Varies with device  \n",
       "10803            Entertainment   July 16, 2018  Varies with device  \n",
       "10805                   Social  August 3, 2018  Varies with device  \n",
       "10806                   Social   July 31, 2018  Varies with device  \n",
       "10807                   Social   July 26, 2018  Varies with device  \n",
       "10813              Photography  August 6, 2018  Varies with device  \n",
       "10817           Travel & Local   July 31, 2018  Varies with device  \n",
       "10818           Travel & Local  August 6, 2018  Varies with device  \n",
       "10822                    Tools  August 3, 2018  Varies with device  \n",
       "10824             Productivity  August 6, 2018  Varies with device  \n",
       "10828  Video Players & Editors  August 2, 2018  Varies with device  \n",
       "10829  Video Players & Editors  August 6, 2018  Varies with device  \n",
       "10831         News & Magazines  August 1, 2018          4.4 and up  \n",
       "10835                   Arcade   July 12, 2018          4.1 and up  "
      ]
     },
     "execution_count": 110,
     "metadata": {},
     "output_type": "execute_result"
    }
   ],
   "source": [
    "df_apps_clean[df_apps_clean.Installs == '1,000,000,000']"
   ]
  },
  {
   "cell_type": "code",
   "execution_count": 111,
   "metadata": {
    "id": "cFjptR-JoJOE"
   },
   "outputs": [
    {
     "name": "stdout",
     "output_type": "stream",
     "text": [
      "<class 'str'>\n"
     ]
    }
   ],
   "source": [
    "print(type(df_apps_clean.Installs.iloc[0]))"
   ]
  },
  {
   "cell_type": "code",
   "execution_count": 112,
   "metadata": {},
   "outputs": [
    {
     "data": {
      "application/vnd.microsoft.datawrangler.viewer.v0+json": {
       "columns": [
        {
         "name": "index",
         "rawType": "int64",
         "type": "integer"
        },
        {
         "name": "Installs",
         "rawType": "object",
         "type": "string"
        }
       ],
       "ref": "051fc223-5733-4dc8-9dca-1985a75fcac9",
       "rows": [
        [
         "10824",
         "1,000,000,000"
        ],
        [
         "10828",
         "1,000,000,000"
        ],
        [
         "10829",
         "1,000,000,000"
        ],
        [
         "10831",
         "1,000,000,000"
        ],
        [
         "10835",
         "1,000,000,000"
        ]
       ],
       "shape": {
        "columns": 1,
        "rows": 5
       }
      },
      "text/plain": [
       "10824    1,000,000,000\n",
       "10828    1,000,000,000\n",
       "10829    1,000,000,000\n",
       "10831    1,000,000,000\n",
       "10835    1,000,000,000\n",
       "Name: Installs, dtype: object"
      ]
     },
     "execution_count": 112,
     "metadata": {},
     "output_type": "execute_result"
    }
   ],
   "source": [
    "df_apps_clean.Installs.tail()"
   ]
  },
  {
   "cell_type": "code",
   "execution_count": 113,
   "metadata": {
    "id": "uTNyWsPboJLq"
   },
   "outputs": [
    {
     "data": {
      "application/vnd.microsoft.datawrangler.viewer.v0+json": {
       "columns": [
        {
         "name": "Installs",
         "rawType": "object",
         "type": "string"
        },
        {
         "name": "count",
         "rawType": "int64",
         "type": "integer"
        }
       ],
       "ref": "41f20c0c-aae6-4178-8afb-6dde923c5be4",
       "rows": [
        [
         "1,000,000",
         "1417"
        ],
        [
         "100,000",
         "1096"
        ],
        [
         "10,000",
         "987"
        ],
        [
         "10,000,000",
         "933"
        ],
        [
         "1,000",
         "697"
        ],
        [
         "5,000,000",
         "607"
        ],
        [
         "500,000",
         "504"
        ],
        [
         "50,000",
         "457"
        ],
        [
         "5,000",
         "425"
        ],
        [
         "100",
         "303"
        ],
        [
         "50,000,000",
         "202"
        ],
        [
         "500",
         "199"
        ],
        [
         "100,000,000",
         "189"
        ],
        [
         "10",
         "69"
        ],
        [
         "50",
         "56"
        ],
        [
         "500,000,000",
         "24"
        ],
        [
         "1,000,000,000",
         "20"
        ],
        [
         "5",
         "9"
        ],
        [
         "1",
         "3"
        ]
       ],
       "shape": {
        "columns": 1,
        "rows": 19
       }
      },
      "text/plain": [
       "Installs\n",
       "1,000,000        1417\n",
       "100,000          1096\n",
       "10,000            987\n",
       "10,000,000        933\n",
       "1,000             697\n",
       "5,000,000         607\n",
       "500,000           504\n",
       "50,000            457\n",
       "5,000             425\n",
       "100               303\n",
       "50,000,000        202\n",
       "500               199\n",
       "100,000,000       189\n",
       "10                 69\n",
       "50                 56\n",
       "500,000,000        24\n",
       "1,000,000,000      20\n",
       "5                   9\n",
       "1                   3\n",
       "Name: count, dtype: int64"
      ]
     },
     "execution_count": 113,
     "metadata": {},
     "output_type": "execute_result"
    }
   ],
   "source": [
    "df_apps_clean.value_counts(subset='Installs')"
   ]
  },
  {
   "cell_type": "code",
   "execution_count": 121,
   "metadata": {
    "id": "8AMmxKHgoJGT"
   },
   "outputs": [
    {
     "data": {
      "application/vnd.microsoft.datawrangler.viewer.v0+json": {
       "columns": [
        {
         "name": "Installs",
         "rawType": "int64",
         "type": "integer"
        },
        {
         "name": "count",
         "rawType": "int64",
         "type": "integer"
        }
       ],
       "ref": "523b714e-0b2c-4173-a940-0e973dad7d88",
       "rows": [
        [
         "1000000",
         "1417"
        ],
        [
         "100000",
         "1095"
        ],
        [
         "10000",
         "982"
        ],
        [
         "10000000",
         "933"
        ],
        [
         "1000",
         "693"
        ],
        [
         "5000000",
         "607"
        ],
        [
         "500000",
         "504"
        ],
        [
         "50000",
         "456"
        ],
        [
         "5000",
         "422"
        ],
        [
         "100",
         "302"
        ],
        [
         "50000000",
         "202"
        ],
        [
         "500",
         "199"
        ],
        [
         "100000000",
         "189"
        ],
        [
         "10",
         "69"
        ],
        [
         "50",
         "56"
        ],
        [
         "500000000",
         "24"
        ],
        [
         "1000000000",
         "20"
        ],
        [
         "5",
         "9"
        ],
        [
         "1",
         "3"
        ]
       ],
       "shape": {
        "columns": 1,
        "rows": 19
       }
      },
      "text/plain": [
       "Installs\n",
       "1000000       1417\n",
       "100000        1095\n",
       "10000          982\n",
       "10000000       933\n",
       "1000           693\n",
       "5000000        607\n",
       "500000         504\n",
       "50000          456\n",
       "5000           422\n",
       "100            302\n",
       "50000000       202\n",
       "500            199\n",
       "100000000      189\n",
       "10              69\n",
       "50              56\n",
       "500000000       24\n",
       "1000000000      20\n",
       "5                9\n",
       "1                3\n",
       "Name: count, dtype: int64"
      ]
     },
     "execution_count": 121,
     "metadata": {},
     "output_type": "execute_result"
    }
   ],
   "source": [
    "df_apps_clean.Installs = df_apps_clean.Installs.str.replace(',', '')\n",
    "df_apps_clean.Installs = df_apps_clean.Installs.astype(int)\n",
    "df_apps_clean.value_counts(subset='Installs')"
   ]
  },
  {
   "cell_type": "markdown",
   "metadata": {
    "id": "7T4sfNpFdiUv"
   },
   "source": [
    "# Find the Most Expensive Apps, Filter out the Junk, and Calculate a (ballpark) Sales Revenue Estimate\n",
    "\n",
    "Let's examine the Price column more closely.\n",
    "\n",
    "**Challenge**: Convert the price column to numeric data. Then investigate the top 20 most expensive apps in the dataset.\n",
    "\n",
    "Remove all apps that cost more than $250 from the `df_apps_clean` DataFrame.\n",
    "\n",
    "Add a column called 'Revenue_Estimate' to the DataFrame. This column should hold the price of the app times the number of installs. What are the top 10 highest grossing paid apps according to this estimate? Out of the top 10 highest grossing paid apps, how many are games?\n"
   ]
  },
  {
   "cell_type": "code",
   "execution_count": 122,
   "metadata": {
    "id": "CqhX2WCJoQEp"
   },
   "outputs": [
    {
     "data": {
      "application/vnd.microsoft.datawrangler.viewer.v0+json": {
       "columns": [
        {
         "name": "index",
         "rawType": "int64",
         "type": "integer"
        },
        {
         "name": "Price",
         "rawType": "float64",
         "type": "float"
        }
       ],
       "ref": "7f64992f-4cb4-497c-8622-7c2edc9bf0a9",
       "rows": [
        [
         "21",
         "0.0"
        ],
        [
         "28",
         "1.49"
        ],
        [
         "47",
         "0.99"
        ],
        [
         "82",
         "0.0"
        ],
        [
         "99",
         "0.0"
        ],
        [
         "114",
         "0.0"
        ],
        [
         "126",
         "0.0"
        ],
        [
         "128",
         "0.0"
        ],
        [
         "141",
         "0.0"
        ],
        [
         "151",
         "0.0"
        ],
        [
         "154",
         "0.0"
        ],
        [
         "162",
         "0.0"
        ],
        [
         "171",
         "0.0"
        ],
        [
         "174",
         "0.0"
        ],
        [
         "179",
         "0.0"
        ],
        [
         "181",
         "0.0"
        ],
        [
         "184",
         "0.0"
        ],
        [
         "185",
         "0.0"
        ],
        [
         "186",
         "0.0"
        ],
        [
         "201",
         "0.0"
        ],
        [
         "215",
         "0.0"
        ],
        [
         "226",
         "0.0"
        ],
        [
         "227",
         "0.0"
        ],
        [
         "229",
         "0.0"
        ],
        [
         "230",
         "0.0"
        ],
        [
         "231",
         "0.0"
        ],
        [
         "233",
         "14.99"
        ],
        [
         "234",
         "0.0"
        ],
        [
         "235",
         "0.0"
        ],
        [
         "237",
         "0.0"
        ],
        [
         "240",
         "0.0"
        ],
        [
         "248",
         "2.49"
        ],
        [
         "261",
         "0.0"
        ],
        [
         "265",
         "0.0"
        ],
        [
         "268",
         "0.0"
        ],
        [
         "286",
         "0.0"
        ],
        [
         "291",
         "3.04"
        ],
        [
         "308",
         "0.0"
        ],
        [
         "309",
         "0.0"
        ],
        [
         "310",
         "0.0"
        ],
        [
         "312",
         "1.49"
        ],
        [
         "313",
         "0.0"
        ],
        [
         "321",
         "0.0"
        ],
        [
         "322",
         "0.0"
        ],
        [
         "330",
         "0.0"
        ],
        [
         "339",
         "0.99"
        ],
        [
         "343",
         "0.0"
        ],
        [
         "346",
         "0.0"
        ],
        [
         "349",
         "0.0"
        ],
        [
         "354",
         "3.49"
        ]
       ],
       "shape": {
        "columns": 1,
        "rows": 8182
       }
      },
      "text/plain": [
       "21      0.00\n",
       "28      1.49\n",
       "47      0.99\n",
       "82      0.00\n",
       "99      0.00\n",
       "        ... \n",
       "10824   0.00\n",
       "10828   0.00\n",
       "10829   0.00\n",
       "10831   0.00\n",
       "10835   0.00\n",
       "Name: Price, Length: 8182, dtype: float64"
      ]
     },
     "execution_count": 122,
     "metadata": {},
     "output_type": "execute_result"
    }
   ],
   "source": [
    "df_apps_clean.Price"
   ]
  },
  {
   "cell_type": "code",
   "execution_count": 124,
   "metadata": {},
   "outputs": [
    {
     "name": "stdout",
     "output_type": "stream",
     "text": [
      "<class 'pandas.core.frame.DataFrame'>\n",
      "Index: 8182 entries, 21 to 10835\n",
      "Data columns (total 12 columns):\n",
      " #   Column          Non-Null Count  Dtype  \n",
      "---  ------          --------------  -----  \n",
      " 0   App             8182 non-null   object \n",
      " 1   Category        8182 non-null   object \n",
      " 2   Rating          8182 non-null   float64\n",
      " 3   Reviews         8182 non-null   int64  \n",
      " 4   Size_MBs        8182 non-null   float64\n",
      " 5   Installs        8182 non-null   int64  \n",
      " 6   Type            8182 non-null   object \n",
      " 7   Price           8182 non-null   float64\n",
      " 8   Content_Rating  8182 non-null   object \n",
      " 9   Genres          8182 non-null   object \n",
      " 10  Last_Updated    8182 non-null   object \n",
      " 11  Android_Ver     8182 non-null   object \n",
      "dtypes: float64(3), int64(2), object(7)\n",
      "memory usage: 831.0+ KB\n"
     ]
    }
   ],
   "source": [
    "# df_apps_clean.Price = df_apps_clean.Price.str.replace('$', '')\n",
    "df_apps_clean.Price = pd.to_numeric(df_apps_clean.Price)\n",
    "df_apps_clean.info()"
   ]
  },
  {
   "cell_type": "markdown",
   "metadata": {
    "id": "Rgposh-CdiU4"
   },
   "source": [
    "### The most expensive apps sub $250"
   ]
  },
  {
   "cell_type": "code",
   "execution_count": 125,
   "metadata": {
    "id": "c8_n8z8XoUML"
   },
   "outputs": [
    {
     "data": {
      "application/vnd.microsoft.datawrangler.viewer.v0+json": {
       "columns": [
        {
         "name": "index",
         "rawType": "int64",
         "type": "integer"
        },
        {
         "name": "App",
         "rawType": "object",
         "type": "string"
        },
        {
         "name": "Category",
         "rawType": "object",
         "type": "string"
        },
        {
         "name": "Rating",
         "rawType": "float64",
         "type": "float"
        },
        {
         "name": "Reviews",
         "rawType": "int64",
         "type": "integer"
        },
        {
         "name": "Size_MBs",
         "rawType": "float64",
         "type": "float"
        },
        {
         "name": "Installs",
         "rawType": "int64",
         "type": "integer"
        },
        {
         "name": "Type",
         "rawType": "object",
         "type": "string"
        },
        {
         "name": "Price",
         "rawType": "float64",
         "type": "float"
        },
        {
         "name": "Content_Rating",
         "rawType": "object",
         "type": "string"
        },
        {
         "name": "Genres",
         "rawType": "object",
         "type": "string"
        },
        {
         "name": "Last_Updated",
         "rawType": "object",
         "type": "string"
        },
        {
         "name": "Android_Ver",
         "rawType": "object",
         "type": "string"
        }
       ],
       "ref": "ec01336d-81f9-42a4-b28e-d00f05c1aa17",
       "rows": [
        [
         "2281",
         "Vargo Anesthesia Mega App",
         "MEDICAL",
         "4.6",
         "92",
         "32.0",
         "1000",
         "Paid",
         "79.99",
         "Everyone",
         "Medical",
         "June 18, 2018",
         "4.0.3 and up"
        ],
        [
         "1407",
         "LTC AS Legal",
         "MEDICAL",
         "4.0",
         "6",
         "1.3",
         "100",
         "Paid",
         "39.99",
         "Everyone",
         "Medical",
         "April 4, 2018",
         "4.1 and up"
        ],
        [
         "2629",
         "I am Rich Person",
         "LIFESTYLE",
         "4.2",
         "134",
         "1.8",
         "1000",
         "Paid",
         "37.99",
         "Everyone",
         "Lifestyle",
         "July 18, 2017",
         "4.0.3 and up"
        ],
        [
         "2481",
         "A Manual of Acupuncture",
         "MEDICAL",
         "3.5",
         "214",
         "68.0",
         "1000",
         "Paid",
         "33.99",
         "Everyone",
         "Medical",
         "October 2, 2017",
         "4.0 and up"
        ],
        [
         "504",
         "AP Art History Flashcards",
         "FAMILY",
         "5.0",
         "1",
         "96.0",
         "10",
         "Paid",
         "29.99",
         "Mature 17+",
         "Education",
         "January 19, 2016",
         "4.0 and up"
        ],
        [
         "2463",
         "PTA Content Master",
         "MEDICAL",
         "4.2",
         "64",
         "41.0",
         "1000",
         "Paid",
         "29.99",
         "Everyone",
         "Medical",
         "December 22, 2015",
         "2.2 and up"
        ],
        [
         "2207",
         "EMT PASS",
         "MEDICAL",
         "3.4",
         "51",
         "2.4",
         "1000",
         "Paid",
         "29.99",
         "Everyone",
         "Medical",
         "October 22, 2014",
         "4.0 and up"
        ],
        [
         "4264",
         "Golfshot Plus: Golf GPS",
         "SPORTS",
         "4.1",
         "3387",
         "25.0",
         "50000",
         "Paid",
         "29.99",
         "Everyone",
         "Sports",
         "July 11, 2018",
         "4.1 and up"
        ],
        [
         "4772",
         "Human Anatomy Atlas 2018: Complete 3D Human Body",
         "MEDICAL",
         "4.5",
         "2921",
         "25.0",
         "100000",
         "Paid",
         "24.99",
         "Everyone",
         "Medical",
         "May 25, 2018",
         "5.0 and up"
        ],
        [
         "3241",
         "Muscle Premium - Human Anatomy, Kinesiology, Bones",
         "MEDICAL",
         "4.2",
         "168",
         "25.0",
         "10000",
         "Paid",
         "24.99",
         "Everyone",
         "Medical",
         "August 11, 2017",
         "4.4 and up"
        ],
        [
         "526",
         "USMLE Step 2 CK Flashcards",
         "FAMILY",
         "5.0",
         "1",
         "40.0",
         "10",
         "Paid",
         "19.99",
         "Everyone",
         "Education",
         "May 26, 2014",
         "2.2 and up"
        ],
        [
         "2119",
         "NewTek NDI",
         "PHOTOGRAPHY",
         "3.5",
         "77",
         "1.2",
         "1000",
         "Paid",
         "19.99",
         "Everyone",
         "Photography",
         "October 26, 2016",
         "4.1 and up"
        ],
        [
         "4470",
         "DRAGON QUEST VIII",
         "FAMILY",
         "4.5",
         "7812",
         "27.0",
         "50000",
         "Paid",
         "19.99",
         "Everyone 10+",
         "Role Playing",
         "April 4, 2017",
         "4.0 and up"
        ],
        [
         "2293",
         "Hospitalist Handbook",
         "MEDICAL",
         "4.8",
         "12",
         "18.0",
         "1000",
         "Paid",
         "19.99",
         "Everyone",
         "Medical",
         "June 5, 2017",
         "4.1 and up"
        ],
        [
         "2473",
         "boattheory.ch Full 2018",
         "FAMILY",
         "4.7",
         "54",
         "50.0",
         "1000",
         "Paid",
         "19.4",
         "Everyone",
         "Education",
         "November 18, 2017",
         "4.2 and up"
        ],
        [
         "4090",
         "I am Rich Premium Plus",
         "FINANCE",
         "4.6",
         "459",
         "2.0",
         "10000",
         "Paid",
         "18.99",
         "Everyone",
         "Finance",
         "February 17, 2018",
         "4.0.3 and up"
        ],
        [
         "1508",
         "SkyTest BU/GU Lite",
         "BUSINESS",
         "2.9",
         "28",
         "20.0",
         "500",
         "Paid",
         "17.99",
         "Everyone",
         "Business",
         "October 24, 2017",
         "3.0 and up"
        ],
        [
         "3778",
         "The World Ends With You",
         "GAME",
         "4.6",
         "4108",
         "13.0",
         "10000",
         "Paid",
         "17.99",
         "Everyone 10+",
         "Arcade",
         "December 14, 2015",
         "4.0 and up"
        ],
        [
         "2603",
         "2017 EMRA Antibiotic Guide",
         "MEDICAL",
         "4.4",
         "12",
         "3.8",
         "1000",
         "Paid",
         "16.99",
         "Everyone",
         "Medical",
         "January 27, 2017",
         "4.0.3 and up"
        ],
        [
         "3439",
         "Trine 2: Complete Story",
         "GAME",
         "3.8",
         "252",
         "11.0",
         "10000",
         "Paid",
         "16.99",
         "Teen",
         "Action",
         "February 27, 2015",
         "5.0 and up"
        ],
        [
         "1795",
         "Navi Radiography Pro",
         "MEDICAL",
         "4.7",
         "11",
         "100.0",
         "500",
         "Paid",
         "15.99",
         "Everyone",
         "Medical",
         "January 14, 2018",
         "4.0.3 and up"
        ],
        [
         "2048",
         "Interactive CT and MRI Anatomy",
         "MEDICAL",
         "3.4",
         "35",
         "24.0",
         "1000",
         "Paid",
         "15.46",
         "Everyone",
         "Medical",
         "May 27, 2015",
         "2.2 and up"
        ],
        [
         "3701",
         "DRAGON QUEST IV",
         "FAMILY",
         "4.7",
         "1647",
         "16.0",
         "10000",
         "Paid",
         "14.99",
         "Everyone",
         "Role Playing",
         "February 28, 2017",
         "2.3 and up"
        ],
        [
         "2998",
         "AnatomyMapp",
         "MEDICAL",
         "4.1",
         "80",
         "48.0",
         "5000",
         "Paid",
         "14.99",
         "Everyone",
         "Medical",
         "November 5, 2013",
         "3.0 and up"
        ],
        [
         "2425",
         "Block Buddy",
         "MEDICAL",
         "4.0",
         "15",
         "5.0",
         "1000",
         "Paid",
         "14.99",
         "Everyone",
         "Medical",
         "August 1, 2018",
         "4.0 and up"
        ],
        [
         "233",
         "Chess of Blades (BL/Yaoi Game) (No VA)",
         "FAMILY",
         "4.8",
         "4",
         "23.0",
         "10",
         "Paid",
         "14.99",
         "Teen",
         "Casual",
         "January 24, 2018",
         "2.3.3 and up"
        ],
        [
         "3375",
         "DRAGON QUEST V",
         "FAMILY",
         "4.7",
         "1667",
         "17.0",
         "10000",
         "Paid",
         "14.99",
         "Teen",
         "Role Playing",
         "August 1, 2018",
         "2.3 and up"
        ],
        [
         "4912",
         "DRAGON QUEST VI",
         "FAMILY",
         "4.4",
         "3358",
         "17.0",
         "100000",
         "Paid",
         "14.99",
         "Everyone",
         "Role Playing",
         "August 1, 2018",
         "2.3 and up"
        ],
        [
         "3072",
         "G-NetTrack Pro",
         "TOOLS",
         "4.3",
         "255",
         "1.6",
         "5000",
         "Paid",
         "14.99",
         "Everyone",
         "Tools",
         "July 25, 2018",
         "4.0 and up"
        ],
        [
         "2697",
         "Electrician Calculator Pro",
         "TOOLS",
         "3.9",
         "47",
         "0.263671875",
         "1000",
         "Paid",
         "14.99",
         "Everyone",
         "Tools",
         "June 3, 2014",
         "1.6 and up"
        ],
        [
         "1295",
         "Blackjack Verite Drills",
         "GAME",
         "4.6",
         "17",
         "4.7",
         "100",
         "Paid",
         "14.0",
         "Teen",
         "Casino",
         "July 9, 2017",
         "3.0 and up"
        ],
        [
         "5389",
         "FINAL FANTASY DIMENSIONS",
         "FAMILY",
         "4.3",
         "8450",
         "1.1",
         "100000",
         "Paid",
         "13.99",
         "Everyone",
         "Role Playing",
         "March 15, 2017",
         "2.3.3 and up"
        ],
        [
         "851",
         "ZombieVital DG",
         "FAMILY",
         "4.3",
         "10",
         "20.0",
         "100",
         "Paid",
         "12.99",
         "Everyone",
         "Simulation",
         "August 4, 2018",
         "Varies with device"
        ],
        [
         "3394",
         "Carrier Landings Pro",
         "FAMILY",
         "4.6",
         "5969",
         "31.0",
         "10000",
         "Paid",
         "12.99",
         "Everyone",
         "Simulation",
         "June 29, 2018",
         "4.1 and up"
        ],
        [
         "1195",
         "Cardiac diagnosis (heart rate, arrhythmia)",
         "MEDICAL",
         "4.4",
         "8",
         "6.5",
         "100",
         "Paid",
         "12.99",
         "Everyone",
         "Medical",
         "July 25, 2018",
         "3.0 and up"
        ],
        [
         "965",
         "DS Helpdesk Plus",
         "BUSINESS",
         "3.6",
         "21",
         "7.2",
         "100",
         "Paid",
         "12.99",
         "Everyone",
         "Business",
         "January 30, 2017",
         "Varies with device"
        ],
        [
         "4132",
         "EMT Review Plus",
         "MEDICAL",
         "4.5",
         "199",
         "1.8",
         "10000",
         "Paid",
         "11.99",
         "Everyone",
         "Medical",
         "June 27, 2018",
         "4.4W and up"
        ],
        [
         "5132",
         "BackCountry Navigator TOPO GPS PRO",
         "MAPS_AND_NAVIGATION",
         "4.5",
         "6230",
         "6.5",
         "100000",
         "Paid",
         "11.99",
         "Everyone",
         "Maps & Navigation",
         "August 3, 2018",
         "Varies with device"
        ],
        [
         "4535",
         "Essential Anatomy 3",
         "MEDICAL",
         "4.1",
         "1533",
         "42.0",
         "50000",
         "Paid",
         "11.99",
         "Mature 17+",
         "Medical",
         "August 7, 2014",
         "4.0.3 and up"
        ],
        [
         "1878",
         "RPG ブレイジング ソウルズ アクセレイト",
         "FAMILY",
         "3.4",
         "159",
         "3.1",
         "1000",
         "Paid",
         "10.99",
         "Teen",
         "Role Playing",
         "April 26, 2018",
         "2.3 and up"
        ],
        [
         "2685",
         "CCHT PREP",
         "MEDICAL",
         "3.6",
         "25",
         "0.259765625",
         "1000",
         "Paid",
         "10.99",
         "Everyone",
         "Medical",
         "December 8, 2016",
         "2.1 and up"
        ],
        [
         "2647",
         "go41cx",
         "FAMILY",
         "4.8",
         "171",
         "1.0",
         "1000",
         "Paid",
         "10.0",
         "Everyone",
         "Education",
         "October 18, 2016",
         "2.2 and up"
        ],
        [
         "3332",
         "Paramedic Protocol Provider",
         "MEDICAL",
         "4.5",
         "171",
         "20.0",
         "10000",
         "Paid",
         "10.0",
         "Everyone 10+",
         "Medical",
         "September 21, 2017",
         "4.1 and up"
        ],
        [
         "3604",
         "BIG Launcher",
         "PERSONALIZATION",
         "4.3",
         "881",
         "5.9",
         "10000",
         "Paid",
         "9.99",
         "Everyone",
         "Personalization",
         "June 20, 2018",
         "2.1 and up"
        ],
        [
         "4865",
         "XCOM®: Enemy Within",
         "FAMILY",
         "4.2",
         "13752",
         "21.0",
         "100000",
         "Paid",
         "9.99",
         "Mature 17+",
         "Strategy",
         "October 24, 2017",
         "4.0 and up"
        ],
        [
         "5148",
         "Star Wars ™: DIRTY",
         "GAME",
         "4.5",
         "38207",
         "15.0",
         "100000",
         "Paid",
         "9.99",
         "Teen",
         "Role Playing",
         "October 19, 2015",
         "4.1 and up"
        ],
        [
         "5438",
         "CHRONO TRIGGER (Upgrade Ver.)",
         "FAMILY",
         "3.8",
         "11250",
         "6.3",
         "100000",
         "Paid",
         "9.99",
         "Everyone 10+",
         "Role Playing",
         "June 12, 2018",
         "4.2 and up"
        ],
        [
         "4159",
         "DRAGON QUEST III",
         "FAMILY",
         "4.2",
         "1661",
         "63.0",
         "10000",
         "Paid",
         "9.99",
         "Everyone",
         "Role Playing",
         "March 9, 2018",
         "4.0 and up"
        ],
        [
         "1812",
         "Diabetes & Diet Tracker",
         "MEDICAL",
         "4.6",
         "395",
         "19.0",
         "1000",
         "Paid",
         "9.99",
         "Everyone",
         "Medical",
         "July 16, 2018",
         "5.0 and up"
        ],
        [
         "5633",
         "Baldur's Gate: Enhanced Edition",
         "FAMILY",
         "4.5",
         "20101",
         "7.8",
         "100000",
         "Paid",
         "9.99",
         "Teen",
         "Role Playing",
         "October 2, 2015",
         "3.0 and up"
        ]
       ],
       "shape": {
        "columns": 12,
        "rows": 8182
       }
      },
      "text/html": [
       "<div>\n",
       "<style scoped>\n",
       "    .dataframe tbody tr th:only-of-type {\n",
       "        vertical-align: middle;\n",
       "    }\n",
       "\n",
       "    .dataframe tbody tr th {\n",
       "        vertical-align: top;\n",
       "    }\n",
       "\n",
       "    .dataframe thead th {\n",
       "        text-align: right;\n",
       "    }\n",
       "</style>\n",
       "<table border=\"1\" class=\"dataframe\">\n",
       "  <thead>\n",
       "    <tr style=\"text-align: right;\">\n",
       "      <th></th>\n",
       "      <th>App</th>\n",
       "      <th>Category</th>\n",
       "      <th>Rating</th>\n",
       "      <th>Reviews</th>\n",
       "      <th>Size_MBs</th>\n",
       "      <th>Installs</th>\n",
       "      <th>Type</th>\n",
       "      <th>Price</th>\n",
       "      <th>Content_Rating</th>\n",
       "      <th>Genres</th>\n",
       "      <th>Last_Updated</th>\n",
       "      <th>Android_Ver</th>\n",
       "    </tr>\n",
       "  </thead>\n",
       "  <tbody>\n",
       "    <tr>\n",
       "      <th>2281</th>\n",
       "      <td>Vargo Anesthesia Mega App</td>\n",
       "      <td>MEDICAL</td>\n",
       "      <td>4.60</td>\n",
       "      <td>92</td>\n",
       "      <td>32.00</td>\n",
       "      <td>1000</td>\n",
       "      <td>Paid</td>\n",
       "      <td>79.99</td>\n",
       "      <td>Everyone</td>\n",
       "      <td>Medical</td>\n",
       "      <td>June 18, 2018</td>\n",
       "      <td>4.0.3 and up</td>\n",
       "    </tr>\n",
       "    <tr>\n",
       "      <th>1407</th>\n",
       "      <td>LTC AS Legal</td>\n",
       "      <td>MEDICAL</td>\n",
       "      <td>4.00</td>\n",
       "      <td>6</td>\n",
       "      <td>1.30</td>\n",
       "      <td>100</td>\n",
       "      <td>Paid</td>\n",
       "      <td>39.99</td>\n",
       "      <td>Everyone</td>\n",
       "      <td>Medical</td>\n",
       "      <td>April 4, 2018</td>\n",
       "      <td>4.1 and up</td>\n",
       "    </tr>\n",
       "    <tr>\n",
       "      <th>2629</th>\n",
       "      <td>I am Rich Person</td>\n",
       "      <td>LIFESTYLE</td>\n",
       "      <td>4.20</td>\n",
       "      <td>134</td>\n",
       "      <td>1.80</td>\n",
       "      <td>1000</td>\n",
       "      <td>Paid</td>\n",
       "      <td>37.99</td>\n",
       "      <td>Everyone</td>\n",
       "      <td>Lifestyle</td>\n",
       "      <td>July 18, 2017</td>\n",
       "      <td>4.0.3 and up</td>\n",
       "    </tr>\n",
       "    <tr>\n",
       "      <th>2481</th>\n",
       "      <td>A Manual of Acupuncture</td>\n",
       "      <td>MEDICAL</td>\n",
       "      <td>3.50</td>\n",
       "      <td>214</td>\n",
       "      <td>68.00</td>\n",
       "      <td>1000</td>\n",
       "      <td>Paid</td>\n",
       "      <td>33.99</td>\n",
       "      <td>Everyone</td>\n",
       "      <td>Medical</td>\n",
       "      <td>October 2, 2017</td>\n",
       "      <td>4.0 and up</td>\n",
       "    </tr>\n",
       "    <tr>\n",
       "      <th>504</th>\n",
       "      <td>AP Art History Flashcards</td>\n",
       "      <td>FAMILY</td>\n",
       "      <td>5.00</td>\n",
       "      <td>1</td>\n",
       "      <td>96.00</td>\n",
       "      <td>10</td>\n",
       "      <td>Paid</td>\n",
       "      <td>29.99</td>\n",
       "      <td>Mature 17+</td>\n",
       "      <td>Education</td>\n",
       "      <td>January 19, 2016</td>\n",
       "      <td>4.0 and up</td>\n",
       "    </tr>\n",
       "    <tr>\n",
       "      <th>...</th>\n",
       "      <td>...</td>\n",
       "      <td>...</td>\n",
       "      <td>...</td>\n",
       "      <td>...</td>\n",
       "      <td>...</td>\n",
       "      <td>...</td>\n",
       "      <td>...</td>\n",
       "      <td>...</td>\n",
       "      <td>...</td>\n",
       "      <td>...</td>\n",
       "      <td>...</td>\n",
       "      <td>...</td>\n",
       "    </tr>\n",
       "    <tr>\n",
       "      <th>10824</th>\n",
       "      <td>Google Drive</td>\n",
       "      <td>PRODUCTIVITY</td>\n",
       "      <td>4.40</td>\n",
       "      <td>2731171</td>\n",
       "      <td>4.00</td>\n",
       "      <td>1000000000</td>\n",
       "      <td>Free</td>\n",
       "      <td>0.00</td>\n",
       "      <td>Everyone</td>\n",
       "      <td>Productivity</td>\n",
       "      <td>August 6, 2018</td>\n",
       "      <td>Varies with device</td>\n",
       "    </tr>\n",
       "    <tr>\n",
       "      <th>10828</th>\n",
       "      <td>YouTube</td>\n",
       "      <td>VIDEO_PLAYERS</td>\n",
       "      <td>4.30</td>\n",
       "      <td>25655305</td>\n",
       "      <td>4.65</td>\n",
       "      <td>1000000000</td>\n",
       "      <td>Free</td>\n",
       "      <td>0.00</td>\n",
       "      <td>Teen</td>\n",
       "      <td>Video Players &amp; Editors</td>\n",
       "      <td>August 2, 2018</td>\n",
       "      <td>Varies with device</td>\n",
       "    </tr>\n",
       "    <tr>\n",
       "      <th>10829</th>\n",
       "      <td>Google Play Movies &amp; TV</td>\n",
       "      <td>VIDEO_PLAYERS</td>\n",
       "      <td>3.70</td>\n",
       "      <td>906384</td>\n",
       "      <td>4.65</td>\n",
       "      <td>1000000000</td>\n",
       "      <td>Free</td>\n",
       "      <td>0.00</td>\n",
       "      <td>Teen</td>\n",
       "      <td>Video Players &amp; Editors</td>\n",
       "      <td>August 6, 2018</td>\n",
       "      <td>Varies with device</td>\n",
       "    </tr>\n",
       "    <tr>\n",
       "      <th>10831</th>\n",
       "      <td>Google News</td>\n",
       "      <td>NEWS_AND_MAGAZINES</td>\n",
       "      <td>3.90</td>\n",
       "      <td>877635</td>\n",
       "      <td>13.00</td>\n",
       "      <td>1000000000</td>\n",
       "      <td>Free</td>\n",
       "      <td>0.00</td>\n",
       "      <td>Teen</td>\n",
       "      <td>News &amp; Magazines</td>\n",
       "      <td>August 1, 2018</td>\n",
       "      <td>4.4 and up</td>\n",
       "    </tr>\n",
       "    <tr>\n",
       "      <th>82</th>\n",
       "      <td>Brick Breaker BR</td>\n",
       "      <td>GAME</td>\n",
       "      <td>5.00</td>\n",
       "      <td>7</td>\n",
       "      <td>19.00</td>\n",
       "      <td>5</td>\n",
       "      <td>Free</td>\n",
       "      <td>0.00</td>\n",
       "      <td>Everyone</td>\n",
       "      <td>Arcade</td>\n",
       "      <td>July 23, 2018</td>\n",
       "      <td>4.1 and up</td>\n",
       "    </tr>\n",
       "  </tbody>\n",
       "</table>\n",
       "<p>8182 rows × 12 columns</p>\n",
       "</div>"
      ],
      "text/plain": [
       "                             App            Category  Rating   Reviews  \\\n",
       "2281   Vargo Anesthesia Mega App             MEDICAL    4.60        92   \n",
       "1407                LTC AS Legal             MEDICAL    4.00         6   \n",
       "2629            I am Rich Person           LIFESTYLE    4.20       134   \n",
       "2481     A Manual of Acupuncture             MEDICAL    3.50       214   \n",
       "504    AP Art History Flashcards              FAMILY    5.00         1   \n",
       "...                          ...                 ...     ...       ...   \n",
       "10824               Google Drive        PRODUCTIVITY    4.40   2731171   \n",
       "10828                    YouTube       VIDEO_PLAYERS    4.30  25655305   \n",
       "10829    Google Play Movies & TV       VIDEO_PLAYERS    3.70    906384   \n",
       "10831                Google News  NEWS_AND_MAGAZINES    3.90    877635   \n",
       "82              Brick Breaker BR                GAME    5.00         7   \n",
       "\n",
       "       Size_MBs    Installs  Type  Price Content_Rating  \\\n",
       "2281      32.00        1000  Paid  79.99       Everyone   \n",
       "1407       1.30         100  Paid  39.99       Everyone   \n",
       "2629       1.80        1000  Paid  37.99       Everyone   \n",
       "2481      68.00        1000  Paid  33.99       Everyone   \n",
       "504       96.00          10  Paid  29.99     Mature 17+   \n",
       "...         ...         ...   ...    ...            ...   \n",
       "10824      4.00  1000000000  Free   0.00       Everyone   \n",
       "10828      4.65  1000000000  Free   0.00           Teen   \n",
       "10829      4.65  1000000000  Free   0.00           Teen   \n",
       "10831     13.00  1000000000  Free   0.00           Teen   \n",
       "82        19.00           5  Free   0.00       Everyone   \n",
       "\n",
       "                        Genres      Last_Updated         Android_Ver  \n",
       "2281                   Medical     June 18, 2018        4.0.3 and up  \n",
       "1407                   Medical     April 4, 2018          4.1 and up  \n",
       "2629                 Lifestyle     July 18, 2017        4.0.3 and up  \n",
       "2481                   Medical   October 2, 2017          4.0 and up  \n",
       "504                  Education  January 19, 2016          4.0 and up  \n",
       "...                        ...               ...                 ...  \n",
       "10824             Productivity    August 6, 2018  Varies with device  \n",
       "10828  Video Players & Editors    August 2, 2018  Varies with device  \n",
       "10829  Video Players & Editors    August 6, 2018  Varies with device  \n",
       "10831         News & Magazines    August 1, 2018          4.4 and up  \n",
       "82                      Arcade     July 23, 2018          4.1 and up  \n",
       "\n",
       "[8182 rows x 12 columns]"
      ]
     },
     "execution_count": 125,
     "metadata": {},
     "output_type": "execute_result"
    }
   ],
   "source": [
    "df_apps_clean = df_apps_clean[df_apps_clean.Price < 250]\n",
    "df_apps_clean.sort_values(by='Price', ascending=False)"
   ]
  },
  {
   "cell_type": "markdown",
   "metadata": {
    "id": "VGu85CLb4OOH"
   },
   "source": [
    "### Highest Grossing Paid Apps (ballpark estimate)"
   ]
  },
  {
   "cell_type": "code",
   "execution_count": 142,
   "metadata": {
    "id": "3mDi45iIoVzE"
   },
   "outputs": [
    {
     "name": "stdout",
     "output_type": "stream",
     "text": [
      "<class 'pandas.core.frame.DataFrame'>\n",
      "Index: 8182 entries, 21 to 10835\n",
      "Data columns (total 13 columns):\n",
      " #   Column            Non-Null Count  Dtype  \n",
      "---  ------            --------------  -----  \n",
      " 0   App               8182 non-null   object \n",
      " 1   Category          8182 non-null   object \n",
      " 2   Rating            8182 non-null   float64\n",
      " 3   Reviews           8182 non-null   int64  \n",
      " 4   Size_MBs          8182 non-null   float64\n",
      " 5   Installs          8182 non-null   int64  \n",
      " 6   Type              8182 non-null   object \n",
      " 7   Price             8182 non-null   float64\n",
      " 8   Content_Rating    8182 non-null   object \n",
      " 9   Genres            8182 non-null   object \n",
      " 10  Last_Updated      8182 non-null   object \n",
      " 11  Android_Ver       8182 non-null   object \n",
      " 12  Revenue_Estimate  8182 non-null   float64\n",
      "dtypes: float64(4), int64(2), object(7)\n",
      "memory usage: 894.9+ KB\n"
     ]
    }
   ],
   "source": [
    "df_apps_clean['Revenue_Estimate'] = df_apps_clean.Installs * df_apps_clean.Price\n",
    "df_apps_clean.sort_values('Revenue_Estimate', ascending=False).head(10)\n",
    "df_apps_clean.info()"
   ]
  },
  {
   "cell_type": "markdown",
   "metadata": {
    "dc": {
     "key": "18"
    },
    "id": "lvpM2MyTdiU6",
    "run_control": {
     "frozen": true
    },
    "tags": [
     "context"
    ]
   },
   "source": [
    "# Plotly Bar Charts & Scatter Plots: Analysing App Categories"
   ]
  },
  {
   "cell_type": "code",
   "execution_count": null,
   "metadata": {
    "id": "3L6hK0aLoYxY"
   },
   "outputs": [],
   "source": []
  },
  {
   "cell_type": "code",
   "execution_count": null,
   "metadata": {
    "id": "mg50Ts9joYz1"
   },
   "outputs": [],
   "source": []
  },
  {
   "cell_type": "code",
   "execution_count": null,
   "metadata": {
    "id": "WZZizlGjoYfn"
   },
   "outputs": [],
   "source": []
  },
  {
   "cell_type": "markdown",
   "metadata": {
    "id": "0tTurR7qdiU9"
   },
   "source": [
    "### Vertical Bar Chart - Highest Competition (Number of Apps)"
   ]
  },
  {
   "cell_type": "code",
   "execution_count": null,
   "metadata": {
    "id": "SFSMH00AoaMB"
   },
   "outputs": [],
   "source": []
  },
  {
   "cell_type": "markdown",
   "metadata": {
    "id": "57mowetLdiU_"
   },
   "source": [
    "### Horizontal Bar Chart - Most Popular Categories (Highest Downloads)"
   ]
  },
  {
   "cell_type": "code",
   "execution_count": null,
   "metadata": {
    "id": "zHO7eTJmocLm"
   },
   "outputs": [],
   "source": []
  },
  {
   "cell_type": "code",
   "execution_count": null,
   "metadata": {
    "id": "h7aUARLtocCy"
   },
   "outputs": [],
   "source": []
  },
  {
   "cell_type": "markdown",
   "metadata": {
    "id": "Uxk24qMk8vrz"
   },
   "source": [
    "### Category Concentration - Downloads vs. Competition\n",
    "\n",
    "**Challenge**: \n",
    "* First, create a DataFrame that has the number of apps in one column and the number of installs in another:\n",
    "\n",
    "<img src=https://imgur.com/uQRSlXi.png width=\"350\">\n",
    "\n",
    "* Then use the [plotly express examples from the documentation](https://plotly.com/python/line-and-scatter/) alongside the [.scatter() API reference](https://plotly.com/python-api-reference/generated/plotly.express.scatter.html)to create scatter plot that looks like this. \n",
    "\n",
    "<img src=https://imgur.com/cHsqh6a.png>\n",
    "\n",
    "*Hint*: Use the size, hover_name and color parameters in .scatter(). To scale the yaxis, call .update_layout() and specify that the yaxis should be on a log-scale like so: yaxis=dict(type='log') "
   ]
  },
  {
   "cell_type": "code",
   "execution_count": null,
   "metadata": {
    "id": "tVvGPDY7oe5A"
   },
   "outputs": [],
   "source": []
  },
  {
   "cell_type": "markdown",
   "metadata": {
    "id": "dmXDF75WdiVC"
   },
   "source": [
    "# Extracting Nested Data from a Column\n",
    "\n",
    "**Challenge**: How many different types of genres are there? Can an app belong to more than one genre? Check what happens when you use .value_counts() on a column with nested values? See if you can work around this problem by using the .split() function and the DataFrame's [.stack() method](https://pandas.pydata.org/pandas-docs/stable/reference/api/pandas.DataFrame.stack.html). \n"
   ]
  },
  {
   "cell_type": "code",
   "execution_count": null,
   "metadata": {
    "id": "3Lo69kS6ogdm"
   },
   "outputs": [],
   "source": []
  },
  {
   "cell_type": "markdown",
   "metadata": {
    "id": "F3zaKvfydiVI"
   },
   "source": [
    "# Colour Scales in Plotly Charts - Competition in Genres"
   ]
  },
  {
   "cell_type": "markdown",
   "metadata": {
    "id": "Ucw6RT59diVK"
   },
   "source": [
    "**Challenge**: Can you create this chart with the Series containing the genre data? \n",
    "\n",
    "<img src=https://imgur.com/DbcoQli.png width=400>\n",
    "\n",
    "Try experimenting with the built in colour scales in Plotly. You can find a full list [here](https://plotly.com/python/builtin-colorscales/). \n",
    "\n",
    "* Find a way to set the colour scale using the color_continuous_scale parameter. \n",
    "* Find a way to make the color axis disappear by using coloraxis_showscale. "
   ]
  },
  {
   "cell_type": "code",
   "execution_count": null,
   "metadata": {
    "id": "c5xbfMgxojoA"
   },
   "outputs": [],
   "source": []
  },
  {
   "cell_type": "markdown",
   "metadata": {
    "id": "BIWG_10PyIzL"
   },
   "source": [
    "# Grouped Bar Charts: Free vs. Paid Apps per Category"
   ]
  },
  {
   "cell_type": "code",
   "execution_count": null,
   "metadata": {
    "id": "ANMs7xywolDH"
   },
   "outputs": [],
   "source": []
  },
  {
   "cell_type": "markdown",
   "metadata": {
    "id": "wmRXm0TW1e_Z"
   },
   "source": [
    "**Challenge**: Use the plotly express bar [chart examples](https://plotly.com/python/bar-charts/#bar-chart-with-sorted-or-ordered-categories) and the [.bar() API reference](https://plotly.com/python-api-reference/generated/plotly.express.bar.html#plotly.express.bar) to create this bar chart: \n",
    "\n",
    "<img src=https://imgur.com/LE0XCxA.png>\n",
    "\n",
    "You'll want to use the `df_free_vs_paid` DataFrame that you created above that has the total number of free and paid apps per category. \n",
    "\n",
    "See if you can figure out how to get the look above by changing the `categoryorder` to 'total descending' as outlined in the documentation here [here](https://plotly.com/python/categorical-axes/#automatically-sorting-categories-by-name-or-total-value). "
   ]
  },
  {
   "cell_type": "code",
   "execution_count": null,
   "metadata": {
    "id": "tqOntrS7onGt"
   },
   "outputs": [],
   "source": []
  },
  {
   "cell_type": "markdown",
   "metadata": {
    "id": "nbYh2tU-VZ-i"
   },
   "source": [
    "# Plotly Box Plots: Lost Downloads for Paid Apps\n",
    "\n",
    "**Challenge**: Create a box plot that shows the number of Installs for free versus paid apps. How does the median number of installations compare? Is the difference large or small?\n",
    "\n",
    "Use the [Box Plots Guide](https://plotly.com/python/box-plots/) and the [.box API reference](https://plotly.com/python-api-reference/generated/plotly.express.box.html) to create the following chart. \n",
    "\n",
    "<img src=https://imgur.com/uVsECT3.png>\n"
   ]
  },
  {
   "cell_type": "code",
   "execution_count": null,
   "metadata": {
    "id": "Jip3hMZ7oqLS"
   },
   "outputs": [],
   "source": []
  },
  {
   "cell_type": "markdown",
   "metadata": {
    "id": "Xi2NaEBPVNrP"
   },
   "source": [
    "# Plotly Box Plots: Revenue by App Category\n",
    "\n",
    "**Challenge**: See if you can generate the chart below: \n",
    "\n",
    "<img src=https://imgur.com/v4CiNqX.png>\n",
    "\n",
    "Looking at the hover text, how much does the median app earn in the Tools category? If developing an Android app costs $30,000 or thereabouts, does the average photography app recoup its development costs?\n",
    "\n",
    "Hint: I've used 'min ascending' to sort the categories. "
   ]
  },
  {
   "cell_type": "code",
   "execution_count": null,
   "metadata": {
    "id": "W1iVoT8Dos7x"
   },
   "outputs": [],
   "source": []
  },
  {
   "cell_type": "markdown",
   "metadata": {
    "id": "uT32ylj4WS9B"
   },
   "source": [
    "# How Much Can You Charge? Examine Paid App Pricing Strategies by Category\n",
    "\n",
    "**Challenge**: What is the median price price for a paid app? Then compare pricing by category by creating another box plot. But this time examine the prices (instead of the revenue estimates) of the paid apps. I recommend using `{categoryorder':'max descending'}` to sort the categories."
   ]
  },
  {
   "cell_type": "code",
   "execution_count": null,
   "metadata": {
    "id": "AdBr0TUhouqs"
   },
   "outputs": [],
   "source": []
  },
  {
   "cell_type": "code",
   "execution_count": null,
   "metadata": {
    "id": "bJnABRw3ovwr"
   },
   "outputs": [],
   "source": []
  },
  {
   "cell_type": "code",
   "execution_count": null,
   "metadata": {
    "id": "zSXVSlVyQ4Kz"
   },
   "outputs": [],
   "source": []
  }
 ],
 "metadata": {
  "colab": {
   "name": "Google Play Store App Analytics (start).ipynb",
   "provenance": [],
   "toc_visible": true
  },
  "kernelspec": {
   "display_name": ".venv (3.10.11)",
   "language": "python",
   "name": "python3"
  },
  "language_info": {
   "codemirror_mode": {
    "name": "ipython",
    "version": 3
   },
   "file_extension": ".py",
   "mimetype": "text/x-python",
   "name": "python",
   "nbconvert_exporter": "python",
   "pygments_lexer": "ipython3",
   "version": "3.11.1"
  }
 },
 "nbformat": 4,
 "nbformat_minor": 0
}
