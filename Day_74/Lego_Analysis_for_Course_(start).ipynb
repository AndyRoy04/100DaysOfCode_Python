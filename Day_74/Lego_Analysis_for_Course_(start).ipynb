{
  "cells": [
    {
      "cell_type": "markdown",
      "metadata": {
        "colab_type": "text",
        "dc": {
          "key": "1d0b086e6c"
        },
        "id": "s9JLDE8NIquP",
        "run_control": {
          "frozen": true
        },
        "tags": [
          "context"
        ]
      },
      "source": [
        "# Introduction\n",
        "\n",
        "Today we'll dive deep into a dataset all about LEGO. From the dataset we can ask whole bunch of interesting questions about the history of the LEGO company, their product offering, and which LEGO set ultimately rules them all:\n",
        "\n",
        "<ul type=\"square\">\n",
        "<li>What is the most enormous LEGO set ever created and how many parts did it have?</li>\n",
        "\n",
        "<li>How did the LEGO company start out? In which year were the first LEGO sets released and how many sets did the company sell when it first launched?</li>\n",
        "\n",
        "<li>Which LEGO theme has the most sets? Is it one of LEGO's own themes like Ninjago or a theme they licensed liked Harry Potter or Marvel Superheroes?</li>\n",
        "\n",
        "<li>When did the LEGO company really expand its product offering? Can we spot a change in the company strategy based on how many themes and sets did it released year-on-year?</li>\n",
        "\n",
        "<li>Did LEGO sets grow in size and complexity over time? Do older LEGO \n",
        "sets tend to have more or fewer parts than newer sets?</li>\n",
        "</ul>\n",
        "\n",
        "**Data Source**\n",
        "\n",
        "[Rebrickable](https://rebrickable.com/downloads/) has compiled data on all the LEGO pieces in existence. I recommend you use download the .csv files provided in this lesson. "
      ]
    },
    {
      "cell_type": "markdown",
      "metadata": {},
      "source": [
        "### Bricks Image\n",
        "<img src=\"./assets/bricks.jpg\">"
      ]
    },
    {
      "cell_type": "markdown",
      "metadata": {
        "colab_type": "text",
        "id": "V0u2lGJuIquQ"
      },
      "source": [
        "# Import Statements"
      ]
    },
    {
      "cell_type": "code",
      "execution_count": 45,
      "metadata": {
        "colab": {},
        "colab_type": "code",
        "id": "z5Wk7rs-IquQ"
      },
      "outputs": [],
      "source": [
        "import pandas as pd\n",
        "import matplotlib.pyplot as plt"
      ]
    },
    {
      "cell_type": "markdown",
      "metadata": {
        "colab_type": "text",
        "id": "R5NQpJ_KIquT"
      },
      "source": [
        "# Data Exploration"
      ]
    },
    {
      "cell_type": "markdown",
      "metadata": {
        "colab_type": "text",
        "dc": {
          "key": "044b2cef41"
        },
        "id": "ffaG-UFYIquT",
        "run_control": {
          "frozen": true
        },
        "tags": [
          "context"
        ]
      },
      "source": [
        "**Challenge**: How many different colours does the LEGO company produce? Read the colors.csv file in the data folder and find the total number of unique colours. Try using the [.nunique() method](https://pandas.pydata.org/pandas-docs/stable/reference/api/pandas.DataFrame.nunique.html?highlight=nunique#pandas.DataFrame.nunique) to accomplish this."
      ]
    },
    {
      "cell_type": "code",
      "execution_count": 46,
      "metadata": {
        "colab": {},
        "colab_type": "code",
        "id": "yd4G9pK7IquU"
      },
      "outputs": [],
      "source": [
        "colors = pd.read_csv('./data/colors.csv')"
      ]
    },
    {
      "cell_type": "code",
      "execution_count": 47,
      "metadata": {
        "colab": {},
        "colab_type": "code",
        "dc": {
          "key": "044b2cef41"
        },
        "id": "QmbAXax7IquW"
      },
      "outputs": [
        {
          "data": {
            "application/vnd.microsoft.datawrangler.viewer.v0+json": {
              "columns": [
                {
                  "name": "index",
                  "rawType": "object",
                  "type": "string"
                },
                {
                  "name": "0",
                  "rawType": "int64",
                  "type": "integer"
                }
              ],
              "ref": "e9e9055a-2e9c-4792-a9a3-7ab3e9d7a38f",
              "rows": [
                [
                  "id",
                  "273"
                ],
                [
                  "name",
                  "273"
                ],
                [
                  "rgb",
                  "231"
                ],
                [
                  "is_trans",
                  "2"
                ],
                [
                  "num_parts",
                  "179"
                ],
                [
                  "num_sets",
                  "159"
                ],
                [
                  "y1",
                  "48"
                ],
                [
                  "y2",
                  "36"
                ]
              ],
              "shape": {
                "columns": 1,
                "rows": 8
              }
            },
            "text/plain": [
              "id           273\n",
              "name         273\n",
              "rgb          231\n",
              "is_trans       2\n",
              "num_parts    179\n",
              "num_sets     159\n",
              "y1            48\n",
              "y2            36\n",
              "dtype: int64"
            ]
          },
          "execution_count": 47,
          "metadata": {},
          "output_type": "execute_result"
        }
      ],
      "source": [
        "colors.nunique()"
      ]
    },
    {
      "cell_type": "code",
      "execution_count": 48,
      "metadata": {
        "colab": {},
        "colab_type": "code",
        "dc": {
          "key": "15c1e2ce38"
        },
        "id": "SMc2sKiIIquY",
        "tags": [
          "sample_code"
        ]
      },
      "outputs": [
        {
          "data": {
            "text/plain": [
              "273"
            ]
          },
          "execution_count": 48,
          "metadata": {},
          "output_type": "execute_result"
        }
      ],
      "source": [
        "colors.name.nunique()    # counting the number of unique rgb in our DataFrame"
      ]
    },
    {
      "cell_type": "markdown",
      "metadata": {
        "colab_type": "text",
        "dc": {
          "key": "a5723ae5c2"
        },
        "id": "PItRbqgcIqua",
        "run_control": {
          "frozen": true
        },
        "tags": [
          "context"
        ]
      },
      "source": [
        "**Challenge**: Find the number of transparent colours where <code>is_trans == 't'</code> versus the number of opaque colours where <code>is_trans == 'f'</code>. See if you can accomplish this in two different ways."
      ]
    },
    {
      "cell_type": "code",
      "execution_count": 49,
      "metadata": {},
      "outputs": [
        {
          "data": {
            "application/vnd.microsoft.datawrangler.viewer.v0+json": {
              "columns": [
                {
                  "name": "is_trans",
                  "rawType": "bool",
                  "type": "boolean"
                },
                {
                  "name": "count",
                  "rawType": "int64",
                  "type": "integer"
                }
              ],
              "ref": "c23cfa93-b0ad-49d1-89b1-2a65f1935668",
              "rows": [
                [
                  "False",
                  "228"
                ],
                [
                  "True",
                  "45"
                ]
              ],
              "shape": {
                "columns": 1,
                "rows": 2
              }
            },
            "text/plain": [
              "is_trans\n",
              "False    228\n",
              "True      45\n",
              "Name: count, dtype: int64"
            ]
          },
          "execution_count": 49,
          "metadata": {},
          "output_type": "execute_result"
        }
      ],
      "source": [
        "colors['is_trans'].value_counts()\n",
        "#  OR\n",
        "# colors.groupby('is_trans').count()"
      ]
    },
    {
      "cell_type": "code",
      "execution_count": 50,
      "metadata": {
        "colab": {},
        "colab_type": "code",
        "id": "1UZrfq82Iqub"
      },
      "outputs": [
        {
          "ename": "KeyError",
          "evalue": "'t'",
          "output_type": "error",
          "traceback": [
            "\u001b[31m---------------------------------------------------------------------------\u001b[39m",
            "\u001b[31mKeyError\u001b[39m                                  Traceback (most recent call last)",
            "\u001b[36mFile \u001b[39m\u001b[32mc:\\Users\\djeut\\OneDrive\\Desktop\\Python Code\\100DaysOfCode\\.venv\\Lib\\site-packages\\pandas\\core\\indexes\\base.py:3812\u001b[39m, in \u001b[36mIndex.get_loc\u001b[39m\u001b[34m(self, key)\u001b[39m\n\u001b[32m   3811\u001b[39m \u001b[38;5;28;01mtry\u001b[39;00m:\n\u001b[32m-> \u001b[39m\u001b[32m3812\u001b[39m     \u001b[38;5;28;01mreturn\u001b[39;00m \u001b[38;5;28;43mself\u001b[39;49m\u001b[43m.\u001b[49m\u001b[43m_engine\u001b[49m\u001b[43m.\u001b[49m\u001b[43mget_loc\u001b[49m\u001b[43m(\u001b[49m\u001b[43mcasted_key\u001b[49m\u001b[43m)\u001b[49m\n\u001b[32m   3813\u001b[39m \u001b[38;5;28;01mexcept\u001b[39;00m \u001b[38;5;167;01mKeyError\u001b[39;00m \u001b[38;5;28;01mas\u001b[39;00m err:\n",
            "\u001b[36mFile \u001b[39m\u001b[32mpandas/_libs/index.pyx:167\u001b[39m, in \u001b[36mpandas._libs.index.IndexEngine.get_loc\u001b[39m\u001b[34m()\u001b[39m\n",
            "\u001b[36mFile \u001b[39m\u001b[32mpandas/_libs/index.pyx:175\u001b[39m, in \u001b[36mpandas._libs.index.IndexEngine.get_loc\u001b[39m\u001b[34m()\u001b[39m\n",
            "\u001b[36mFile \u001b[39m\u001b[32mpandas/_libs/index.pyx:820\u001b[39m, in \u001b[36mpandas._libs.index.BoolEngine._check_type\u001b[39m\u001b[34m()\u001b[39m\n",
            "\u001b[31mKeyError\u001b[39m: 't'",
            "\nThe above exception was the direct cause of the following exception:\n",
            "\u001b[31mKeyError\u001b[39m                                  Traceback (most recent call last)",
            "\u001b[36mCell\u001b[39m\u001b[36m \u001b[39m\u001b[32mIn[50]\u001b[39m\u001b[32m, line 1\u001b[39m\n\u001b[32m----> \u001b[39m\u001b[32m1\u001b[39m \u001b[43mcolors\u001b[49m\u001b[43m[\u001b[49m\u001b[33;43m'\u001b[39;49m\u001b[33;43mis_trans\u001b[39;49m\u001b[33;43m'\u001b[39;49m\u001b[43m]\u001b[49m\u001b[43m.\u001b[49m\u001b[43mvalue_counts\u001b[49m\u001b[43m(\u001b[49m\u001b[43m)\u001b[49m\u001b[43m[\u001b[49m\u001b[33;43m'\u001b[39;49m\u001b[33;43mt\u001b[39;49m\u001b[33;43m'\u001b[39;49m\u001b[43m]\u001b[49m  \u001b[38;5;66;03m# Counting the number of occurence trans colors in our DaFr\u001b[39;00m\n",
            "\u001b[36mFile \u001b[39m\u001b[32mc:\\Users\\djeut\\OneDrive\\Desktop\\Python Code\\100DaysOfCode\\.venv\\Lib\\site-packages\\pandas\\core\\series.py:1130\u001b[39m, in \u001b[36mSeries.__getitem__\u001b[39m\u001b[34m(self, key)\u001b[39m\n\u001b[32m   1127\u001b[39m     \u001b[38;5;28;01mreturn\u001b[39;00m \u001b[38;5;28mself\u001b[39m._values[key]\n\u001b[32m   1129\u001b[39m \u001b[38;5;28;01melif\u001b[39;00m key_is_scalar:\n\u001b[32m-> \u001b[39m\u001b[32m1130\u001b[39m     \u001b[38;5;28;01mreturn\u001b[39;00m \u001b[38;5;28;43mself\u001b[39;49m\u001b[43m.\u001b[49m\u001b[43m_get_value\u001b[49m\u001b[43m(\u001b[49m\u001b[43mkey\u001b[49m\u001b[43m)\u001b[49m\n\u001b[32m   1132\u001b[39m \u001b[38;5;66;03m# Convert generator to list before going through hashable part\u001b[39;00m\n\u001b[32m   1133\u001b[39m \u001b[38;5;66;03m# (We will iterate through the generator there to check for slices)\u001b[39;00m\n\u001b[32m   1134\u001b[39m \u001b[38;5;28;01mif\u001b[39;00m is_iterator(key):\n",
            "\u001b[36mFile \u001b[39m\u001b[32mc:\\Users\\djeut\\OneDrive\\Desktop\\Python Code\\100DaysOfCode\\.venv\\Lib\\site-packages\\pandas\\core\\series.py:1246\u001b[39m, in \u001b[36mSeries._get_value\u001b[39m\u001b[34m(self, label, takeable)\u001b[39m\n\u001b[32m   1243\u001b[39m     \u001b[38;5;28;01mreturn\u001b[39;00m \u001b[38;5;28mself\u001b[39m._values[label]\n\u001b[32m   1245\u001b[39m \u001b[38;5;66;03m# Similar to Index.get_value, but we do not fall back to positional\u001b[39;00m\n\u001b[32m-> \u001b[39m\u001b[32m1246\u001b[39m loc = \u001b[38;5;28;43mself\u001b[39;49m\u001b[43m.\u001b[49m\u001b[43mindex\u001b[49m\u001b[43m.\u001b[49m\u001b[43mget_loc\u001b[49m\u001b[43m(\u001b[49m\u001b[43mlabel\u001b[49m\u001b[43m)\u001b[49m\n\u001b[32m   1248\u001b[39m \u001b[38;5;28;01mif\u001b[39;00m is_integer(loc):\n\u001b[32m   1249\u001b[39m     \u001b[38;5;28;01mreturn\u001b[39;00m \u001b[38;5;28mself\u001b[39m._values[loc]\n",
            "\u001b[36mFile \u001b[39m\u001b[32mc:\\Users\\djeut\\OneDrive\\Desktop\\Python Code\\100DaysOfCode\\.venv\\Lib\\site-packages\\pandas\\core\\indexes\\base.py:3819\u001b[39m, in \u001b[36mIndex.get_loc\u001b[39m\u001b[34m(self, key)\u001b[39m\n\u001b[32m   3814\u001b[39m     \u001b[38;5;28;01mif\u001b[39;00m \u001b[38;5;28misinstance\u001b[39m(casted_key, \u001b[38;5;28mslice\u001b[39m) \u001b[38;5;129;01mor\u001b[39;00m (\n\u001b[32m   3815\u001b[39m         \u001b[38;5;28misinstance\u001b[39m(casted_key, abc.Iterable)\n\u001b[32m   3816\u001b[39m         \u001b[38;5;129;01mand\u001b[39;00m \u001b[38;5;28many\u001b[39m(\u001b[38;5;28misinstance\u001b[39m(x, \u001b[38;5;28mslice\u001b[39m) \u001b[38;5;28;01mfor\u001b[39;00m x \u001b[38;5;129;01min\u001b[39;00m casted_key)\n\u001b[32m   3817\u001b[39m     ):\n\u001b[32m   3818\u001b[39m         \u001b[38;5;28;01mraise\u001b[39;00m InvalidIndexError(key)\n\u001b[32m-> \u001b[39m\u001b[32m3819\u001b[39m     \u001b[38;5;28;01mraise\u001b[39;00m \u001b[38;5;167;01mKeyError\u001b[39;00m(key) \u001b[38;5;28;01mfrom\u001b[39;00m\u001b[38;5;250m \u001b[39m\u001b[34;01merr\u001b[39;00m\n\u001b[32m   3820\u001b[39m \u001b[38;5;28;01mexcept\u001b[39;00m \u001b[38;5;167;01mTypeError\u001b[39;00m:\n\u001b[32m   3821\u001b[39m     \u001b[38;5;66;03m# If we have a listlike key, _check_indexing_error will raise\u001b[39;00m\n\u001b[32m   3822\u001b[39m     \u001b[38;5;66;03m#  InvalidIndexError. Otherwise we fall through and re-raise\u001b[39;00m\n\u001b[32m   3823\u001b[39m     \u001b[38;5;66;03m#  the TypeError.\u001b[39;00m\n\u001b[32m   3824\u001b[39m     \u001b[38;5;28mself\u001b[39m._check_indexing_error(key)\n",
            "\u001b[31mKeyError\u001b[39m: 't'"
          ]
        }
      ],
      "source": [
        "colors['is_trans'].value_counts()['t']  # Counting the number of occurence trans colors in our DaFr"
      ]
    },
    {
      "cell_type": "code",
      "execution_count": null,
      "metadata": {
        "colab": {},
        "colab_type": "code",
        "id": "KQFf-leCIqud"
      },
      "outputs": [
        {
          "data": {
            "text/plain": [
              "np.int64(107)"
            ]
          },
          "execution_count": 40,
          "metadata": {},
          "output_type": "execute_result"
        }
      ],
      "source": [
        "colors['is_trans'].value_counts()['f']  # Counting the number of occurence opaque colors in our DaFr"
      ]
    },
    {
      "cell_type": "markdown",
      "metadata": {
        "colab_type": "text",
        "id": "TMqdhUYcusfy"
      },
      "source": [
        "### Understanding LEGO Themes vs. LEGO Sets"
      ]
    },
    {
      "cell_type": "markdown",
      "metadata": {
        "colab_type": "text",
        "id": "y0kxCh63uwOv"
      },
      "source": [
        "Walk into a LEGO store and you will see their products organised by theme. Their themes include Star Wars, Batman, Harry Potter and many more.\n",
        "\n",
        "<img src='https://i.imgur.com/aKcwkSx.png'> "
      ]
    },
    {
      "cell_type": "markdown",
      "metadata": {
        "colab_type": "text",
        "dc": {
          "key": "c9d0e58653"
        },
        "id": "u_xkZUF8Iqug",
        "run_control": {
          "frozen": true
        },
        "tags": [
          "context"
        ]
      },
      "source": [
        "A lego set is a particular box of LEGO or product. Therefore, a single theme typically has many different sets.\n",
        "\n",
        "<img src='https://i.imgur.com/whB1olq.png'>"
      ]
    },
    {
      "cell_type": "markdown",
      "metadata": {
        "colab_type": "text",
        "id": "jJTAROe5unkx"
      },
      "source": [
        "The <code>sets.csv</code> data contains a list of sets over the years and the number of parts that each of these sets contained.\n",
        "\n",
        "**Challenge**: Read the sets.csv data and take a look at the first and last couple of rows. "
      ]
    },
    {
      "cell_type": "code",
      "execution_count": 84,
      "metadata": {
        "colab": {},
        "colab_type": "code",
        "id": "vGMOv-NRIquh"
      },
      "outputs": [],
      "source": [
        "sets = pd.read_csv('./data/sets.csv')   #reading the sets Data"
      ]
    },
    {
      "cell_type": "code",
      "execution_count": 53,
      "metadata": {
        "colab": {},
        "colab_type": "code",
        "id": "T3lLFvyZIqui"
      },
      "outputs": [
        {
          "data": {
            "application/vnd.microsoft.datawrangler.viewer.v0+json": {
              "columns": [
                {
                  "name": "index",
                  "rawType": "int64",
                  "type": "integer"
                },
                {
                  "name": "set_num",
                  "rawType": "object",
                  "type": "string"
                },
                {
                  "name": "name",
                  "rawType": "object",
                  "type": "string"
                },
                {
                  "name": "year",
                  "rawType": "int64",
                  "type": "integer"
                },
                {
                  "name": "theme_id",
                  "rawType": "int64",
                  "type": "integer"
                },
                {
                  "name": "num_parts",
                  "rawType": "int64",
                  "type": "integer"
                },
                {
                  "name": "img_url",
                  "rawType": "object",
                  "type": "string"
                }
              ],
              "ref": "553f7a8d-fcb2-4565-96c3-4d2f7c8d1b41",
              "rows": [
                [
                  "0",
                  "0003977811-1",
                  "Ninjago: Book of Adventures",
                  "2022",
                  "761",
                  "1",
                  "https://cdn.rebrickable.com/media/sets/0003977811-1.jpg"
                ],
                [
                  "1",
                  "001-1",
                  "Gears",
                  "1965",
                  "756",
                  "43",
                  "https://cdn.rebrickable.com/media/sets/001-1.jpg"
                ],
                [
                  "2",
                  "0011-2",
                  "Town Mini-Figures",
                  "1979",
                  "67",
                  "12",
                  "https://cdn.rebrickable.com/media/sets/0011-2.jpg"
                ],
                [
                  "3",
                  "0011-3",
                  "Castle 2 for 1 Bonus Offer",
                  "1987",
                  "199",
                  "0",
                  "https://cdn.rebrickable.com/media/sets/0011-3.jpg"
                ],
                [
                  "4",
                  "0012-1",
                  "Space Mini-Figures",
                  "1979",
                  "143",
                  "12",
                  "https://cdn.rebrickable.com/media/sets/0012-1.jpg"
                ]
              ],
              "shape": {
                "columns": 6,
                "rows": 5
              }
            },
            "text/html": [
              "<div>\n",
              "<style scoped>\n",
              "    .dataframe tbody tr th:only-of-type {\n",
              "        vertical-align: middle;\n",
              "    }\n",
              "\n",
              "    .dataframe tbody tr th {\n",
              "        vertical-align: top;\n",
              "    }\n",
              "\n",
              "    .dataframe thead th {\n",
              "        text-align: right;\n",
              "    }\n",
              "</style>\n",
              "<table border=\"1\" class=\"dataframe\">\n",
              "  <thead>\n",
              "    <tr style=\"text-align: right;\">\n",
              "      <th></th>\n",
              "      <th>set_num</th>\n",
              "      <th>name</th>\n",
              "      <th>year</th>\n",
              "      <th>theme_id</th>\n",
              "      <th>num_parts</th>\n",
              "      <th>img_url</th>\n",
              "    </tr>\n",
              "  </thead>\n",
              "  <tbody>\n",
              "    <tr>\n",
              "      <th>0</th>\n",
              "      <td>0003977811-1</td>\n",
              "      <td>Ninjago: Book of Adventures</td>\n",
              "      <td>2022</td>\n",
              "      <td>761</td>\n",
              "      <td>1</td>\n",
              "      <td>https://cdn.rebrickable.com/media/sets/0003977...</td>\n",
              "    </tr>\n",
              "    <tr>\n",
              "      <th>1</th>\n",
              "      <td>001-1</td>\n",
              "      <td>Gears</td>\n",
              "      <td>1965</td>\n",
              "      <td>756</td>\n",
              "      <td>43</td>\n",
              "      <td>https://cdn.rebrickable.com/media/sets/001-1.jpg</td>\n",
              "    </tr>\n",
              "    <tr>\n",
              "      <th>2</th>\n",
              "      <td>0011-2</td>\n",
              "      <td>Town Mini-Figures</td>\n",
              "      <td>1979</td>\n",
              "      <td>67</td>\n",
              "      <td>12</td>\n",
              "      <td>https://cdn.rebrickable.com/media/sets/0011-2.jpg</td>\n",
              "    </tr>\n",
              "    <tr>\n",
              "      <th>3</th>\n",
              "      <td>0011-3</td>\n",
              "      <td>Castle 2 for 1 Bonus Offer</td>\n",
              "      <td>1987</td>\n",
              "      <td>199</td>\n",
              "      <td>0</td>\n",
              "      <td>https://cdn.rebrickable.com/media/sets/0011-3.jpg</td>\n",
              "    </tr>\n",
              "    <tr>\n",
              "      <th>4</th>\n",
              "      <td>0012-1</td>\n",
              "      <td>Space Mini-Figures</td>\n",
              "      <td>1979</td>\n",
              "      <td>143</td>\n",
              "      <td>12</td>\n",
              "      <td>https://cdn.rebrickable.com/media/sets/0012-1.jpg</td>\n",
              "    </tr>\n",
              "  </tbody>\n",
              "</table>\n",
              "</div>"
            ],
            "text/plain": [
              "        set_num                         name  year  theme_id  num_parts  \\\n",
              "0  0003977811-1  Ninjago: Book of Adventures  2022       761          1   \n",
              "1         001-1                        Gears  1965       756         43   \n",
              "2        0011-2            Town Mini-Figures  1979        67         12   \n",
              "3        0011-3   Castle 2 for 1 Bonus Offer  1987       199          0   \n",
              "4        0012-1           Space Mini-Figures  1979       143         12   \n",
              "\n",
              "                                             img_url  \n",
              "0  https://cdn.rebrickable.com/media/sets/0003977...  \n",
              "1   https://cdn.rebrickable.com/media/sets/001-1.jpg  \n",
              "2  https://cdn.rebrickable.com/media/sets/0011-2.jpg  \n",
              "3  https://cdn.rebrickable.com/media/sets/0011-3.jpg  \n",
              "4  https://cdn.rebrickable.com/media/sets/0012-1.jpg  "
            ]
          },
          "execution_count": 53,
          "metadata": {},
          "output_type": "execute_result"
        }
      ],
      "source": [
        "sets.head()"
      ]
    },
    {
      "cell_type": "code",
      "execution_count": null,
      "metadata": {
        "colab": {},
        "colab_type": "code",
        "id": "XprDBmzwIquk"
      },
      "outputs": [
        {
          "data": {
            "application/vnd.microsoft.datawrangler.viewer.v0+json": {
              "columns": [
                {
                  "name": "index",
                  "rawType": "int64",
                  "type": "integer"
                },
                {
                  "name": "set_num",
                  "rawType": "object",
                  "type": "string"
                },
                {
                  "name": "name",
                  "rawType": "object",
                  "type": "string"
                },
                {
                  "name": "year",
                  "rawType": "int64",
                  "type": "integer"
                },
                {
                  "name": "theme_id",
                  "rawType": "int64",
                  "type": "integer"
                },
                {
                  "name": "num_parts",
                  "rawType": "int64",
                  "type": "integer"
                },
                {
                  "name": "img_url",
                  "rawType": "object",
                  "type": "string"
                }
              ],
              "ref": "8e0c7182-bf34-404a-ad08-c4d59befdc94",
              "rows": [
                [
                  "15358",
                  "700.1-1",
                  "Extra-Large Gift Set (ABB)",
                  "1949",
                  "365",
                  "142",
                  "https://cdn.rebrickable.com/media/sets/700.1-1.jpg"
                ],
                [
                  "15371",
                  "700.2-1",
                  "Large Gift Set (ABB)",
                  "1949",
                  "365",
                  "178",
                  "https://cdn.rebrickable.com/media/sets/700.2-1.jpg"
                ],
                [
                  "15376",
                  "700.3-1",
                  "Medium Gift Set (ABB)",
                  "1949",
                  "365",
                  "142",
                  "https://cdn.rebrickable.com/media/sets/700.3-1.jpg"
                ],
                [
                  "15382",
                  "700.A-1",
                  "Small Brick Set (ABB)",
                  "1949",
                  "371",
                  "24",
                  "https://cdn.rebrickable.com/media/sets/700.a-1.jpg"
                ],
                [
                  "15383",
                  "700.B-1",
                  "Small Doors and Windows Set (ABB)",
                  "1949",
                  "371",
                  "12",
                  "https://cdn.rebrickable.com/media/sets/700.b-1.jpg"
                ],
                [
                  "15363",
                  "700.1.2-1",
                  "Single 2 x 2 Brick (ABB)",
                  "1950",
                  "371",
                  "1",
                  "https://cdn.rebrickable.com/media/sets/700.1.2-1.jpg"
                ],
                [
                  "15360",
                  "700.1.1-1",
                  "Single 2 x 4 Brick (ABB)",
                  "1950",
                  "371",
                  "1",
                  "https://cdn.rebrickable.com/media/sets/700.1.1-1.jpg"
                ],
                [
                  "15387",
                  "700.B.4-1",
                  "Single 1 x 2 x 4 Door without Glass (ABB)",
                  "1950",
                  "371",
                  "1",
                  "https://cdn.rebrickable.com/media/sets/700.b.4-1.jpg"
                ],
                [
                  "15384",
                  "700.B.1-1",
                  "Single 1 x 4 x 2 Window without Glass (ABB)",
                  "1950",
                  "371",
                  "1",
                  "https://cdn.rebrickable.com/media/sets/700.b.1-1.jpg"
                ],
                [
                  "15386",
                  "700.B.3-1",
                  "Single 1 x 2 x 2 Window without Glass (ABB)",
                  "1950",
                  "371",
                  "1",
                  "https://cdn.rebrickable.com/media/sets/700.b.3-1.jpg"
                ],
                [
                  "15385",
                  "700.B.2-1",
                  "Single 1 x 2 x 3 Window without Glass (ABB)",
                  "1950",
                  "371",
                  "1",
                  "https://cdn.rebrickable.com/media/sets/700.b.2-1.jpg"
                ],
                [
                  "15378",
                  "700.3.4-1",
                  "Individual 2 x 3 Bricks",
                  "1953",
                  "371",
                  "1",
                  "https://cdn.rebrickable.com/media/sets/700.3.4-1.jpg"
                ],
                [
                  "15362",
                  "700.1-2",
                  "Extra-Large Gift Set (Mursten)",
                  "1953",
                  "365",
                  "0",
                  "https://cdn.rebrickable.com/media/sets/700.1-2.jpg"
                ],
                [
                  "15395",
                  "700.F-1",
                  "Automatic Binding Bricks - Small Brick Set (Lego Mursten)",
                  "1953",
                  "371",
                  "48",
                  "https://cdn.rebrickable.com/media/sets/700.f-1.jpg"
                ],
                [
                  "15367",
                  "700.1.4-1",
                  "Individual 1 x 2 Bricks",
                  "1953",
                  "371",
                  "1",
                  "https://cdn.rebrickable.com/media/sets/700.1.4-1.jpg"
                ],
                [
                  "15389",
                  "700.C.1-1",
                  "Individual 1 x 6 x 4 Panorama Window (with glass)",
                  "1954",
                  "371",
                  "1",
                  "https://cdn.rebrickable.com/media/sets/700.c.1-1.jpg"
                ],
                [
                  "15393",
                  "700.C.5-1",
                  "Individual 1 x 3 x 3 Window (with glass)",
                  "1954",
                  "371",
                  "1",
                  "https://cdn.rebrickable.com/media/sets/700.c.5-1.jpg"
                ],
                [
                  "15394",
                  "700.C.6-1",
                  "Individual 1 x 2 x 4 Door (with glass)",
                  "1954",
                  "371",
                  "1",
                  "https://cdn.rebrickable.com/media/sets/700.c.6-1.jpg"
                ],
                [
                  "15399",
                  "700.H-1",
                  "Individual 4 x 4 Corner Bricks",
                  "1954",
                  "371",
                  "1",
                  "https://cdn.rebrickable.com/media/sets/700.h-1.jpg"
                ],
                [
                  "15369",
                  "700.16-1",
                  "Individual 2 x 8 Bricks",
                  "1954",
                  "371",
                  "1",
                  "https://cdn.rebrickable.com/media/sets/700.16-1.jpg"
                ],
                [
                  "15370",
                  "700.20-1",
                  "Individual 2 x 10 Bricks",
                  "1954",
                  "371",
                  "1",
                  "https://cdn.rebrickable.com/media/sets/700.20-1.jpg"
                ],
                [
                  "15392",
                  "700.C.4-1",
                  "Individual 1 x 4 x 3 Window (with glass)",
                  "1954",
                  "371",
                  "1",
                  "https://cdn.rebrickable.com/media/sets/700.c.4-1.jpg"
                ],
                [
                  "15397",
                  "700GP6-1",
                  "Gift Package (Lego Mursten)",
                  "1954",
                  "372",
                  "46",
                  "https://cdn.rebrickable.com/media/sets/700gp6-1.jpg"
                ],
                [
                  "15396",
                  "700GP5-1",
                  "Gift Package (Lego Mursten)",
                  "1954",
                  "372",
                  "54",
                  "https://cdn.rebrickable.com/media/sets/700gp5-1.jpg"
                ],
                [
                  "15375",
                  "700.28-1",
                  "Individual 2 x 14 Bricks",
                  "1954",
                  "371",
                  "1",
                  "https://cdn.rebrickable.com/media/sets/700.28-1.jpg"
                ],
                [
                  "15388",
                  "700.C-1",
                  "Tall Classic Windows/Door (with Glass)",
                  "1954",
                  "371",
                  "6",
                  "https://cdn.rebrickable.com/media/sets/700.c-1.jpg"
                ],
                [
                  "15374",
                  "700.24-1",
                  "Individual 2 x 12 Bricks",
                  "1954",
                  "371",
                  "1",
                  "https://cdn.rebrickable.com/media/sets/700.24-1.jpg"
                ],
                [
                  "15390",
                  "700.C.2-1",
                  "Individual 1 x 6 x 3 3-Pane Window (with glass)",
                  "1954",
                  "371",
                  "1",
                  "https://cdn.rebrickable.com/media/sets/700.c.2-1.jpg"
                ],
                [
                  "15391",
                  "700.C.3-1",
                  "Individual 1 x 6 x 3 Shutter Window (with glass)",
                  "1954",
                  "371",
                  "1",
                  "https://cdn.rebrickable.com/media/sets/700.c.3-1.jpg"
                ],
                [
                  "1389",
                  "1218-2",
                  "2 x 3 Bricks",
                  "1955",
                  "371",
                  "15",
                  "https://cdn.rebrickable.com/media/sets/1218-2.jpg"
                ],
                [
                  "1403",
                  "1220-2",
                  "1 x 2 Bricks",
                  "1955",
                  "371",
                  "26",
                  "https://cdn.rebrickable.com/media/sets/1220-2.jpg"
                ],
                [
                  "1370",
                  "1211-2",
                  "Small House Set",
                  "1955",
                  "372",
                  "19",
                  "https://cdn.rebrickable.com/media/sets/1211-2.jpg"
                ],
                [
                  "1367",
                  "1210-2",
                  "Small Store Set",
                  "1955",
                  "372",
                  "29",
                  "https://cdn.rebrickable.com/media/sets/1210-2.jpg"
                ],
                [
                  "1413",
                  "1221-2",
                  "1 x 1 Bricks",
                  "1955",
                  "371",
                  "40",
                  "https://cdn.rebrickable.com/media/sets/1221-2.jpg"
                ],
                [
                  "1418",
                  "1222-2",
                  "1 x 1 Round Bricks",
                  "1955",
                  "371",
                  "40",
                  "https://cdn.rebrickable.com/media/sets/1222-2.jpg"
                ],
                [
                  "1426",
                  "1223-2",
                  "2 x 2 & 2 x 4 Curved Bricks",
                  "1955",
                  "371",
                  "14",
                  "https://cdn.rebrickable.com/media/sets/1223-2.jpg"
                ],
                [
                  "1377",
                  "1214-2",
                  "Windows and Doors",
                  "1955",
                  "371",
                  "6",
                  "https://cdn.rebrickable.com/media/sets/1214-2.jpg"
                ],
                [
                  "1503",
                  "1251-2",
                  "1:87 Esso Bedford Truck",
                  "1955",
                  "368",
                  "1",
                  "https://cdn.rebrickable.com/media/sets/1251-2.jpg"
                ],
                [
                  "1508",
                  "1253-2",
                  "1:87 Bedford Flatbed Truck",
                  "1955",
                  "368",
                  "1",
                  "https://cdn.rebrickable.com/media/sets/1253-2.jpg"
                ],
                [
                  "1510",
                  "1254-2",
                  "1:87 Bedford Flatbed Trailer",
                  "1955",
                  "368",
                  "1",
                  "https://cdn.rebrickable.com/media/sets/1254-2.jpg"
                ],
                [
                  "1476",
                  "1236-2",
                  "Garage",
                  "1955",
                  "372",
                  "59",
                  "https://cdn.rebrickable.com/media/sets/1236-2.jpg"
                ],
                [
                  "1495",
                  "1247-2",
                  "Esso Pumps/Sign",
                  "1955",
                  "371",
                  "2",
                  "https://cdn.rebrickable.com/media/sets/1247-2.jpg"
                ],
                [
                  "1567",
                  "1300-1",
                  "Lego Mosaik Set (Small)",
                  "1955",
                  "365",
                  "47",
                  "https://cdn.rebrickable.com/media/sets/1300-1.jpg"
                ],
                [
                  "1482",
                  "1240-2",
                  "8 Road Signs",
                  "1955",
                  "371",
                  "8",
                  "https://cdn.rebrickable.com/media/sets/1240-2.jpg"
                ],
                [
                  "1516",
                  "1257-2",
                  "1:87 Bedford Delivery Truck",
                  "1955",
                  "368",
                  "1",
                  "https://cdn.rebrickable.com/media/sets/1257-2.jpg"
                ],
                [
                  "1474",
                  "1235-2",
                  "Garage Plate and Door",
                  "1955",
                  "371",
                  "3",
                  "https://cdn.rebrickable.com/media/sets/1235-2.jpg"
                ],
                [
                  "1512",
                  "1255-2",
                  "1:87 Bedford Fire Engine",
                  "1955",
                  "368",
                  "1",
                  "https://cdn.rebrickable.com/media/sets/1255-2.jpg"
                ],
                [
                  "1514",
                  "1256-2",
                  "1:87 Bedford Tow Truck",
                  "1955",
                  "368",
                  "1",
                  "https://cdn.rebrickable.com/media/sets/1256-2.jpg"
                ],
                [
                  "1447",
                  "1224.1-1",
                  "8 Danish Named Beams",
                  "1955",
                  "371",
                  "0",
                  "https://cdn.rebrickable.com/media/sets/1224.1-1.jpg"
                ],
                [
                  "1448",
                  "1224-2",
                  "8 Named Beams",
                  "1955",
                  "371",
                  "0",
                  "https://cdn.rebrickable.com/media/sets/1224-2.jpg"
                ]
              ],
              "shape": {
                "columns": 6,
                "rows": 25481
              }
            },
            "text/html": [
              "<div>\n",
              "<style scoped>\n",
              "    .dataframe tbody tr th:only-of-type {\n",
              "        vertical-align: middle;\n",
              "    }\n",
              "\n",
              "    .dataframe tbody tr th {\n",
              "        vertical-align: top;\n",
              "    }\n",
              "\n",
              "    .dataframe thead th {\n",
              "        text-align: right;\n",
              "    }\n",
              "</style>\n",
              "<table border=\"1\" class=\"dataframe\">\n",
              "  <thead>\n",
              "    <tr style=\"text-align: right;\">\n",
              "      <th></th>\n",
              "      <th>set_num</th>\n",
              "      <th>name</th>\n",
              "      <th>year</th>\n",
              "      <th>theme_id</th>\n",
              "      <th>num_parts</th>\n",
              "      <th>img_url</th>\n",
              "    </tr>\n",
              "  </thead>\n",
              "  <tbody>\n",
              "    <tr>\n",
              "      <th>15358</th>\n",
              "      <td>700.1-1</td>\n",
              "      <td>Extra-Large Gift Set (ABB)</td>\n",
              "      <td>1949</td>\n",
              "      <td>365</td>\n",
              "      <td>142</td>\n",
              "      <td>https://cdn.rebrickable.com/media/sets/700.1-1...</td>\n",
              "    </tr>\n",
              "    <tr>\n",
              "      <th>15371</th>\n",
              "      <td>700.2-1</td>\n",
              "      <td>Large Gift Set (ABB)</td>\n",
              "      <td>1949</td>\n",
              "      <td>365</td>\n",
              "      <td>178</td>\n",
              "      <td>https://cdn.rebrickable.com/media/sets/700.2-1...</td>\n",
              "    </tr>\n",
              "    <tr>\n",
              "      <th>15376</th>\n",
              "      <td>700.3-1</td>\n",
              "      <td>Medium Gift Set (ABB)</td>\n",
              "      <td>1949</td>\n",
              "      <td>365</td>\n",
              "      <td>142</td>\n",
              "      <td>https://cdn.rebrickable.com/media/sets/700.3-1...</td>\n",
              "    </tr>\n",
              "    <tr>\n",
              "      <th>15382</th>\n",
              "      <td>700.A-1</td>\n",
              "      <td>Small Brick Set (ABB)</td>\n",
              "      <td>1949</td>\n",
              "      <td>371</td>\n",
              "      <td>24</td>\n",
              "      <td>https://cdn.rebrickable.com/media/sets/700.a-1...</td>\n",
              "    </tr>\n",
              "    <tr>\n",
              "      <th>15383</th>\n",
              "      <td>700.B-1</td>\n",
              "      <td>Small Doors and Windows Set (ABB)</td>\n",
              "      <td>1949</td>\n",
              "      <td>371</td>\n",
              "      <td>12</td>\n",
              "      <td>https://cdn.rebrickable.com/media/sets/700.b-1...</td>\n",
              "    </tr>\n",
              "    <tr>\n",
              "      <th>...</th>\n",
              "      <td>...</td>\n",
              "      <td>...</td>\n",
              "      <td>...</td>\n",
              "      <td>...</td>\n",
              "      <td>...</td>\n",
              "      <td>...</td>\n",
              "    </tr>\n",
              "    <tr>\n",
              "      <th>14447</th>\n",
              "      <td>6565151-1</td>\n",
              "      <td>Steering Wheel</td>\n",
              "      <td>2025</td>\n",
              "      <td>408</td>\n",
              "      <td>33</td>\n",
              "      <td>https://cdn.rebrickable.com/media/sets/6565151...</td>\n",
              "    </tr>\n",
              "    <tr>\n",
              "      <th>23561</th>\n",
              "      <td>9798217121755-1</td>\n",
              "      <td>Minecraft: Wither Quest</td>\n",
              "      <td>2026</td>\n",
              "      <td>761</td>\n",
              "      <td>0</td>\n",
              "      <td>https://cdn.rebrickable.com/media/sets/9798217...</td>\n",
              "    </tr>\n",
              "    <tr>\n",
              "      <th>23562</th>\n",
              "      <td>9798217121762-1</td>\n",
              "      <td>Minecraft: The End Adventure: Seek-and-Find: S...</td>\n",
              "      <td>2026</td>\n",
              "      <td>760</td>\n",
              "      <td>0</td>\n",
              "      <td>https://cdn.rebrickable.com/media/sets/9798217...</td>\n",
              "    </tr>\n",
              "    <tr>\n",
              "      <th>22667</th>\n",
              "      <td>9780241785829-1</td>\n",
              "      <td>DK Super Readers Level 1: Ninjago: Dragons Ris...</td>\n",
              "      <td>2026</td>\n",
              "      <td>759</td>\n",
              "      <td>0</td>\n",
              "      <td>https://cdn.rebrickable.com/media/sets/9780241...</td>\n",
              "    </tr>\n",
              "    <tr>\n",
              "      <th>22668</th>\n",
              "      <td>9780241785836-1</td>\n",
              "      <td>DK Super Readers Level 2: Friends: Pet Pals</td>\n",
              "      <td>2026</td>\n",
              "      <td>759</td>\n",
              "      <td>0</td>\n",
              "      <td>https://cdn.rebrickable.com/media/sets/9780241...</td>\n",
              "    </tr>\n",
              "  </tbody>\n",
              "</table>\n",
              "<p>25481 rows × 6 columns</p>\n",
              "</div>"
            ],
            "text/plain": [
              "               set_num                                               name  \\\n",
              "15358          700.1-1                         Extra-Large Gift Set (ABB)   \n",
              "15371          700.2-1                               Large Gift Set (ABB)   \n",
              "15376          700.3-1                              Medium Gift Set (ABB)   \n",
              "15382          700.A-1                              Small Brick Set (ABB)   \n",
              "15383          700.B-1                  Small Doors and Windows Set (ABB)   \n",
              "...                ...                                                ...   \n",
              "14447        6565151-1                                     Steering Wheel   \n",
              "23561  9798217121755-1                            Minecraft: Wither Quest   \n",
              "23562  9798217121762-1  Minecraft: The End Adventure: Seek-and-Find: S...   \n",
              "22667  9780241785829-1  DK Super Readers Level 1: Ninjago: Dragons Ris...   \n",
              "22668  9780241785836-1        DK Super Readers Level 2: Friends: Pet Pals   \n",
              "\n",
              "       year  theme_id  num_parts  \\\n",
              "15358  1949       365        142   \n",
              "15371  1949       365        178   \n",
              "15376  1949       365        142   \n",
              "15382  1949       371         24   \n",
              "15383  1949       371         12   \n",
              "...     ...       ...        ...   \n",
              "14447  2025       408         33   \n",
              "23561  2026       761          0   \n",
              "23562  2026       760          0   \n",
              "22667  2026       759          0   \n",
              "22668  2026       759          0   \n",
              "\n",
              "                                                 img_url  \n",
              "15358  https://cdn.rebrickable.com/media/sets/700.1-1...  \n",
              "15371  https://cdn.rebrickable.com/media/sets/700.2-1...  \n",
              "15376  https://cdn.rebrickable.com/media/sets/700.3-1...  \n",
              "15382  https://cdn.rebrickable.com/media/sets/700.a-1...  \n",
              "15383  https://cdn.rebrickable.com/media/sets/700.b-1...  \n",
              "...                                                  ...  \n",
              "14447  https://cdn.rebrickable.com/media/sets/6565151...  \n",
              "23561  https://cdn.rebrickable.com/media/sets/9798217...  \n",
              "23562  https://cdn.rebrickable.com/media/sets/9798217...  \n",
              "22667  https://cdn.rebrickable.com/media/sets/9780241...  \n",
              "22668  https://cdn.rebrickable.com/media/sets/9780241...  \n",
              "\n",
              "[25481 rows x 6 columns]"
            ]
          },
          "execution_count": 86,
          "metadata": {},
          "output_type": "execute_result"
        }
      ],
      "source": [
        "sets.tail()\n",
        "# sets.sort_values(by='year', ascending=True)"
      ]
    },
    {
      "cell_type": "code",
      "execution_count": 60,
      "metadata": {},
      "outputs": [
        {
          "data": {
            "text/plain": [
              "Index(['set_num', 'name', 'year', 'theme_id', 'num_parts', 'img_url'], dtype='object')"
            ]
          },
          "execution_count": 60,
          "metadata": {},
          "output_type": "execute_result"
        }
      ],
      "source": [
        "sets.columns"
      ]
    },
    {
      "cell_type": "markdown",
      "metadata": {
        "colab_type": "text",
        "id": "ez-UXSMUIqum"
      },
      "source": [
        "**Challenge**: In which year were the first LEGO sets released and what were these sets called?"
      ]
    },
    {
      "cell_type": "code",
      "execution_count": 76,
      "metadata": {
        "colab": {},
        "colab_type": "code",
        "id": "s2aL6qrGIqum"
      },
      "outputs": [
        {
          "name": "stdout",
          "output_type": "stream",
          "text": [
            "1949\n",
            "Extra-Large Gift Set (ABB)\n"
          ]
        }
      ],
      "source": [
        "print(sets.sort_values('year', ascending=True).iloc[0]['year'])\n",
        "print(sets.sort_values('year', ascending=True).iloc[0]['name'])"
      ]
    },
    {
      "cell_type": "markdown",
      "metadata": {
        "colab_type": "text",
        "id": "JJoK3M8TBAVU"
      },
      "source": [
        "**Challenge**: How many different sets did LEGO sell in their first year? How many types of LEGO products were on offer in the year the company started?"
      ]
    },
    {
      "cell_type": "code",
      "execution_count": 89,
      "metadata": {
        "colab": {},
        "colab_type": "code",
        "id": "h-Tf1w7IBBg9"
      },
      "outputs": [
        {
          "data": {
            "application/vnd.microsoft.datawrangler.viewer.v0+json": {
              "columns": [
                {
                  "name": "index",
                  "rawType": "object",
                  "type": "string"
                },
                {
                  "name": "1949",
                  "rawType": "int64",
                  "type": "integer"
                }
              ],
              "ref": "cddd95cb-7144-4dde-b448-77faac9518b1",
              "rows": [
                [
                  "set_num",
                  "5"
                ],
                [
                  "name",
                  "5"
                ],
                [
                  "theme_id",
                  "5"
                ],
                [
                  "num_parts",
                  "5"
                ],
                [
                  "img_url",
                  "5"
                ]
              ],
              "shape": {
                "columns": 1,
                "rows": 5
              }
            },
            "text/plain": [
              "set_num      5\n",
              "name         5\n",
              "theme_id     5\n",
              "num_parts    5\n",
              "img_url      5\n",
              "Name: 1949, dtype: int64"
            ]
          },
          "execution_count": 89,
          "metadata": {},
          "output_type": "execute_result"
        }
      ],
      "source": [
        "sets.groupby('year').count().iloc[0]"
      ]
    },
    {
      "cell_type": "markdown",
      "metadata": {
        "colab_type": "text",
        "id": "RJMMYQYqIquo"
      },
      "source": [
        "**Challenge**: Find the top 5 LEGO sets with the most number of parts. "
      ]
    },
    {
      "cell_type": "code",
      "execution_count": 98,
      "metadata": {
        "colab": {},
        "colab_type": "code",
        "id": "toJvjRuQIqup"
      },
      "outputs": [
        {
          "data": {
            "application/vnd.microsoft.datawrangler.viewer.v0+json": {
              "columns": [
                {
                  "name": "index",
                  "rawType": "int64",
                  "type": "integer"
                },
                {
                  "name": "set_num",
                  "rawType": "object",
                  "type": "string"
                },
                {
                  "name": "name",
                  "rawType": "object",
                  "type": "string"
                },
                {
                  "name": "year",
                  "rawType": "int64",
                  "type": "integer"
                },
                {
                  "name": "theme_id",
                  "rawType": "int64",
                  "type": "integer"
                },
                {
                  "name": "num_parts",
                  "rawType": "int64",
                  "type": "integer"
                },
                {
                  "name": "img_url",
                  "rawType": "object",
                  "type": "string"
                }
              ],
              "ref": "4df7be14-3e85-4c2d-97cb-42be8c4109bc",
              "rows": [
                [
                  "5011",
                  "31203-1",
                  "World Map",
                  "2021",
                  "709",
                  "11695",
                  "https://cdn.rebrickable.com/media/sets/31203-1.jpg"
                ],
                [
                  "489",
                  "10307-1",
                  "Eiffel Tower",
                  "2022",
                  "721",
                  "10001",
                  "https://cdn.rebrickable.com/media/sets/10307-1.jpg"
                ],
                [
                  "23809",
                  "BIGBOX-1",
                  "The Ultimate Battle for Chima",
                  "2015",
                  "571",
                  "9987",
                  "https://cdn.rebrickable.com/media/sets/bigbox-1.jpg"
                ],
                [
                  "475",
                  "10294-1",
                  "Titanic",
                  "2021",
                  "721",
                  "9092",
                  "https://cdn.rebrickable.com/media/sets/10294-1.jpg"
                ],
                [
                  "456",
                  "10276-1",
                  "Colosseum",
                  "2020",
                  "721",
                  "9036",
                  "https://cdn.rebrickable.com/media/sets/10276-1.jpg"
                ]
              ],
              "shape": {
                "columns": 6,
                "rows": 5
              }
            },
            "text/html": [
              "<div>\n",
              "<style scoped>\n",
              "    .dataframe tbody tr th:only-of-type {\n",
              "        vertical-align: middle;\n",
              "    }\n",
              "\n",
              "    .dataframe tbody tr th {\n",
              "        vertical-align: top;\n",
              "    }\n",
              "\n",
              "    .dataframe thead th {\n",
              "        text-align: right;\n",
              "    }\n",
              "</style>\n",
              "<table border=\"1\" class=\"dataframe\">\n",
              "  <thead>\n",
              "    <tr style=\"text-align: right;\">\n",
              "      <th></th>\n",
              "      <th>set_num</th>\n",
              "      <th>name</th>\n",
              "      <th>year</th>\n",
              "      <th>theme_id</th>\n",
              "      <th>num_parts</th>\n",
              "      <th>img_url</th>\n",
              "    </tr>\n",
              "  </thead>\n",
              "  <tbody>\n",
              "    <tr>\n",
              "      <th>5011</th>\n",
              "      <td>31203-1</td>\n",
              "      <td>World Map</td>\n",
              "      <td>2021</td>\n",
              "      <td>709</td>\n",
              "      <td>11695</td>\n",
              "      <td>https://cdn.rebrickable.com/media/sets/31203-1...</td>\n",
              "    </tr>\n",
              "    <tr>\n",
              "      <th>489</th>\n",
              "      <td>10307-1</td>\n",
              "      <td>Eiffel Tower</td>\n",
              "      <td>2022</td>\n",
              "      <td>721</td>\n",
              "      <td>10001</td>\n",
              "      <td>https://cdn.rebrickable.com/media/sets/10307-1...</td>\n",
              "    </tr>\n",
              "    <tr>\n",
              "      <th>23809</th>\n",
              "      <td>BIGBOX-1</td>\n",
              "      <td>The Ultimate Battle for Chima</td>\n",
              "      <td>2015</td>\n",
              "      <td>571</td>\n",
              "      <td>9987</td>\n",
              "      <td>https://cdn.rebrickable.com/media/sets/bigbox-...</td>\n",
              "    </tr>\n",
              "    <tr>\n",
              "      <th>475</th>\n",
              "      <td>10294-1</td>\n",
              "      <td>Titanic</td>\n",
              "      <td>2021</td>\n",
              "      <td>721</td>\n",
              "      <td>9092</td>\n",
              "      <td>https://cdn.rebrickable.com/media/sets/10294-1...</td>\n",
              "    </tr>\n",
              "    <tr>\n",
              "      <th>456</th>\n",
              "      <td>10276-1</td>\n",
              "      <td>Colosseum</td>\n",
              "      <td>2020</td>\n",
              "      <td>721</td>\n",
              "      <td>9036</td>\n",
              "      <td>https://cdn.rebrickable.com/media/sets/10276-1...</td>\n",
              "    </tr>\n",
              "  </tbody>\n",
              "</table>\n",
              "</div>"
            ],
            "text/plain": [
              "        set_num                           name  year  theme_id  num_parts  \\\n",
              "5011    31203-1                      World Map  2021       709      11695   \n",
              "489     10307-1                   Eiffel Tower  2022       721      10001   \n",
              "23809  BIGBOX-1  The Ultimate Battle for Chima  2015       571       9987   \n",
              "475     10294-1                        Titanic  2021       721       9092   \n",
              "456     10276-1                      Colosseum  2020       721       9036   \n",
              "\n",
              "                                                 img_url  \n",
              "5011   https://cdn.rebrickable.com/media/sets/31203-1...  \n",
              "489    https://cdn.rebrickable.com/media/sets/10307-1...  \n",
              "23809  https://cdn.rebrickable.com/media/sets/bigbox-...  \n",
              "475    https://cdn.rebrickable.com/media/sets/10294-1...  \n",
              "456    https://cdn.rebrickable.com/media/sets/10276-1...  "
            ]
          },
          "execution_count": 98,
          "metadata": {},
          "output_type": "execute_result"
        }
      ],
      "source": [
        "sets.sort_values('num_parts', ascending=False).head()"
      ]
    },
    {
      "cell_type": "markdown",
      "metadata": {
        "colab_type": "text",
        "id": "uSyhOzAHIqur"
      },
      "source": [
        "**Challenge**: Use <code>.groupby()</code> and <code>.count()</code> to show the number of LEGO sets released year-on-year. How do the number of sets released in 1955 compare to the number of sets released in 2019? "
      ]
    },
    {
      "cell_type": "code",
      "execution_count": null,
      "metadata": {
        "colab": {},
        "colab_type": "code",
        "id": "qjdrktZAIqus",
        "scrolled": true
      },
      "outputs": [],
      "source": [
        "sets_by_year = sets.groupby('year').count()"
      ]
    },
    {
      "cell_type": "code",
      "execution_count": 119,
      "metadata": {
        "colab": {},
        "colab_type": "code",
        "id": "tFInsHOkIqut"
      },
      "outputs": [
        {
          "data": {
            "application/vnd.microsoft.datawrangler.viewer.v0+json": {
              "columns": [
                {
                  "name": "year",
                  "rawType": "int64",
                  "type": "integer"
                },
                {
                  "name": "set_num",
                  "rawType": "int64",
                  "type": "integer"
                }
              ],
              "ref": "0e45ef14-6dbf-49ea-830a-992493de9444",
              "rows": [
                [
                  "2022",
                  "1210"
                ],
                [
                  "2023",
                  "1141"
                ],
                [
                  "2024",
                  "1224"
                ],
                [
                  "2025",
                  "986"
                ],
                [
                  "2026",
                  "4"
                ]
              ],
              "shape": {
                "columns": 1,
                "rows": 5
              }
            },
            "text/plain": [
              "year\n",
              "2022    1210\n",
              "2023    1141\n",
              "2024    1224\n",
              "2025     986\n",
              "2026       4\n",
              "Name: set_num, dtype: int64"
            ]
          },
          "execution_count": 119,
          "metadata": {},
          "output_type": "execute_result"
        }
      ],
      "source": [
        "sets_by_year['set_num'].tail()"
      ]
    },
    {
      "cell_type": "markdown",
      "metadata": {
        "colab_type": "text",
        "id": "xJrmIOULIquv"
      },
      "source": [
        "**Challenge**: Show the number of LEGO releases on a line chart using Matplotlib. <br>\n",
        "<br>\n",
        "Note that the .csv file is from late 2020, so to plot the full calendar years, you will have to exclude some data from your chart. Can you use the slicing techniques covered in Day 21 to avoid plotting the last two years? The same syntax will work on Pandas DataFrames. "
      ]
    },
    {
      "cell_type": "code",
      "execution_count": 122,
      "metadata": {
        "colab": {},
        "colab_type": "code",
        "id": "Nckj4lSGIquw"
      },
      "outputs": [
        {
          "data": {
            "text/plain": [
              "[<matplotlib.lines.Line2D at 0x210bd7cba90>]"
            ]
          },
          "execution_count": 122,
          "metadata": {},
          "output_type": "execute_result"
        },
        {
          "data": {
            "image/png": "[encoded data removed]",
            "text/plain": [
              "<Figure size 1000x500 with 1 Axes>"
            ]
          },
          "metadata": {},
          "output_type": "display_data"
        }
      ],
      "source": [
        "plt.figure(figsize=(10, 5))\n",
        "plt.plot(sets_by_year.index[:-2], sets_by_year.set_num[:-2])"
      ]
    },
    {
      "cell_type": "markdown",
      "metadata": {
        "colab_type": "text",
        "id": "xrDeNYYXIqu1"
      },
      "source": [
        "### Aggregate Data with the Python .agg() Function\n",
        "\n",
        "Let's work out the number of different themes shipped by year. This means we have to count the number of unique theme_ids per calendar year."
      ]
    },
    {
      "cell_type": "code",
      "execution_count": 127,
      "metadata": {
        "colab": {},
        "colab_type": "code",
        "dc": {
          "key": "266a3f390c"
        },
        "id": "qx8pTau4Iqu2",
        "tags": [
          "sample_code"
        ]
      },
      "outputs": [
        {
          "data": {
            "application/vnd.microsoft.datawrangler.viewer.v0+json": {
              "columns": [
                {
                  "name": "year",
                  "rawType": "int64",
                  "type": "integer"
                },
                {
                  "name": "theme_id",
                  "rawType": "int64",
                  "type": "integer"
                }
              ],
              "ref": "e29765b8-6ec5-4e5f-b72e-21940067a6ed",
              "rows": [
                [
                  "1949",
                  "2"
                ],
                [
                  "1950",
                  "1"
                ],
                [
                  "1953",
                  "2"
                ],
                [
                  "1954",
                  "2"
                ],
                [
                  "1955",
                  "6"
                ],
                [
                  "1956",
                  "4"
                ],
                [
                  "1957",
                  "5"
                ],
                [
                  "1958",
                  "5"
                ],
                [
                  "1959",
                  "3"
                ],
                [
                  "1960",
                  "3"
                ],
                [
                  "1961",
                  "7"
                ],
                [
                  "1962",
                  "3"
                ],
                [
                  "1963",
                  "8"
                ],
                [
                  "1964",
                  "6"
                ],
                [
                  "1965",
                  "8"
                ],
                [
                  "1966",
                  "9"
                ],
                [
                  "1967",
                  "6"
                ],
                [
                  "1968",
                  "7"
                ],
                [
                  "1969",
                  "12"
                ],
                [
                  "1970",
                  "16"
                ],
                [
                  "1971",
                  "12"
                ],
                [
                  "1972",
                  "12"
                ],
                [
                  "1973",
                  "17"
                ],
                [
                  "1974",
                  "14"
                ],
                [
                  "1975",
                  "16"
                ],
                [
                  "1976",
                  "25"
                ],
                [
                  "1977",
                  "22"
                ],
                [
                  "1978",
                  "16"
                ],
                [
                  "1979",
                  "13"
                ],
                [
                  "1980",
                  "23"
                ],
                [
                  "1981",
                  "16"
                ],
                [
                  "1982",
                  "19"
                ],
                [
                  "1983",
                  "21"
                ],
                [
                  "1984",
                  "24"
                ],
                [
                  "1985",
                  "28"
                ],
                [
                  "1986",
                  "29"
                ],
                [
                  "1987",
                  "27"
                ],
                [
                  "1988",
                  "26"
                ],
                [
                  "1989",
                  "25"
                ],
                [
                  "1990",
                  "28"
                ],
                [
                  "1991",
                  "31"
                ],
                [
                  "1992",
                  "33"
                ],
                [
                  "1993",
                  "29"
                ],
                [
                  "1994",
                  "31"
                ],
                [
                  "1995",
                  "37"
                ],
                [
                  "1996",
                  "43"
                ],
                [
                  "1997",
                  "39"
                ],
                [
                  "1998",
                  "64"
                ],
                [
                  "1999",
                  "59"
                ],
                [
                  "2000",
                  "59"
                ]
              ],
              "shape": {
                "columns": 1,
                "rows": 76
              }
            },
            "text/html": [
              "<div>\n",
              "<style scoped>\n",
              "    .dataframe tbody tr th:only-of-type {\n",
              "        vertical-align: middle;\n",
              "    }\n",
              "\n",
              "    .dataframe tbody tr th {\n",
              "        vertical-align: top;\n",
              "    }\n",
              "\n",
              "    .dataframe thead th {\n",
              "        text-align: right;\n",
              "    }\n",
              "</style>\n",
              "<table border=\"1\" class=\"dataframe\">\n",
              "  <thead>\n",
              "    <tr style=\"text-align: right;\">\n",
              "      <th></th>\n",
              "      <th>theme_id</th>\n",
              "    </tr>\n",
              "    <tr>\n",
              "      <th>year</th>\n",
              "      <th></th>\n",
              "    </tr>\n",
              "  </thead>\n",
              "  <tbody>\n",
              "    <tr>\n",
              "      <th>1949</th>\n",
              "      <td>2</td>\n",
              "    </tr>\n",
              "    <tr>\n",
              "      <th>1950</th>\n",
              "      <td>1</td>\n",
              "    </tr>\n",
              "    <tr>\n",
              "      <th>1953</th>\n",
              "      <td>2</td>\n",
              "    </tr>\n",
              "    <tr>\n",
              "      <th>1954</th>\n",
              "      <td>2</td>\n",
              "    </tr>\n",
              "    <tr>\n",
              "      <th>1955</th>\n",
              "      <td>6</td>\n",
              "    </tr>\n",
              "    <tr>\n",
              "      <th>...</th>\n",
              "      <td>...</td>\n",
              "    </tr>\n",
              "    <tr>\n",
              "      <th>2022</th>\n",
              "      <td>99</td>\n",
              "    </tr>\n",
              "    <tr>\n",
              "      <th>2023</th>\n",
              "      <td>109</td>\n",
              "    </tr>\n",
              "    <tr>\n",
              "      <th>2024</th>\n",
              "      <td>108</td>\n",
              "    </tr>\n",
              "    <tr>\n",
              "      <th>2025</th>\n",
              "      <td>106</td>\n",
              "    </tr>\n",
              "    <tr>\n",
              "      <th>2026</th>\n",
              "      <td>3</td>\n",
              "    </tr>\n",
              "  </tbody>\n",
              "</table>\n",
              "<p>76 rows × 1 columns</p>\n",
              "</div>"
            ],
            "text/plain": [
              "      theme_id\n",
              "year          \n",
              "1949         2\n",
              "1950         1\n",
              "1953         2\n",
              "1954         2\n",
              "1955         6\n",
              "...        ...\n",
              "2022        99\n",
              "2023       109\n",
              "2024       108\n",
              "2025       106\n",
              "2026         3\n",
              "\n",
              "[76 rows x 1 columns]"
            ]
          },
          "execution_count": 127,
          "metadata": {},
          "output_type": "execute_result"
        }
      ],
      "source": [
        "themes_by_year = sets.groupby('year').agg({'theme_id': pd.Series.nunique})\n",
        "themes_by_year"
      ]
    },
    {
      "cell_type": "code",
      "execution_count": 128,
      "metadata": {
        "colab": {},
        "colab_type": "code",
        "id": "BqF1o997Iqu3"
      },
      "outputs": [
        {
          "data": {
            "application/vnd.microsoft.datawrangler.viewer.v0+json": {
              "columns": [
                {
                  "name": "year",
                  "rawType": "int64",
                  "type": "integer"
                },
                {
                  "name": "nr_themes",
                  "rawType": "int64",
                  "type": "integer"
                }
              ],
              "ref": "55338d5c-a23b-4140-9c07-512a0215746d",
              "rows": [
                [
                  "2022",
                  "99"
                ],
                [
                  "2023",
                  "109"
                ],
                [
                  "2024",
                  "108"
                ],
                [
                  "2025",
                  "106"
                ],
                [
                  "2026",
                  "3"
                ]
              ],
              "shape": {
                "columns": 1,
                "rows": 5
              }
            },
            "text/html": [
              "<div>\n",
              "<style scoped>\n",
              "    .dataframe tbody tr th:only-of-type {\n",
              "        vertical-align: middle;\n",
              "    }\n",
              "\n",
              "    .dataframe tbody tr th {\n",
              "        vertical-align: top;\n",
              "    }\n",
              "\n",
              "    .dataframe thead th {\n",
              "        text-align: right;\n",
              "    }\n",
              "</style>\n",
              "<table border=\"1\" class=\"dataframe\">\n",
              "  <thead>\n",
              "    <tr style=\"text-align: right;\">\n",
              "      <th></th>\n",
              "      <th>nr_themes</th>\n",
              "    </tr>\n",
              "    <tr>\n",
              "      <th>year</th>\n",
              "      <th></th>\n",
              "    </tr>\n",
              "  </thead>\n",
              "  <tbody>\n",
              "    <tr>\n",
              "      <th>2022</th>\n",
              "      <td>99</td>\n",
              "    </tr>\n",
              "    <tr>\n",
              "      <th>2023</th>\n",
              "      <td>109</td>\n",
              "    </tr>\n",
              "    <tr>\n",
              "      <th>2024</th>\n",
              "      <td>108</td>\n",
              "    </tr>\n",
              "    <tr>\n",
              "      <th>2025</th>\n",
              "      <td>106</td>\n",
              "    </tr>\n",
              "    <tr>\n",
              "      <th>2026</th>\n",
              "      <td>3</td>\n",
              "    </tr>\n",
              "  </tbody>\n",
              "</table>\n",
              "</div>"
            ],
            "text/plain": [
              "      nr_themes\n",
              "year           \n",
              "2022         99\n",
              "2023        109\n",
              "2024        108\n",
              "2025        106\n",
              "2026          3"
            ]
          },
          "execution_count": 128,
          "metadata": {},
          "output_type": "execute_result"
        }
      ],
      "source": [
        "themes_by_year.rename(columns = {'theme_id':'nr_themes'}, inplace=True)\n",
        "themes_by_year.tail()"
      ]
    },
    {
      "cell_type": "markdown",
      "metadata": {
        "colab_type": "text",
        "id": "immCqqw1Iqu5"
      },
      "source": [
        "**Challenge**: Plot the number of themes released by year on a line chart. Only include the full calendar years (i.e., exclude 2025 and 2026). "
      ]
    },
    {
      "cell_type": "code",
      "execution_count": 130,
      "metadata": {
        "colab": {},
        "colab_type": "code",
        "id": "r2pamQEkIqu5"
      },
      "outputs": [
        {
          "data": {
            "text/plain": [
              "[<matplotlib.lines.Line2D at 0x210bee71990>]"
            ]
          },
          "execution_count": 130,
          "metadata": {},
          "output_type": "execute_result"
        },
        {
          "data": {
            "image/png": "[encoded data removed]",
            "text/plain": [
              "<Figure size 1000x500 with 1 Axes>"
            ]
          },
          "metadata": {},
          "output_type": "display_data"
        }
      ],
      "source": [
        "plt.figure(figsize=(10, 5))\n",
        "plt.plot(themes_by_year.index[:-2], themes_by_year['nr_themes'][:-2])"
      ]
    },
    {
      "cell_type": "markdown",
      "metadata": {
        "colab_type": "text",
        "id": "uBbt9-lJIqu7"
      },
      "source": [
        "### Line Charts with Two Seperate Axes"
      ]
    },
    {
      "cell_type": "code",
      "execution_count": 142,
      "metadata": {
        "colab": {},
        "colab_type": "code",
        "id": "j7lQ_amFIqu7"
      },
      "outputs": [
        {
          "data": {
            "text/plain": [
              "Text(0, 0.5, 'Number of Sets')"
            ]
          },
          "execution_count": 142,
          "metadata": {},
          "output_type": "execute_result"
        },
        {
          "data": {
            "image/png": "[encoded data removed]",
            "text/plain": [
              "<Figure size 1000x500 with 2 Axes>"
            ]
          },
          "metadata": {},
          "output_type": "display_data"
        }
      ],
      "source": [
        "plt.figure(figsize=(10, 5))\n",
        "ax1 = plt.gca() #stores the current axes\n",
        "ax2 = ax1.twinx()   #Create a twin Axes sharing the xaxis.\n",
        "\n",
        "ax1.plot(themes_by_year.index[:-2], themes_by_year['nr_themes'][:-2], color='g')\n",
        "ax2.plot(sets_by_year.index[:-2], sets_by_year.set_num[:-2], color='b')\n",
        "\n",
        "ax1.set_xlabel('Year')\n",
        "ax1.set_ylabel('Number of Themes', color='green')\n",
        "ax2.set_ylabel('Number of Sets', color='blue')"
      ]
    },
    {
      "cell_type": "markdown",
      "metadata": {
        "colab_type": "text",
        "id": "7BHYaUf-Iqu9"
      },
      "source": [
        "**Challenge**: Use the <code>.groupby()</code> and <code>.agg()</code> function together to figure out the average number of parts per set. How many parts did the average LEGO set released in 1954 compared to say, 2017?"
      ]
    },
    {
      "cell_type": "code",
      "execution_count": 148,
      "metadata": {
        "colab": {},
        "colab_type": "code",
        "id": "W7BcH9vuIqu9"
      },
      "outputs": [
        {
          "data": {
            "application/vnd.microsoft.datawrangler.viewer.v0+json": {
              "columns": [
                {
                  "name": "year",
                  "rawType": "int64",
                  "type": "integer"
                },
                {
                  "name": "average num_parts",
                  "rawType": "float64",
                  "type": "float"
                }
              ],
              "ref": "0288be4f-3caf-4912-ab65-ca119c6fad1f",
              "rows": [
                [
                  "1949",
                  "99.6"
                ],
                [
                  "1950",
                  "1.0"
                ],
                [
                  "1953",
                  "12.5"
                ],
                [
                  "1954",
                  "8.357142857142858"
                ],
                [
                  "1955",
                  "12.153846153846153"
                ]
              ],
              "shape": {
                "columns": 1,
                "rows": 5
              }
            },
            "text/html": [
              "<div>\n",
              "<style scoped>\n",
              "    .dataframe tbody tr th:only-of-type {\n",
              "        vertical-align: middle;\n",
              "    }\n",
              "\n",
              "    .dataframe tbody tr th {\n",
              "        vertical-align: top;\n",
              "    }\n",
              "\n",
              "    .dataframe thead th {\n",
              "        text-align: right;\n",
              "    }\n",
              "</style>\n",
              "<table border=\"1\" class=\"dataframe\">\n",
              "  <thead>\n",
              "    <tr style=\"text-align: right;\">\n",
              "      <th></th>\n",
              "      <th>average num_parts</th>\n",
              "    </tr>\n",
              "    <tr>\n",
              "      <th>year</th>\n",
              "      <th></th>\n",
              "    </tr>\n",
              "  </thead>\n",
              "  <tbody>\n",
              "    <tr>\n",
              "      <th>1949</th>\n",
              "      <td>99.600000</td>\n",
              "    </tr>\n",
              "    <tr>\n",
              "      <th>1950</th>\n",
              "      <td>1.000000</td>\n",
              "    </tr>\n",
              "    <tr>\n",
              "      <th>1953</th>\n",
              "      <td>12.500000</td>\n",
              "    </tr>\n",
              "    <tr>\n",
              "      <th>1954</th>\n",
              "      <td>8.357143</td>\n",
              "    </tr>\n",
              "    <tr>\n",
              "      <th>1955</th>\n",
              "      <td>12.153846</td>\n",
              "    </tr>\n",
              "  </tbody>\n",
              "</table>\n",
              "</div>"
            ],
            "text/plain": [
              "      average num_parts\n",
              "year                   \n",
              "1949          99.600000\n",
              "1950           1.000000\n",
              "1953          12.500000\n",
              "1954           8.357143\n",
              "1955          12.153846"
            ]
          },
          "execution_count": 148,
          "metadata": {},
          "output_type": "execute_result"
        }
      ],
      "source": [
        "parts_per_set = sets.groupby('year').agg({'num_parts': 'mean'})\n",
        "parts_per_set.rename(columns= {'num_parts':'average num_parts'}, inplace=True)\n",
        "parts_per_set.head()"
      ]
    },
    {
      "cell_type": "code",
      "execution_count": 147,
      "metadata": {
        "colab": {},
        "colab_type": "code",
        "id": "fjbb3tZcIqu_"
      },
      "outputs": [
        {
          "data": {
            "application/vnd.microsoft.datawrangler.viewer.v0+json": {
              "columns": [
                {
                  "name": "year",
                  "rawType": "int64",
                  "type": "integer"
                },
                {
                  "name": "average num_parts",
                  "rawType": "float64",
                  "type": "float"
                }
              ],
              "ref": "8f00bda8-ce6a-4d19-ab94-9789a97fee42",
              "rows": [
                [
                  "2022",
                  "233.2404958677686"
                ],
                [
                  "2023",
                  "264.11130587204207"
                ],
                [
                  "2024",
                  "276.0359477124183"
                ],
                [
                  "2025",
                  "293.68661257606493"
                ],
                [
                  "2026",
                  "0.0"
                ]
              ],
              "shape": {
                "columns": 1,
                "rows": 5
              }
            },
            "text/html": [
              "<div>\n",
              "<style scoped>\n",
              "    .dataframe tbody tr th:only-of-type {\n",
              "        vertical-align: middle;\n",
              "    }\n",
              "\n",
              "    .dataframe tbody tr th {\n",
              "        vertical-align: top;\n",
              "    }\n",
              "\n",
              "    .dataframe thead th {\n",
              "        text-align: right;\n",
              "    }\n",
              "</style>\n",
              "<table border=\"1\" class=\"dataframe\">\n",
              "  <thead>\n",
              "    <tr style=\"text-align: right;\">\n",
              "      <th></th>\n",
              "      <th>average num_parts</th>\n",
              "    </tr>\n",
              "    <tr>\n",
              "      <th>year</th>\n",
              "      <th></th>\n",
              "    </tr>\n",
              "  </thead>\n",
              "  <tbody>\n",
              "    <tr>\n",
              "      <th>2022</th>\n",
              "      <td>233.240496</td>\n",
              "    </tr>\n",
              "    <tr>\n",
              "      <th>2023</th>\n",
              "      <td>264.111306</td>\n",
              "    </tr>\n",
              "    <tr>\n",
              "      <th>2024</th>\n",
              "      <td>276.035948</td>\n",
              "    </tr>\n",
              "    <tr>\n",
              "      <th>2025</th>\n",
              "      <td>293.686613</td>\n",
              "    </tr>\n",
              "    <tr>\n",
              "      <th>2026</th>\n",
              "      <td>0.000000</td>\n",
              "    </tr>\n",
              "  </tbody>\n",
              "</table>\n",
              "</div>"
            ],
            "text/plain": [
              "      average num_parts\n",
              "year                   \n",
              "2022         233.240496\n",
              "2023         264.111306\n",
              "2024         276.035948\n",
              "2025         293.686613\n",
              "2026           0.000000"
            ]
          },
          "execution_count": 147,
          "metadata": {},
          "output_type": "execute_result"
        }
      ],
      "source": [
        "parts_per_set.tail()\n"
      ]
    },
    {
      "cell_type": "markdown",
      "metadata": {
        "colab_type": "text",
        "id": "bAeTe2XqIqvB"
      },
      "source": [
        "### Scatter Plots in Matplotlib"
      ]
    },
    {
      "cell_type": "markdown",
      "metadata": {
        "colab_type": "text",
        "id": "SAViZ_TYIqvB"
      },
      "source": [
        "**Challenge**: Has the size and complexity of LEGO sets increased over time based on the number of parts? Plot the average number of parts over time using a Matplotlib scatter plot. See if you can use the [scatter plot documentation](https://matplotlib.org/3.1.0/api/_as_gen/matplotlib.pyplot.scatter.html) before I show you the solution. Do you spot a trend in the chart? "
      ]
    },
    {
      "cell_type": "code",
      "execution_count": 161,
      "metadata": {
        "colab": {},
        "colab_type": "code",
        "id": "EQNZ0D7JIqvB"
      },
      "outputs": [
        {
          "data": {
            "text/plain": [
              "<matplotlib.collections.PathCollection at 0x210c1f67850>"
            ]
          },
          "execution_count": 161,
          "metadata": {},
          "output_type": "execute_result"
        },
        {
          "data": {
            "image/png": "[encoded data removed]",
            "text/plain": [
              "<Figure size 500x500 with 1 Axes>"
            ]
          },
          "metadata": {},
          "output_type": "display_data"
        }
      ],
      "source": [
        "plt.figure(figsize=(5, 5))\n",
        "plt.scatter(parts_per_set.index[:-2], parts_per_set['average num_parts'][:-2], c='green')"
      ]
    },
    {
      "cell_type": "markdown",
      "metadata": {
        "colab_type": "text",
        "id": "xK226Ip-IqvE"
      },
      "source": [
        "### Number of Sets per LEGO Theme"
      ]
    },
    {
      "cell_type": "markdown",
      "metadata": {
        "colab_type": "text",
        "id": "VKHa1FePIqvE"
      },
      "source": [
        "LEGO has licensed many hit franchises from Harry Potter to Marvel Super Heros to many others. But which theme has the largest number of individual sets? "
      ]
    },
    {
      "cell_type": "code",
      "execution_count": 166,
      "metadata": {
        "colab": {},
        "colab_type": "code",
        "id": "hOBcNrC9IqvE"
      },
      "outputs": [
        {
          "data": {
            "application/vnd.microsoft.datawrangler.viewer.v0+json": {
              "columns": [
                {
                  "name": "theme_id",
                  "rawType": "int64",
                  "type": "integer"
                },
                {
                  "name": "count",
                  "rawType": "int64",
                  "type": "integer"
                }
              ],
              "ref": "6c8ec333-5581-4362-990d-d3acec3eca8e",
              "rows": [
                [
                  "158",
                  "989"
                ],
                [
                  "503",
                  "794"
                ],
                [
                  "777",
                  "758"
                ],
                [
                  "494",
                  "638"
                ],
                [
                  "739",
                  "638"
                ]
              ],
              "shape": {
                "columns": 1,
                "rows": 5
              }
            },
            "text/plain": [
              "theme_id\n",
              "158    989\n",
              "503    794\n",
              "777    758\n",
              "494    638\n",
              "739    638\n",
              "Name: count, dtype: int64"
            ]
          },
          "execution_count": 166,
          "metadata": {},
          "output_type": "execute_result"
        }
      ],
      "source": [
        "set_theme_count = sets['theme_id'].value_counts()\n",
        "set_theme_count[:5]"
      ]
    },
    {
      "cell_type": "markdown",
      "metadata": {
        "colab_type": "text",
        "id": "J-i6JULGIqvG"
      },
      "source": [
        "**Challenge** Use what you know about HTML markup and tags to display the database schema: https://i.imgur.com/Sg4lcjx.png"
      ]
    },
    {
      "cell_type": "markdown",
      "metadata": {
        "colab_type": "text",
        "id": "27oDwiPHIqvH"
      },
      "source": [
        "<img src='https://i.imgur.com/Sg4lcjx.png'>"
      ]
    },
    {
      "cell_type": "markdown",
      "metadata": {
        "colab_type": "text",
        "id": "J_0iuerKIqvG"
      },
      "source": [
        "### Database Schemas, Foreign Keys and Merging DataFrames\n",
        "\n",
        "The themes.csv file has the actual theme names. The sets .csv has <code>theme_ids</code> which link to the <code>id</code> column in the themes.csv. "
      ]
    },
    {
      "cell_type": "markdown",
      "metadata": {
        "colab_type": "text",
        "id": "cp1tMW6oIqvH"
      },
      "source": [
        "**Challenge**: Explore the themes.csv. How is it structured? Search for the name 'Star Wars'. How many <code>id</code>s correspond to this name in the themes.csv? Now use these <code>id</code>s and find the corresponding the sets in the sets.csv (Hint: you'll need to look for matches in the <code>theme_id</code> column)"
      ]
    },
    {
      "cell_type": "code",
      "execution_count": 167,
      "metadata": {
        "colab": {},
        "colab_type": "code",
        "id": "3uN3wN5sIqvH"
      },
      "outputs": [
        {
          "data": {
            "application/vnd.microsoft.datawrangler.viewer.v0+json": {
              "columns": [
                {
                  "name": "index",
                  "rawType": "int64",
                  "type": "integer"
                },
                {
                  "name": "id",
                  "rawType": "int64",
                  "type": "integer"
                },
                {
                  "name": "name",
                  "rawType": "object",
                  "type": "string"
                },
                {
                  "name": "parent_id",
                  "rawType": "float64",
                  "type": "float"
                }
              ],
              "ref": "ca93cd1a-ffb8-41ed-a833-bfc469b3a93f",
              "rows": [
                [
                  "0",
                  "1",
                  "Technic",
                  null
                ],
                [
                  "1",
                  "3",
                  "Competition",
                  "1.0"
                ],
                [
                  "2",
                  "4",
                  "Expert Builder",
                  "1.0"
                ],
                [
                  "3",
                  "16",
                  "RoboRiders",
                  "1.0"
                ],
                [
                  "4",
                  "17",
                  "Speed Slammers",
                  "1.0"
                ]
              ],
              "shape": {
                "columns": 3,
                "rows": 5
              }
            },
            "text/html": [
              "<div>\n",
              "<style scoped>\n",
              "    .dataframe tbody tr th:only-of-type {\n",
              "        vertical-align: middle;\n",
              "    }\n",
              "\n",
              "    .dataframe tbody tr th {\n",
              "        vertical-align: top;\n",
              "    }\n",
              "\n",
              "    .dataframe thead th {\n",
              "        text-align: right;\n",
              "    }\n",
              "</style>\n",
              "<table border=\"1\" class=\"dataframe\">\n",
              "  <thead>\n",
              "    <tr style=\"text-align: right;\">\n",
              "      <th></th>\n",
              "      <th>id</th>\n",
              "      <th>name</th>\n",
              "      <th>parent_id</th>\n",
              "    </tr>\n",
              "  </thead>\n",
              "  <tbody>\n",
              "    <tr>\n",
              "      <th>0</th>\n",
              "      <td>1</td>\n",
              "      <td>Technic</td>\n",
              "      <td>NaN</td>\n",
              "    </tr>\n",
              "    <tr>\n",
              "      <th>1</th>\n",
              "      <td>3</td>\n",
              "      <td>Competition</td>\n",
              "      <td>1.0</td>\n",
              "    </tr>\n",
              "    <tr>\n",
              "      <th>2</th>\n",
              "      <td>4</td>\n",
              "      <td>Expert Builder</td>\n",
              "      <td>1.0</td>\n",
              "    </tr>\n",
              "    <tr>\n",
              "      <th>3</th>\n",
              "      <td>16</td>\n",
              "      <td>RoboRiders</td>\n",
              "      <td>1.0</td>\n",
              "    </tr>\n",
              "    <tr>\n",
              "      <th>4</th>\n",
              "      <td>17</td>\n",
              "      <td>Speed Slammers</td>\n",
              "      <td>1.0</td>\n",
              "    </tr>\n",
              "  </tbody>\n",
              "</table>\n",
              "</div>"
            ],
            "text/plain": [
              "   id            name  parent_id\n",
              "0   1         Technic        NaN\n",
              "1   3     Competition        1.0\n",
              "2   4  Expert Builder        1.0\n",
              "3  16      RoboRiders        1.0\n",
              "4  17  Speed Slammers        1.0"
            ]
          },
          "execution_count": 167,
          "metadata": {},
          "output_type": "execute_result"
        }
      ],
      "source": [
        "themes = pd.read_csv('./data/themes.csv')   #creating a df for the themes data\n",
        "themes.head()"
      ]
    },
    {
      "cell_type": "code",
      "execution_count": 168,
      "metadata": {
        "colab": {},
        "colab_type": "code",
        "id": "xAO2XlQGIqvJ"
      },
      "outputs": [
        {
          "data": {
            "application/vnd.microsoft.datawrangler.viewer.v0+json": {
              "columns": [
                {
                  "name": "index",
                  "rawType": "int64",
                  "type": "integer"
                },
                {
                  "name": "id",
                  "rawType": "int64",
                  "type": "integer"
                },
                {
                  "name": "name",
                  "rawType": "object",
                  "type": "string"
                },
                {
                  "name": "parent_id",
                  "rawType": "float64",
                  "type": "float"
                }
              ],
              "ref": "3221e400-2911-4938-84d4-aefa04a81605",
              "rows": [
                [
                  "477",
                  "781",
                  "The Infinity Saga",
                  "696.0"
                ],
                [
                  "478",
                  "782",
                  "Captain America",
                  "696.0"
                ],
                [
                  "479",
                  "783",
                  "Incredibles 2",
                  "591.0"
                ],
                [
                  "480",
                  "784",
                  "Spider-Man - Across the Spider-Verse",
                  "535.0"
                ],
                [
                  "481",
                  "785",
                  "Nike",
                  null
                ]
              ],
              "shape": {
                "columns": 3,
                "rows": 5
              }
            },
            "text/html": [
              "<div>\n",
              "<style scoped>\n",
              "    .dataframe tbody tr th:only-of-type {\n",
              "        vertical-align: middle;\n",
              "    }\n",
              "\n",
              "    .dataframe tbody tr th {\n",
              "        vertical-align: top;\n",
              "    }\n",
              "\n",
              "    .dataframe thead th {\n",
              "        text-align: right;\n",
              "    }\n",
              "</style>\n",
              "<table border=\"1\" class=\"dataframe\">\n",
              "  <thead>\n",
              "    <tr style=\"text-align: right;\">\n",
              "      <th></th>\n",
              "      <th>id</th>\n",
              "      <th>name</th>\n",
              "      <th>parent_id</th>\n",
              "    </tr>\n",
              "  </thead>\n",
              "  <tbody>\n",
              "    <tr>\n",
              "      <th>477</th>\n",
              "      <td>781</td>\n",
              "      <td>The Infinity Saga</td>\n",
              "      <td>696.0</td>\n",
              "    </tr>\n",
              "    <tr>\n",
              "      <th>478</th>\n",
              "      <td>782</td>\n",
              "      <td>Captain America</td>\n",
              "      <td>696.0</td>\n",
              "    </tr>\n",
              "    <tr>\n",
              "      <th>479</th>\n",
              "      <td>783</td>\n",
              "      <td>Incredibles 2</td>\n",
              "      <td>591.0</td>\n",
              "    </tr>\n",
              "    <tr>\n",
              "      <th>480</th>\n",
              "      <td>784</td>\n",
              "      <td>Spider-Man - Across the Spider-Verse</td>\n",
              "      <td>535.0</td>\n",
              "    </tr>\n",
              "    <tr>\n",
              "      <th>481</th>\n",
              "      <td>785</td>\n",
              "      <td>Nike</td>\n",
              "      <td>NaN</td>\n",
              "    </tr>\n",
              "  </tbody>\n",
              "</table>\n",
              "</div>"
            ],
            "text/plain": [
              "      id                                  name  parent_id\n",
              "477  781                     The Infinity Saga      696.0\n",
              "478  782                       Captain America      696.0\n",
              "479  783                         Incredibles 2      591.0\n",
              "480  784  Spider-Man - Across the Spider-Verse      535.0\n",
              "481  785                                  Nike        NaN"
            ]
          },
          "execution_count": 168,
          "metadata": {},
          "output_type": "execute_result"
        }
      ],
      "source": [
        "themes.tail()"
      ]
    },
    {
      "cell_type": "code",
      "execution_count": 200,
      "metadata": {
        "colab": {},
        "colab_type": "code",
        "id": "xYEDlY-_IqvL"
      },
      "outputs": [
        {
          "name": "stdout",
          "output_type": "stream",
          "text": [
            "4\n"
          ]
        },
        {
          "data": {
            "application/vnd.microsoft.datawrangler.viewer.v0+json": {
              "columns": [
                {
                  "name": "index",
                  "rawType": "int64",
                  "type": "integer"
                },
                {
                  "name": "id",
                  "rawType": "int64",
                  "type": "integer"
                },
                {
                  "name": "name",
                  "rawType": "object",
                  "type": "string"
                },
                {
                  "name": "parent_id",
                  "rawType": "float64",
                  "type": "float"
                }
              ],
              "ref": "32c7b92f-4acb-4f87-8e6e-79f7a2f25fc8",
              "rows": [
                [
                  "5",
                  "18",
                  "Star Wars",
                  "1.0"
                ],
                [
                  "74",
                  "158",
                  "Star Wars",
                  null
                ],
                [
                  "95",
                  "209",
                  "Star Wars",
                  "207.0"
                ],
                [
                  "122",
                  "261",
                  "Star Wars",
                  "258.0"
                ]
              ],
              "shape": {
                "columns": 3,
                "rows": 4
              }
            },
            "text/html": [
              "<div>\n",
              "<style scoped>\n",
              "    .dataframe tbody tr th:only-of-type {\n",
              "        vertical-align: middle;\n",
              "    }\n",
              "\n",
              "    .dataframe tbody tr th {\n",
              "        vertical-align: top;\n",
              "    }\n",
              "\n",
              "    .dataframe thead th {\n",
              "        text-align: right;\n",
              "    }\n",
              "</style>\n",
              "<table border=\"1\" class=\"dataframe\">\n",
              "  <thead>\n",
              "    <tr style=\"text-align: right;\">\n",
              "      <th></th>\n",
              "      <th>id</th>\n",
              "      <th>name</th>\n",
              "      <th>parent_id</th>\n",
              "    </tr>\n",
              "  </thead>\n",
              "  <tbody>\n",
              "    <tr>\n",
              "      <th>5</th>\n",
              "      <td>18</td>\n",
              "      <td>Star Wars</td>\n",
              "      <td>1.0</td>\n",
              "    </tr>\n",
              "    <tr>\n",
              "      <th>74</th>\n",
              "      <td>158</td>\n",
              "      <td>Star Wars</td>\n",
              "      <td>NaN</td>\n",
              "    </tr>\n",
              "    <tr>\n",
              "      <th>95</th>\n",
              "      <td>209</td>\n",
              "      <td>Star Wars</td>\n",
              "      <td>207.0</td>\n",
              "    </tr>\n",
              "    <tr>\n",
              "      <th>122</th>\n",
              "      <td>261</td>\n",
              "      <td>Star Wars</td>\n",
              "      <td>258.0</td>\n",
              "    </tr>\n",
              "  </tbody>\n",
              "</table>\n",
              "</div>"
            ],
            "text/plain": [
              "      id       name  parent_id\n",
              "5     18  Star Wars        1.0\n",
              "74   158  Star Wars        NaN\n",
              "95   209  Star Wars      207.0\n",
              "122  261  Star Wars      258.0"
            ]
          },
          "execution_count": 200,
          "metadata": {},
          "output_type": "execute_result"
        }
      ],
      "source": [
        "print(themes.name[themes['name'] == 'Star Wars'].count())\n",
        "themes[themes['name'] == 'Star Wars']\n",
        "# themes_ids = themes[themes['name'] == 'Star Wars']['id'].values"
      ]
    },
    {
      "cell_type": "code",
      "execution_count": 203,
      "metadata": {
        "colab": {},
        "colab_type": "code",
        "id": "qBhckawNIqvN",
        "scrolled": true
      },
      "outputs": [
        {
          "data": {
            "application/vnd.microsoft.datawrangler.viewer.v0+json": {
              "columns": [
                {
                  "name": "index",
                  "rawType": "int64",
                  "type": "integer"
                },
                {
                  "name": "set_num",
                  "rawType": "object",
                  "type": "string"
                },
                {
                  "name": "name",
                  "rawType": "object",
                  "type": "string"
                },
                {
                  "name": "year",
                  "rawType": "int64",
                  "type": "integer"
                },
                {
                  "name": "theme_id",
                  "rawType": "int64",
                  "type": "integer"
                },
                {
                  "name": "num_parts",
                  "rawType": "int64",
                  "type": "integer"
                },
                {
                  "name": "img_url",
                  "rawType": "object",
                  "type": "string"
                }
              ],
              "ref": "b8f97dbc-a967-47f2-ad6a-c0b8870beb57",
              "rows": [
                [
                  "17359",
                  "75023-1",
                  "Star Wars Advent Calendar 2013",
                  "2013",
                  "209",
                  "254",
                  "https://cdn.rebrickable.com/media/sets/75023-1.jpg"
                ],
                [
                  "17392",
                  "75056-1",
                  "Star Wars Advent Calendar 2014",
                  "2014",
                  "209",
                  "275",
                  "https://cdn.rebrickable.com/media/sets/75056-1.jpg"
                ],
                [
                  "17426",
                  "75097-1",
                  "Star Wars Advent Calendar 2015",
                  "2015",
                  "209",
                  "291",
                  "https://cdn.rebrickable.com/media/sets/75097-1.jpg"
                ],
                [
                  "17477",
                  "75146-1",
                  "Star Wars Advent Calendar 2016",
                  "2016",
                  "209",
                  "282",
                  "https://cdn.rebrickable.com/media/sets/75146-1.jpg"
                ],
                [
                  "17519",
                  "75184-1",
                  "Star Wars Advent Calendar 2017",
                  "2017",
                  "209",
                  "309",
                  "https://cdn.rebrickable.com/media/sets/75184-1.jpg"
                ],
                [
                  "17552",
                  "75213-1",
                  "Star Wars Advent Calendar 2018",
                  "2018",
                  "209",
                  "307",
                  "https://cdn.rebrickable.com/media/sets/75213-1.jpg"
                ],
                [
                  "17591",
                  "75245-1",
                  "Star Wars Advent Calendar 2019",
                  "2019",
                  "209",
                  "280",
                  "https://cdn.rebrickable.com/media/sets/75245-1.jpg"
                ],
                [
                  "17627",
                  "75279-1",
                  "Star Wars Advent Calendar 2020",
                  "2020",
                  "209",
                  "311",
                  "https://cdn.rebrickable.com/media/sets/75279-1.jpg"
                ],
                [
                  "17653",
                  "75307-1",
                  "Star Wars Advent Calendar 2021",
                  "2021",
                  "209",
                  "335",
                  "https://cdn.rebrickable.com/media/sets/75307-1.jpg"
                ],
                [
                  "17690",
                  "75340-1",
                  "Star Wars Advent Calendar 2022",
                  "2022",
                  "209",
                  "329",
                  "https://cdn.rebrickable.com/media/sets/75340-1.jpg"
                ],
                [
                  "17719",
                  "75366-1",
                  "Star Wars Advent Calendar 2023",
                  "2023",
                  "209",
                  "320",
                  "https://cdn.rebrickable.com/media/sets/75366-1.jpg"
                ],
                [
                  "17750",
                  "75395-1",
                  "Star Wars Advent Calendar 2024",
                  "2024",
                  "209",
                  "368",
                  "https://cdn.rebrickable.com/media/sets/75395-1.jpg"
                ],
                [
                  "17776",
                  "75418-1",
                  "Star Wars Advent Calendar 2025",
                  "2025",
                  "209",
                  "0",
                  "https://cdn.rebrickable.com/media/sets/75418-1.jpg"
                ],
                [
                  "18921",
                  "7958-1",
                  "Star Wars Advent Calendar 2011",
                  "2011",
                  "209",
                  "267",
                  "https://cdn.rebrickable.com/media/sets/7958-1.jpg"
                ],
                [
                  "22187",
                  "9509-1",
                  "Star Wars Advent Calendar 2012",
                  "2012",
                  "209",
                  "235",
                  "https://cdn.rebrickable.com/media/sets/9509-1.jpg"
                ]
              ],
              "shape": {
                "columns": 6,
                "rows": 15
              }
            },
            "text/html": [
              "<div>\n",
              "<style scoped>\n",
              "    .dataframe tbody tr th:only-of-type {\n",
              "        vertical-align: middle;\n",
              "    }\n",
              "\n",
              "    .dataframe tbody tr th {\n",
              "        vertical-align: top;\n",
              "    }\n",
              "\n",
              "    .dataframe thead th {\n",
              "        text-align: right;\n",
              "    }\n",
              "</style>\n",
              "<table border=\"1\" class=\"dataframe\">\n",
              "  <thead>\n",
              "    <tr style=\"text-align: right;\">\n",
              "      <th></th>\n",
              "      <th>set_num</th>\n",
              "      <th>name</th>\n",
              "      <th>year</th>\n",
              "      <th>theme_id</th>\n",
              "      <th>num_parts</th>\n",
              "      <th>img_url</th>\n",
              "    </tr>\n",
              "  </thead>\n",
              "  <tbody>\n",
              "    <tr>\n",
              "      <th>17359</th>\n",
              "      <td>75023-1</td>\n",
              "      <td>Star Wars Advent Calendar 2013</td>\n",
              "      <td>2013</td>\n",
              "      <td>209</td>\n",
              "      <td>254</td>\n",
              "      <td>https://cdn.rebrickable.com/media/sets/75023-1...</td>\n",
              "    </tr>\n",
              "    <tr>\n",
              "      <th>17392</th>\n",
              "      <td>75056-1</td>\n",
              "      <td>Star Wars Advent Calendar 2014</td>\n",
              "      <td>2014</td>\n",
              "      <td>209</td>\n",
              "      <td>275</td>\n",
              "      <td>https://cdn.rebrickable.com/media/sets/75056-1...</td>\n",
              "    </tr>\n",
              "    <tr>\n",
              "      <th>17426</th>\n",
              "      <td>75097-1</td>\n",
              "      <td>Star Wars Advent Calendar 2015</td>\n",
              "      <td>2015</td>\n",
              "      <td>209</td>\n",
              "      <td>291</td>\n",
              "      <td>https://cdn.rebrickable.com/media/sets/75097-1...</td>\n",
              "    </tr>\n",
              "    <tr>\n",
              "      <th>17477</th>\n",
              "      <td>75146-1</td>\n",
              "      <td>Star Wars Advent Calendar 2016</td>\n",
              "      <td>2016</td>\n",
              "      <td>209</td>\n",
              "      <td>282</td>\n",
              "      <td>https://cdn.rebrickable.com/media/sets/75146-1...</td>\n",
              "    </tr>\n",
              "    <tr>\n",
              "      <th>17519</th>\n",
              "      <td>75184-1</td>\n",
              "      <td>Star Wars Advent Calendar 2017</td>\n",
              "      <td>2017</td>\n",
              "      <td>209</td>\n",
              "      <td>309</td>\n",
              "      <td>https://cdn.rebrickable.com/media/sets/75184-1...</td>\n",
              "    </tr>\n",
              "    <tr>\n",
              "      <th>17552</th>\n",
              "      <td>75213-1</td>\n",
              "      <td>Star Wars Advent Calendar 2018</td>\n",
              "      <td>2018</td>\n",
              "      <td>209</td>\n",
              "      <td>307</td>\n",
              "      <td>https://cdn.rebrickable.com/media/sets/75213-1...</td>\n",
              "    </tr>\n",
              "    <tr>\n",
              "      <th>17591</th>\n",
              "      <td>75245-1</td>\n",
              "      <td>Star Wars Advent Calendar 2019</td>\n",
              "      <td>2019</td>\n",
              "      <td>209</td>\n",
              "      <td>280</td>\n",
              "      <td>https://cdn.rebrickable.com/media/sets/75245-1...</td>\n",
              "    </tr>\n",
              "    <tr>\n",
              "      <th>17627</th>\n",
              "      <td>75279-1</td>\n",
              "      <td>Star Wars Advent Calendar 2020</td>\n",
              "      <td>2020</td>\n",
              "      <td>209</td>\n",
              "      <td>311</td>\n",
              "      <td>https://cdn.rebrickable.com/media/sets/75279-1...</td>\n",
              "    </tr>\n",
              "    <tr>\n",
              "      <th>17653</th>\n",
              "      <td>75307-1</td>\n",
              "      <td>Star Wars Advent Calendar 2021</td>\n",
              "      <td>2021</td>\n",
              "      <td>209</td>\n",
              "      <td>335</td>\n",
              "      <td>https://cdn.rebrickable.com/media/sets/75307-1...</td>\n",
              "    </tr>\n",
              "    <tr>\n",
              "      <th>17690</th>\n",
              "      <td>75340-1</td>\n",
              "      <td>Star Wars Advent Calendar 2022</td>\n",
              "      <td>2022</td>\n",
              "      <td>209</td>\n",
              "      <td>329</td>\n",
              "      <td>https://cdn.rebrickable.com/media/sets/75340-1...</td>\n",
              "    </tr>\n",
              "    <tr>\n",
              "      <th>17719</th>\n",
              "      <td>75366-1</td>\n",
              "      <td>Star Wars Advent Calendar 2023</td>\n",
              "      <td>2023</td>\n",
              "      <td>209</td>\n",
              "      <td>320</td>\n",
              "      <td>https://cdn.rebrickable.com/media/sets/75366-1...</td>\n",
              "    </tr>\n",
              "    <tr>\n",
              "      <th>17750</th>\n",
              "      <td>75395-1</td>\n",
              "      <td>Star Wars Advent Calendar 2024</td>\n",
              "      <td>2024</td>\n",
              "      <td>209</td>\n",
              "      <td>368</td>\n",
              "      <td>https://cdn.rebrickable.com/media/sets/75395-1...</td>\n",
              "    </tr>\n",
              "    <tr>\n",
              "      <th>17776</th>\n",
              "      <td>75418-1</td>\n",
              "      <td>Star Wars Advent Calendar 2025</td>\n",
              "      <td>2025</td>\n",
              "      <td>209</td>\n",
              "      <td>0</td>\n",
              "      <td>https://cdn.rebrickable.com/media/sets/75418-1...</td>\n",
              "    </tr>\n",
              "    <tr>\n",
              "      <th>18921</th>\n",
              "      <td>7958-1</td>\n",
              "      <td>Star Wars Advent Calendar 2011</td>\n",
              "      <td>2011</td>\n",
              "      <td>209</td>\n",
              "      <td>267</td>\n",
              "      <td>https://cdn.rebrickable.com/media/sets/7958-1.jpg</td>\n",
              "    </tr>\n",
              "    <tr>\n",
              "      <th>22187</th>\n",
              "      <td>9509-1</td>\n",
              "      <td>Star Wars Advent Calendar 2012</td>\n",
              "      <td>2012</td>\n",
              "      <td>209</td>\n",
              "      <td>235</td>\n",
              "      <td>https://cdn.rebrickable.com/media/sets/9509-1.jpg</td>\n",
              "    </tr>\n",
              "  </tbody>\n",
              "</table>\n",
              "</div>"
            ],
            "text/plain": [
              "       set_num                            name  year  theme_id  num_parts  \\\n",
              "17359  75023-1  Star Wars Advent Calendar 2013  2013       209        254   \n",
              "17392  75056-1  Star Wars Advent Calendar 2014  2014       209        275   \n",
              "17426  75097-1  Star Wars Advent Calendar 2015  2015       209        291   \n",
              "17477  75146-1  Star Wars Advent Calendar 2016  2016       209        282   \n",
              "17519  75184-1  Star Wars Advent Calendar 2017  2017       209        309   \n",
              "17552  75213-1  Star Wars Advent Calendar 2018  2018       209        307   \n",
              "17591  75245-1  Star Wars Advent Calendar 2019  2019       209        280   \n",
              "17627  75279-1  Star Wars Advent Calendar 2020  2020       209        311   \n",
              "17653  75307-1  Star Wars Advent Calendar 2021  2021       209        335   \n",
              "17690  75340-1  Star Wars Advent Calendar 2022  2022       209        329   \n",
              "17719  75366-1  Star Wars Advent Calendar 2023  2023       209        320   \n",
              "17750  75395-1  Star Wars Advent Calendar 2024  2024       209        368   \n",
              "17776  75418-1  Star Wars Advent Calendar 2025  2025       209          0   \n",
              "18921   7958-1  Star Wars Advent Calendar 2011  2011       209        267   \n",
              "22187   9509-1  Star Wars Advent Calendar 2012  2012       209        235   \n",
              "\n",
              "                                                 img_url  \n",
              "17359  https://cdn.rebrickable.com/media/sets/75023-1...  \n",
              "17392  https://cdn.rebrickable.com/media/sets/75056-1...  \n",
              "17426  https://cdn.rebrickable.com/media/sets/75097-1...  \n",
              "17477  https://cdn.rebrickable.com/media/sets/75146-1...  \n",
              "17519  https://cdn.rebrickable.com/media/sets/75184-1...  \n",
              "17552  https://cdn.rebrickable.com/media/sets/75213-1...  \n",
              "17591  https://cdn.rebrickable.com/media/sets/75245-1...  \n",
              "17627  https://cdn.rebrickable.com/media/sets/75279-1...  \n",
              "17653  https://cdn.rebrickable.com/media/sets/75307-1...  \n",
              "17690  https://cdn.rebrickable.com/media/sets/75340-1...  \n",
              "17719  https://cdn.rebrickable.com/media/sets/75366-1...  \n",
              "17750  https://cdn.rebrickable.com/media/sets/75395-1...  \n",
              "17776  https://cdn.rebrickable.com/media/sets/75418-1...  \n",
              "18921  https://cdn.rebrickable.com/media/sets/7958-1.jpg  \n",
              "22187  https://cdn.rebrickable.com/media/sets/9509-1.jpg  "
            ]
          },
          "execution_count": 203,
          "metadata": {},
          "output_type": "execute_result"
        }
      ],
      "source": [
        "# for th_id in themes_ids:\n",
        "sets[sets['theme_id'] == 209]"
      ]
    },
    {
      "cell_type": "markdown",
      "metadata": {
        "colab_type": "text",
        "id": "SmTCXWKKIqvQ"
      },
      "source": [
        "### Merging (i.e., Combining) DataFrames based on a Key\n"
      ]
    },
    {
      "cell_type": "code",
      "execution_count": null,
      "metadata": {
        "colab": {},
        "colab_type": "code",
        "id": "esKQULhcIqvR"
      },
      "outputs": [
        {
          "data": {
            "application/vnd.microsoft.datawrangler.viewer.v0+json": {
              "columns": [
                {
                  "name": "index",
                  "rawType": "int64",
                  "type": "integer"
                },
                {
                  "name": "id",
                  "rawType": "int64",
                  "type": "integer"
                },
                {
                  "name": "set_count",
                  "rawType": "int64",
                  "type": "integer"
                }
              ],
              "ref": "aa99fe01-4dd4-4bc2-becb-6fe336114cda",
              "rows": [
                [
                  "0",
                  "158",
                  "989"
                ],
                [
                  "1",
                  "503",
                  "794"
                ],
                [
                  "2",
                  "777",
                  "758"
                ],
                [
                  "3",
                  "494",
                  "638"
                ],
                [
                  "4",
                  "739",
                  "638"
                ]
              ],
              "shape": {
                "columns": 2,
                "rows": 5
              }
            },
            "text/html": [
              "<div>\n",
              "<style scoped>\n",
              "    .dataframe tbody tr th:only-of-type {\n",
              "        vertical-align: middle;\n",
              "    }\n",
              "\n",
              "    .dataframe tbody tr th {\n",
              "        vertical-align: top;\n",
              "    }\n",
              "\n",
              "    .dataframe thead th {\n",
              "        text-align: right;\n",
              "    }\n",
              "</style>\n",
              "<table border=\"1\" class=\"dataframe\">\n",
              "  <thead>\n",
              "    <tr style=\"text-align: right;\">\n",
              "      <th></th>\n",
              "      <th>id</th>\n",
              "      <th>set_count</th>\n",
              "    </tr>\n",
              "  </thead>\n",
              "  <tbody>\n",
              "    <tr>\n",
              "      <th>0</th>\n",
              "      <td>158</td>\n",
              "      <td>989</td>\n",
              "    </tr>\n",
              "    <tr>\n",
              "      <th>1</th>\n",
              "      <td>503</td>\n",
              "      <td>794</td>\n",
              "    </tr>\n",
              "    <tr>\n",
              "      <th>2</th>\n",
              "      <td>777</td>\n",
              "      <td>758</td>\n",
              "    </tr>\n",
              "    <tr>\n",
              "      <th>3</th>\n",
              "      <td>494</td>\n",
              "      <td>638</td>\n",
              "    </tr>\n",
              "    <tr>\n",
              "      <th>4</th>\n",
              "      <td>739</td>\n",
              "      <td>638</td>\n",
              "    </tr>\n",
              "  </tbody>\n",
              "</table>\n",
              "</div>"
            ],
            "text/plain": [
              "    id  set_count\n",
              "0  158        989\n",
              "1  503        794\n",
              "2  777        758\n",
              "3  494        638\n",
              "4  739        638"
            ]
          },
          "execution_count": 207,
          "metadata": {},
          "output_type": "execute_result"
        }
      ],
      "source": [
        "set_theme_count = pd.DataFrame({\n",
        "    'id': set_theme_count.index,\n",
        "    'set_count': set_theme_count.values\n",
        "})  # changing the column name of all the unnamed columns\n",
        "set_theme_count.head()"
      ]
    },
    {
      "cell_type": "code",
      "execution_count": 217,
      "metadata": {
        "colab": {},
        "colab_type": "code",
        "id": "i0LobgIvIqvT"
      },
      "outputs": [
        {
          "data": {
            "application/vnd.microsoft.datawrangler.viewer.v0+json": {
              "columns": [
                {
                  "name": "index",
                  "rawType": "int64",
                  "type": "integer"
                },
                {
                  "name": "id",
                  "rawType": "int64",
                  "type": "integer"
                },
                {
                  "name": "set_count",
                  "rawType": "int64",
                  "type": "integer"
                },
                {
                  "name": "name",
                  "rawType": "object",
                  "type": "string"
                },
                {
                  "name": "parent_id",
                  "rawType": "float64",
                  "type": "float"
                }
              ],
              "ref": "7d56b3d2-4273-4d54-b6b7-a07dc534a278",
              "rows": [
                [
                  "0",
                  "158",
                  "989",
                  "Star Wars",
                  null
                ],
                [
                  "1",
                  "503",
                  "794",
                  "Key Chain",
                  "501.0"
                ],
                [
                  "2",
                  "777",
                  "758",
                  "Bags, Totes, & Luggage",
                  "501.0"
                ],
                [
                  "3",
                  "494",
                  "638",
                  "Friends",
                  null
                ],
                [
                  "4",
                  "739",
                  "638",
                  "Stationery and Office Supplies",
                  "501.0"
                ]
              ],
              "shape": {
                "columns": 4,
                "rows": 5
              }
            },
            "text/html": [
              "<div>\n",
              "<style scoped>\n",
              "    .dataframe tbody tr th:only-of-type {\n",
              "        vertical-align: middle;\n",
              "    }\n",
              "\n",
              "    .dataframe tbody tr th {\n",
              "        vertical-align: top;\n",
              "    }\n",
              "\n",
              "    .dataframe thead th {\n",
              "        text-align: right;\n",
              "    }\n",
              "</style>\n",
              "<table border=\"1\" class=\"dataframe\">\n",
              "  <thead>\n",
              "    <tr style=\"text-align: right;\">\n",
              "      <th></th>\n",
              "      <th>id</th>\n",
              "      <th>set_count</th>\n",
              "      <th>name</th>\n",
              "      <th>parent_id</th>\n",
              "    </tr>\n",
              "  </thead>\n",
              "  <tbody>\n",
              "    <tr>\n",
              "      <th>0</th>\n",
              "      <td>158</td>\n",
              "      <td>989</td>\n",
              "      <td>Star Wars</td>\n",
              "      <td>NaN</td>\n",
              "    </tr>\n",
              "    <tr>\n",
              "      <th>1</th>\n",
              "      <td>503</td>\n",
              "      <td>794</td>\n",
              "      <td>Key Chain</td>\n",
              "      <td>501.0</td>\n",
              "    </tr>\n",
              "    <tr>\n",
              "      <th>2</th>\n",
              "      <td>777</td>\n",
              "      <td>758</td>\n",
              "      <td>Bags, Totes, &amp; Luggage</td>\n",
              "      <td>501.0</td>\n",
              "    </tr>\n",
              "    <tr>\n",
              "      <th>3</th>\n",
              "      <td>494</td>\n",
              "      <td>638</td>\n",
              "      <td>Friends</td>\n",
              "      <td>NaN</td>\n",
              "    </tr>\n",
              "    <tr>\n",
              "      <th>4</th>\n",
              "      <td>739</td>\n",
              "      <td>638</td>\n",
              "      <td>Stationery and Office Supplies</td>\n",
              "      <td>501.0</td>\n",
              "    </tr>\n",
              "  </tbody>\n",
              "</table>\n",
              "</div>"
            ],
            "text/plain": [
              "    id  set_count                            name  parent_id\n",
              "0  158        989                       Star Wars        NaN\n",
              "1  503        794                       Key Chain      501.0\n",
              "2  777        758          Bags, Totes, & Luggage      501.0\n",
              "3  494        638                         Friends        NaN\n",
              "4  739        638  Stationery and Office Supplies      501.0"
            ]
          },
          "execution_count": 217,
          "metadata": {},
          "output_type": "execute_result"
        }
      ],
      "source": [
        "merge_df = pd.merge(set_theme_count, themes, on='id')\n",
        "merge_df[:5].sort_values(by='set_count', ascending=False)"
      ]
    },
    {
      "cell_type": "markdown",
      "metadata": {},
      "source": [
        "#### Plotting a bar chart with our data"
      ]
    },
    {
      "cell_type": "code",
      "execution_count": 224,
      "metadata": {
        "colab": {},
        "colab_type": "code",
        "id": "I7UMP7VXIqvU"
      },
      "outputs": [
        {
          "data": {
            "text/plain": [
              "<BarContainer object of 10 artists>"
            ]
          },
          "execution_count": 224,
          "metadata": {},
          "output_type": "execute_result"
        },
        {
          "data": {
            "image/png": "[encoded data removed]",
            "text/plain": [
              "<Figure size 1000x500 with 1 Axes>"
            ]
          },
          "metadata": {},
          "output_type": "display_data"
        }
      ],
      "source": [
        "# Customizing our chart for the data to be more readable\n",
        "plt.figure(figsize=(10,5))\n",
        "plt.xticks(fontsize=7, rotation=67.5)\n",
        "plt.yticks(fontsize=14)\n",
        "plt.ylabel('Nr of Sets', fontsize=14)\n",
        "plt.xlabel('Theme Name', fontsize=14)\n",
        "\n",
        "plt.bar(merge_df['name'][:10], merge_df['set_count'][:10])"
      ]
    }
  ],
  "metadata": {
    "colab": {
      "name": "Lego Analysis for Course (start).ipynb",
      "provenance": []
    },
    "kernelspec": {
      "display_name": ".venv (3.10.11)",
      "language": "python",
      "name": "python3"
    },
    "language_info": {
      "codemirror_mode": {
        "name": "ipython",
        "version": 3
      },
      "file_extension": ".py",
      "mimetype": "text/x-python",
      "name": "python",
      "nbconvert_exporter": "python",
      "pygments_lexer": "ipython3",
      "version": "3.10.11"
    }
  },
  "nbformat": 4,
  "nbformat_minor": 0
}
