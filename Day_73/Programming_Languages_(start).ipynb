{
  "cells": [
    {
      "cell_type": "markdown",
      "metadata": {
        "colab_type": "text",
        "id": "MAAKxOwsGxuj"
      },
      "source": [
        "## Get the Data\n",
        "\n",
        "Either use the provided .csv file or (optionally) get fresh (the freshest?) data from running an SQL query on StackExchange: \n",
        "\n",
        "Follow this link to run the query from [StackExchange](https://data.stackexchange.com/stackoverflow/query/675441/popular-programming-languages-per-over-time-eversql-com) to get your own .csv file\n",
        "\n",
        "<code>\n",
        "select dateadd(month, datediff(month, 0, q.CreationDate), 0) m, TagName, count(*)\n",
        "from PostTags pt\n",
        "join Posts q on q.Id=pt.PostId\n",
        "join Tags t on t.Id=pt.TagId\n",
        "where TagName in ('java','c','c++','python','c#','javascript','assembly','php','perl','ruby','visual basic','swift','r','object-c','scratch','go','swift','delphi')\n",
        "and q.CreationDate < dateadd(month, datediff(month, 0, getdate()), 0)\n",
        "group by dateadd(month, datediff(month, 0, q.CreationDate), 0), TagName\n",
        "order by dateadd(month, datediff(month, 0, q.CreationDate), 0)\n",
        "</code>"
      ]
    },
    {
      "cell_type": "markdown",
      "metadata": {
        "colab_type": "text",
        "id": "u5KcSXt1Gxuk"
      },
      "source": [
        "## Import Statements"
      ]
    },
    {
      "cell_type": "code",
      "execution_count": 3,
      "metadata": {
        "colab": {},
        "colab_type": "code",
        "id": "Ru4Wq-pXGxuk"
      },
      "outputs": [],
      "source": [
        "import pandas as pd\n",
        "import matplotlib.pyplot as plt\n"
      ]
    },
    {
      "cell_type": "markdown",
      "metadata": {
        "colab_type": "text",
        "id": "xEP6beuEGxun"
      },
      "source": [
        "## Data Exploration"
      ]
    },
    {
      "cell_type": "markdown",
      "metadata": {
        "colab_type": "text",
        "id": "w3Q75B4CGxun"
      },
      "source": [
        "**Challenge**: Read the .csv file and store it in a Pandas dataframe"
      ]
    },
    {
      "cell_type": "code",
      "execution_count": 4,
      "metadata": {
        "colab": {},
        "colab_type": "code",
        "id": "Bm7hQtEGIiri"
      },
      "outputs": [],
      "source": [
        "df = pd.read_csv('QueryResults.csv', names=['DATE', 'TAG', 'POSTS'], header=0)"
      ]
    },
    {
      "cell_type": "markdown",
      "metadata": {
        "colab_type": "text",
        "id": "x2WnDM75Gxup"
      },
      "source": [
        "**Challenge**: Examine the first 5 rows and the last 5 rows of the of the dataframe"
      ]
    },
    {
      "cell_type": "code",
      "execution_count": 5,
      "metadata": {
        "colab": {},
        "colab_type": "code",
        "id": "50oqpUxVIiJf"
      },
      "outputs": [
        {
          "name": "stdout",
          "output_type": "stream",
          "text": [
            "                  DATE       TAG  POSTS\n",
            "0  2008-07-01 00:00:00        c#      3\n",
            "1  2008-08-01 00:00:00  assembly      8\n",
            "2  2008-08-01 00:00:00         c     82\n",
            "3  2008-08-01 00:00:00        c#    503\n",
            "4  2008-08-01 00:00:00       c++    164\n",
            "                     DATE     TAG  POSTS\n",
            "2826  2025-07-01 00:00:00     php    117\n",
            "2827  2025-07-01 00:00:00  python   1014\n",
            "2828  2025-07-01 00:00:00       r    218\n",
            "2829  2025-07-01 00:00:00    ruby     14\n",
            "2830  2025-07-01 00:00:00   swift    166\n"
          ]
        }
      ],
      "source": [
        "print(df.head())\n",
        "print(df.tail())"
      ]
    },
    {
      "cell_type": "markdown",
      "metadata": {
        "colab_type": "text",
        "id": "0o9hvVgyGxus"
      },
      "source": [
        "**Challenge:** Check how many rows and how many columns there are. \n",
        "What are the dimensions of the dataframe?"
      ]
    },
    {
      "cell_type": "code",
      "execution_count": 6,
      "metadata": {
        "colab": {},
        "colab_type": "code",
        "id": "ZUidjCPFIho8"
      },
      "outputs": [
        {
          "data": {
            "text/plain": [
              "(2831, 3)"
            ]
          },
          "execution_count": 6,
          "metadata": {},
          "output_type": "execute_result"
        }
      ],
      "source": [
        "df.shape"
      ]
    },
    {
      "cell_type": "markdown",
      "metadata": {
        "colab_type": "text",
        "id": "ybZkNLmxGxuu"
      },
      "source": [
        "**Challenge**: Count the number of entries in each column of the dataframe"
      ]
    },
    {
      "cell_type": "code",
      "execution_count": 7,
      "metadata": {
        "colab": {},
        "colab_type": "code",
        "id": "Sc1dmmOoIg2g"
      },
      "outputs": [
        {
          "data": {
            "application/vnd.microsoft.datawrangler.viewer.v0+json": {
              "columns": [
                {
                  "name": "index",
                  "rawType": "object",
                  "type": "string"
                },
                {
                  "name": "0",
                  "rawType": "int64",
                  "type": "integer"
                }
              ],
              "ref": "f4656921-3b3f-4fc4-b774-03c15fade6c9",
              "rows": [
                [
                  "DATE",
                  "2831"
                ],
                [
                  "TAG",
                  "2831"
                ],
                [
                  "POSTS",
                  "2831"
                ]
              ],
              "shape": {
                "columns": 1,
                "rows": 3
              }
            },
            "text/plain": [
              "DATE     2831\n",
              "TAG      2831\n",
              "POSTS    2831\n",
              "dtype: int64"
            ]
          },
          "execution_count": 7,
          "metadata": {},
          "output_type": "execute_result"
        }
      ],
      "source": [
        "df.count()"
      ]
    },
    {
      "cell_type": "markdown",
      "metadata": {
        "colab_type": "text",
        "id": "hlnfFsscGxuw"
      },
      "source": [
        "**Challenge**: Calculate the total number of post per language.\n",
        "Which Programming language has had the highest total number of posts of all time?"
      ]
    },
    {
      "cell_type": "code",
      "execution_count": 8,
      "metadata": {
        "colab": {},
        "colab_type": "code",
        "id": "9-NYFONcIc1X"
      },
      "outputs": [
        {
          "data": {
            "application/vnd.microsoft.datawrangler.viewer.v0+json": {
              "columns": [
                {
                  "name": "TAG",
                  "rawType": "object",
                  "type": "string"
                },
                {
                  "name": "POSTS",
                  "rawType": "int64",
                  "type": "integer"
                }
              ],
              "ref": "7979fff0-d72c-4788-b471-b8fbc9d7c575",
              "rows": [
                [
                  "javascript",
                  "2528303"
                ],
                [
                  "python",
                  "2209491"
                ],
                [
                  "java",
                  "1918679"
                ],
                [
                  "c#",
                  "1624055"
                ],
                [
                  "php",
                  "1465243"
                ],
                [
                  "c++",
                  "814550"
                ],
                [
                  "r",
                  "510756"
                ],
                [
                  "c",
                  "407983"
                ],
                [
                  "swift",
                  "336225"
                ],
                [
                  "ruby",
                  "229297"
                ],
                [
                  "go",
                  "74386"
                ],
                [
                  "perl",
                  "68345"
                ],
                [
                  "delphi",
                  "52505"
                ],
                [
                  "assembly",
                  "45133"
                ]
              ],
              "shape": {
                "columns": 1,
                "rows": 14
              }
            },
            "text/plain": [
              "TAG\n",
              "javascript    2528303\n",
              "python        2209491\n",
              "java          1918679\n",
              "c#            1624055\n",
              "php           1465243\n",
              "c++            814550\n",
              "r              510756\n",
              "c              407983\n",
              "swift          336225\n",
              "ruby           229297\n",
              "go              74386\n",
              "perl            68345\n",
              "delphi          52505\n",
              "assembly        45133\n",
              "Name: POSTS, dtype: int64"
            ]
          },
          "execution_count": 8,
          "metadata": {},
          "output_type": "execute_result"
        }
      ],
      "source": [
        "df.groupby('TAG')['POSTS'].sum().sort_values(ascending=False)"
      ]
    },
    {
      "cell_type": "markdown",
      "metadata": {
        "colab_type": "text",
        "id": "iVCesB49Gxuz"
      },
      "source": [
        "Some languages are older (e.g., C) and other languages are newer (e.g., Swift). The dataset starts in September 2008.\n",
        "\n",
        "**Challenge**: How many months of data exist per language? Which language had the fewest months with an entry? \n"
      ]
    },
    {
      "cell_type": "code",
      "execution_count": 9,
      "metadata": {
        "colab": {},
        "colab_type": "code",
        "id": "hDT4JlJNJfgQ"
      },
      "outputs": [
        {
          "data": {
            "application/vnd.microsoft.datawrangler.viewer.v0+json": {
              "columns": [
                {
                  "name": "TAG",
                  "rawType": "object",
                  "type": "string"
                },
                {
                  "name": "DATE",
                  "rawType": "int64",
                  "type": "integer"
                }
              ],
              "ref": "e49d841b-0e2a-4c6f-9158-729abcf1e5b2",
              "rows": [
                [
                  "c#",
                  "205"
                ],
                [
                  "assembly",
                  "204"
                ],
                [
                  "c",
                  "204"
                ],
                [
                  "c++",
                  "204"
                ],
                [
                  "delphi",
                  "204"
                ],
                [
                  "java",
                  "204"
                ],
                [
                  "python",
                  "204"
                ],
                [
                  "javascript",
                  "204"
                ],
                [
                  "perl",
                  "204"
                ],
                [
                  "php",
                  "204"
                ],
                [
                  "ruby",
                  "204"
                ],
                [
                  "r",
                  "202"
                ],
                [
                  "swift",
                  "195"
                ],
                [
                  "go",
                  "189"
                ]
              ],
              "shape": {
                "columns": 1,
                "rows": 14
              }
            },
            "text/plain": [
              "TAG\n",
              "c#            205\n",
              "assembly      204\n",
              "c             204\n",
              "c++           204\n",
              "delphi        204\n",
              "java          204\n",
              "python        204\n",
              "javascript    204\n",
              "perl          204\n",
              "php           204\n",
              "ruby          204\n",
              "r             202\n",
              "swift         195\n",
              "go            189\n",
              "Name: DATE, dtype: int64"
            ]
          },
          "execution_count": 9,
          "metadata": {},
          "output_type": "execute_result"
        }
      ],
      "source": [
        "df.groupby('TAG')['DATE'].count().sort_values(ascending=False)"
      ]
    },
    {
      "cell_type": "markdown",
      "metadata": {
        "colab_type": "text",
        "id": "arguGp3ZGxu1"
      },
      "source": [
        "## Data Cleaning\n",
        "\n",
        "Let's fix the date format to make it more readable. We need to use Pandas to change format from a string of \"2008-07-01 00:00:00\" to a datetime object with the format of \"2008-07-01\""
      ]
    },
    {
      "cell_type": "code",
      "execution_count": 10,
      "metadata": {
        "colab": {},
        "colab_type": "code",
        "id": "5nh5a4UtGxu1"
      },
      "outputs": [
        {
          "name": "stdout",
          "output_type": "stream",
          "text": [
            "<class 'str'>\n"
          ]
        },
        {
          "data": {
            "text/plain": [
              "Timestamp('2008-08-01 00:00:00')"
            ]
          },
          "execution_count": 10,
          "metadata": {},
          "output_type": "execute_result"
        }
      ],
      "source": [
        "print(type(df['DATE'][4]))\n",
        "pd.to_datetime(df['DATE'][1])"
      ]
    },
    {
      "cell_type": "code",
      "execution_count": 11,
      "metadata": {
        "colab": {},
        "colab_type": "code",
        "id": "016H-Fy4Gxu3"
      },
      "outputs": [],
      "source": [
        "df['DATE'] = pd.to_datetime(df['DATE'])"
      ]
    },
    {
      "cell_type": "code",
      "execution_count": 12,
      "metadata": {
        "colab": {},
        "colab_type": "code",
        "id": "4EiSd7pdGxu5"
      },
      "outputs": [
        {
          "data": {
            "application/vnd.microsoft.datawrangler.viewer.v0+json": {
              "columns": [
                {
                  "name": "index",
                  "rawType": "int64",
                  "type": "integer"
                },
                {
                  "name": "DATE",
                  "rawType": "datetime64[ns]",
                  "type": "datetime"
                },
                {
                  "name": "TAG",
                  "rawType": "object",
                  "type": "string"
                },
                {
                  "name": "POSTS",
                  "rawType": "int64",
                  "type": "integer"
                }
              ],
              "ref": "ed987031-c7fa-4e42-8ce7-d9b4654721ca",
              "rows": [
                [
                  "0",
                  "2008-07-01 00:00:00",
                  "c#",
                  "3"
                ],
                [
                  "1",
                  "2008-08-01 00:00:00",
                  "assembly",
                  "8"
                ],
                [
                  "2",
                  "2008-08-01 00:00:00",
                  "c",
                  "82"
                ],
                [
                  "3",
                  "2008-08-01 00:00:00",
                  "c#",
                  "503"
                ],
                [
                  "4",
                  "2008-08-01 00:00:00",
                  "c++",
                  "164"
                ]
              ],
              "shape": {
                "columns": 3,
                "rows": 5
              }
            },
            "text/html": [
              "<div>\n",
              "<style scoped>\n",
              "    .dataframe tbody tr th:only-of-type {\n",
              "        vertical-align: middle;\n",
              "    }\n",
              "\n",
              "    .dataframe tbody tr th {\n",
              "        vertical-align: top;\n",
              "    }\n",
              "\n",
              "    .dataframe thead th {\n",
              "        text-align: right;\n",
              "    }\n",
              "</style>\n",
              "<table border=\"1\" class=\"dataframe\">\n",
              "  <thead>\n",
              "    <tr style=\"text-align: right;\">\n",
              "      <th></th>\n",
              "      <th>DATE</th>\n",
              "      <th>TAG</th>\n",
              "      <th>POSTS</th>\n",
              "    </tr>\n",
              "  </thead>\n",
              "  <tbody>\n",
              "    <tr>\n",
              "      <th>0</th>\n",
              "      <td>2008-07-01</td>\n",
              "      <td>c#</td>\n",
              "      <td>3</td>\n",
              "    </tr>\n",
              "    <tr>\n",
              "      <th>1</th>\n",
              "      <td>2008-08-01</td>\n",
              "      <td>assembly</td>\n",
              "      <td>8</td>\n",
              "    </tr>\n",
              "    <tr>\n",
              "      <th>2</th>\n",
              "      <td>2008-08-01</td>\n",
              "      <td>c</td>\n",
              "      <td>82</td>\n",
              "    </tr>\n",
              "    <tr>\n",
              "      <th>3</th>\n",
              "      <td>2008-08-01</td>\n",
              "      <td>c#</td>\n",
              "      <td>503</td>\n",
              "    </tr>\n",
              "    <tr>\n",
              "      <th>4</th>\n",
              "      <td>2008-08-01</td>\n",
              "      <td>c++</td>\n",
              "      <td>164</td>\n",
              "    </tr>\n",
              "  </tbody>\n",
              "</table>\n",
              "</div>"
            ],
            "text/plain": [
              "        DATE       TAG  POSTS\n",
              "0 2008-07-01        c#      3\n",
              "1 2008-08-01  assembly      8\n",
              "2 2008-08-01         c     82\n",
              "3 2008-08-01        c#    503\n",
              "4 2008-08-01       c++    164"
            ]
          },
          "execution_count": 12,
          "metadata": {},
          "output_type": "execute_result"
        }
      ],
      "source": [
        "df.head()"
      ]
    },
    {
      "cell_type": "markdown",
      "metadata": {
        "colab_type": "text",
        "id": "rWAV6tuzGxu6"
      },
      "source": [
        "## Data Manipulation\n",
        "\n"
      ]
    },
    {
      "cell_type": "code",
      "execution_count": 13,
      "metadata": {
        "colab": {},
        "colab_type": "code",
        "id": "aHhbulJaGxu7"
      },
      "outputs": [
        {
          "data": {
            "application/vnd.microsoft.datawrangler.viewer.v0+json": {
              "columns": [
                {
                  "name": "index",
                  "rawType": "int64",
                  "type": "integer"
                },
                {
                  "name": "Age",
                  "rawType": "object",
                  "type": "string"
                },
                {
                  "name": "Actor",
                  "rawType": "object",
                  "type": "string"
                },
                {
                  "name": "Power",
                  "rawType": "int64",
                  "type": "integer"
                }
              ],
              "ref": "7a8ed1d8-7c95-4119-920f-f5349f5eb261",
              "rows": [
                [
                  "0",
                  "Young",
                  "Jack",
                  "100"
                ],
                [
                  "1",
                  "Young",
                  "Arnold",
                  "80"
                ],
                [
                  "2",
                  "Young",
                  "Keanu",
                  "25"
                ],
                [
                  "3",
                  "Young",
                  "Sylvester",
                  "50"
                ],
                [
                  "4",
                  "Old",
                  "Jack",
                  "99"
                ],
                [
                  "5",
                  "Old",
                  "Arnold",
                  "75"
                ],
                [
                  "6",
                  "Old",
                  "Keanu",
                  "5"
                ],
                [
                  "7",
                  "Old",
                  "Sylvester",
                  "30"
                ]
              ],
              "shape": {
                "columns": 3,
                "rows": 8
              }
            },
            "text/html": [
              "<div>\n",
              "<style scoped>\n",
              "    .dataframe tbody tr th:only-of-type {\n",
              "        vertical-align: middle;\n",
              "    }\n",
              "\n",
              "    .dataframe tbody tr th {\n",
              "        vertical-align: top;\n",
              "    }\n",
              "\n",
              "    .dataframe thead th {\n",
              "        text-align: right;\n",
              "    }\n",
              "</style>\n",
              "<table border=\"1\" class=\"dataframe\">\n",
              "  <thead>\n",
              "    <tr style=\"text-align: right;\">\n",
              "      <th></th>\n",
              "      <th>Age</th>\n",
              "      <th>Actor</th>\n",
              "      <th>Power</th>\n",
              "    </tr>\n",
              "  </thead>\n",
              "  <tbody>\n",
              "    <tr>\n",
              "      <th>0</th>\n",
              "      <td>Young</td>\n",
              "      <td>Jack</td>\n",
              "      <td>100</td>\n",
              "    </tr>\n",
              "    <tr>\n",
              "      <th>1</th>\n",
              "      <td>Young</td>\n",
              "      <td>Arnold</td>\n",
              "      <td>80</td>\n",
              "    </tr>\n",
              "    <tr>\n",
              "      <th>2</th>\n",
              "      <td>Young</td>\n",
              "      <td>Keanu</td>\n",
              "      <td>25</td>\n",
              "    </tr>\n",
              "    <tr>\n",
              "      <th>3</th>\n",
              "      <td>Young</td>\n",
              "      <td>Sylvester</td>\n",
              "      <td>50</td>\n",
              "    </tr>\n",
              "    <tr>\n",
              "      <th>4</th>\n",
              "      <td>Old</td>\n",
              "      <td>Jack</td>\n",
              "      <td>99</td>\n",
              "    </tr>\n",
              "    <tr>\n",
              "      <th>5</th>\n",
              "      <td>Old</td>\n",
              "      <td>Arnold</td>\n",
              "      <td>75</td>\n",
              "    </tr>\n",
              "    <tr>\n",
              "      <th>6</th>\n",
              "      <td>Old</td>\n",
              "      <td>Keanu</td>\n",
              "      <td>5</td>\n",
              "    </tr>\n",
              "    <tr>\n",
              "      <th>7</th>\n",
              "      <td>Old</td>\n",
              "      <td>Sylvester</td>\n",
              "      <td>30</td>\n",
              "    </tr>\n",
              "  </tbody>\n",
              "</table>\n",
              "</div>"
            ],
            "text/plain": [
              "     Age      Actor  Power\n",
              "0  Young       Jack    100\n",
              "1  Young     Arnold     80\n",
              "2  Young      Keanu     25\n",
              "3  Young  Sylvester     50\n",
              "4    Old       Jack     99\n",
              "5    Old     Arnold     75\n",
              "6    Old      Keanu      5\n",
              "7    Old  Sylvester     30"
            ]
          },
          "execution_count": 13,
          "metadata": {},
          "output_type": "execute_result"
        }
      ],
      "source": [
        "test_df = pd.DataFrame({'Age': ['Young', 'Young', 'Young', 'Young', 'Old', 'Old', 'Old', 'Old'],\n",
        "                        'Actor': ['Jack', 'Arnold', 'Keanu', 'Sylvester', 'Jack', 'Arnold', 'Keanu', 'Sylvester'],\n",
        "                        'Power': [100, 80, 25, 50, 99, 75, 5, 30]})\n",
        "test_df"
      ]
    },
    {
      "cell_type": "code",
      "execution_count": 14,
      "metadata": {},
      "outputs": [
        {
          "data": {
            "application/vnd.microsoft.datawrangler.viewer.v0+json": {
              "columns": [
                {
                  "name": "Age",
                  "rawType": "object",
                  "type": "string"
                },
                {
                  "name": "Arnold",
                  "rawType": "int64",
                  "type": "integer"
                },
                {
                  "name": "Jack",
                  "rawType": "int64",
                  "type": "integer"
                },
                {
                  "name": "Keanu",
                  "rawType": "int64",
                  "type": "integer"
                },
                {
                  "name": "Sylvester",
                  "rawType": "int64",
                  "type": "integer"
                }
              ],
              "ref": "4da2f596-32d0-4ce2-ba14-c8779062e91f",
              "rows": [
                [
                  "Old",
                  "75",
                  "99",
                  "5",
                  "30"
                ],
                [
                  "Young",
                  "80",
                  "100",
                  "25",
                  "50"
                ]
              ],
              "shape": {
                "columns": 4,
                "rows": 2
              }
            },
            "text/html": [
              "<div>\n",
              "<style scoped>\n",
              "    .dataframe tbody tr th:only-of-type {\n",
              "        vertical-align: middle;\n",
              "    }\n",
              "\n",
              "    .dataframe tbody tr th {\n",
              "        vertical-align: top;\n",
              "    }\n",
              "\n",
              "    .dataframe thead th {\n",
              "        text-align: right;\n",
              "    }\n",
              "</style>\n",
              "<table border=\"1\" class=\"dataframe\">\n",
              "  <thead>\n",
              "    <tr style=\"text-align: right;\">\n",
              "      <th>Actor</th>\n",
              "      <th>Arnold</th>\n",
              "      <th>Jack</th>\n",
              "      <th>Keanu</th>\n",
              "      <th>Sylvester</th>\n",
              "    </tr>\n",
              "    <tr>\n",
              "      <th>Age</th>\n",
              "      <th></th>\n",
              "      <th></th>\n",
              "      <th></th>\n",
              "      <th></th>\n",
              "    </tr>\n",
              "  </thead>\n",
              "  <tbody>\n",
              "    <tr>\n",
              "      <th>Old</th>\n",
              "      <td>75</td>\n",
              "      <td>99</td>\n",
              "      <td>5</td>\n",
              "      <td>30</td>\n",
              "    </tr>\n",
              "    <tr>\n",
              "      <th>Young</th>\n",
              "      <td>80</td>\n",
              "      <td>100</td>\n",
              "      <td>25</td>\n",
              "      <td>50</td>\n",
              "    </tr>\n",
              "  </tbody>\n",
              "</table>\n",
              "</div>"
            ],
            "text/plain": [
              "Actor  Arnold  Jack  Keanu  Sylvester\n",
              "Age                                  \n",
              "Old        75    99      5         30\n",
              "Young      80   100     25         50"
            ]
          },
          "execution_count": 14,
          "metadata": {},
          "output_type": "execute_result"
        }
      ],
      "source": [
        "pivot_df = test_df.pivot(index='Age', columns='Actor', values='Power')\n",
        "pivot_df"
      ]
    },
    {
      "cell_type": "markdown",
      "metadata": {
        "colab_type": "text",
        "id": "RWKcVIyFKwHM"
      },
      "source": [
        "**Challenge**: What are the dimensions of our new dataframe? How many rows and columns does it have? Print out the column names and print out the first 5 rows of the dataframe."
      ]
    },
    {
      "cell_type": "code",
      "execution_count": 15,
      "metadata": {
        "colab": {},
        "colab_type": "code",
        "id": "v-u4FcLXGxu9"
      },
      "outputs": [
        {
          "data": {
            "text/plain": [
              "(205, 14)"
            ]
          },
          "execution_count": 15,
          "metadata": {},
          "output_type": "execute_result"
        }
      ],
      "source": [
        "reshaped_df = df.pivot(index='DATE', columns='TAG', values='POSTS')\n",
        "reshaped_df.shape"
      ]
    },
    {
      "cell_type": "code",
      "execution_count": 16,
      "metadata": {},
      "outputs": [
        {
          "data": {
            "application/vnd.microsoft.datawrangler.viewer.v0+json": {
              "columns": [
                {
                  "name": "DATE",
                  "rawType": "datetime64[ns]",
                  "type": "datetime"
                },
                {
                  "name": "assembly",
                  "rawType": "float64",
                  "type": "float"
                },
                {
                  "name": "c",
                  "rawType": "float64",
                  "type": "float"
                },
                {
                  "name": "c#",
                  "rawType": "float64",
                  "type": "float"
                },
                {
                  "name": "c++",
                  "rawType": "float64",
                  "type": "float"
                },
                {
                  "name": "delphi",
                  "rawType": "float64",
                  "type": "float"
                },
                {
                  "name": "go",
                  "rawType": "float64",
                  "type": "float"
                },
                {
                  "name": "java",
                  "rawType": "float64",
                  "type": "float"
                },
                {
                  "name": "javascript",
                  "rawType": "float64",
                  "type": "float"
                },
                {
                  "name": "perl",
                  "rawType": "float64",
                  "type": "float"
                },
                {
                  "name": "php",
                  "rawType": "float64",
                  "type": "float"
                },
                {
                  "name": "python",
                  "rawType": "float64",
                  "type": "float"
                },
                {
                  "name": "r",
                  "rawType": "float64",
                  "type": "float"
                },
                {
                  "name": "ruby",
                  "rawType": "float64",
                  "type": "float"
                },
                {
                  "name": "swift",
                  "rawType": "float64",
                  "type": "float"
                }
              ],
              "ref": "d3da5f10-8441-476b-b572-978f1fd0ae21",
              "rows": [
                [
                  "2008-07-01 00:00:00",
                  null,
                  null,
                  "3.0",
                  null,
                  null,
                  null,
                  null,
                  null,
                  null,
                  null,
                  null,
                  null,
                  null,
                  null
                ],
                [
                  "2008-08-01 00:00:00",
                  "8.0",
                  "82.0",
                  "503.0",
                  "164.0",
                  "13.0",
                  null,
                  "220.0",
                  "160.0",
                  "28.0",
                  "157.0",
                  "119.0",
                  null,
                  "68.0",
                  null
                ],
                [
                  "2008-09-01 00:00:00",
                  "28.0",
                  "320.0",
                  "1638.0",
                  "752.0",
                  "104.0",
                  null,
                  "1121.0",
                  "629.0",
                  "128.0",
                  "473.0",
                  "534.0",
                  "6.0",
                  "285.0",
                  null
                ],
                [
                  "2008-10-01 00:00:00",
                  "16.0",
                  "302.0",
                  "1982.0",
                  "804.0",
                  "112.0",
                  null,
                  "1142.0",
                  "720.0",
                  "128.0",
                  "603.0",
                  "504.0",
                  null,
                  "246.0",
                  null
                ],
                [
                  "2008-11-01 00:00:00",
                  "16.0",
                  "258.0",
                  "1728.0",
                  "733.0",
                  "139.0",
                  null,
                  "951.0",
                  "581.0",
                  "97.0",
                  "497.0",
                  "447.0",
                  "1.0",
                  "154.0",
                  null
                ]
              ],
              "shape": {
                "columns": 14,
                "rows": 5
              }
            },
            "text/html": [
              "<div>\n",
              "<style scoped>\n",
              "    .dataframe tbody tr th:only-of-type {\n",
              "        vertical-align: middle;\n",
              "    }\n",
              "\n",
              "    .dataframe tbody tr th {\n",
              "        vertical-align: top;\n",
              "    }\n",
              "\n",
              "    .dataframe thead th {\n",
              "        text-align: right;\n",
              "    }\n",
              "</style>\n",
              "<table border=\"1\" class=\"dataframe\">\n",
              "  <thead>\n",
              "    <tr style=\"text-align: right;\">\n",
              "      <th>TAG</th>\n",
              "      <th>assembly</th>\n",
              "      <th>c</th>\n",
              "      <th>c#</th>\n",
              "      <th>c++</th>\n",
              "      <th>delphi</th>\n",
              "      <th>go</th>\n",
              "      <th>java</th>\n",
              "      <th>javascript</th>\n",
              "      <th>perl</th>\n",
              "      <th>php</th>\n",
              "      <th>python</th>\n",
              "      <th>r</th>\n",
              "      <th>ruby</th>\n",
              "      <th>swift</th>\n",
              "    </tr>\n",
              "    <tr>\n",
              "      <th>DATE</th>\n",
              "      <th></th>\n",
              "      <th></th>\n",
              "      <th></th>\n",
              "      <th></th>\n",
              "      <th></th>\n",
              "      <th></th>\n",
              "      <th></th>\n",
              "      <th></th>\n",
              "      <th></th>\n",
              "      <th></th>\n",
              "      <th></th>\n",
              "      <th></th>\n",
              "      <th></th>\n",
              "      <th></th>\n",
              "    </tr>\n",
              "  </thead>\n",
              "  <tbody>\n",
              "    <tr>\n",
              "      <th>2008-07-01</th>\n",
              "      <td>NaN</td>\n",
              "      <td>NaN</td>\n",
              "      <td>3.0</td>\n",
              "      <td>NaN</td>\n",
              "      <td>NaN</td>\n",
              "      <td>NaN</td>\n",
              "      <td>NaN</td>\n",
              "      <td>NaN</td>\n",
              "      <td>NaN</td>\n",
              "      <td>NaN</td>\n",
              "      <td>NaN</td>\n",
              "      <td>NaN</td>\n",
              "      <td>NaN</td>\n",
              "      <td>NaN</td>\n",
              "    </tr>\n",
              "    <tr>\n",
              "      <th>2008-08-01</th>\n",
              "      <td>8.0</td>\n",
              "      <td>82.0</td>\n",
              "      <td>503.0</td>\n",
              "      <td>164.0</td>\n",
              "      <td>13.0</td>\n",
              "      <td>NaN</td>\n",
              "      <td>220.0</td>\n",
              "      <td>160.0</td>\n",
              "      <td>28.0</td>\n",
              "      <td>157.0</td>\n",
              "      <td>119.0</td>\n",
              "      <td>NaN</td>\n",
              "      <td>68.0</td>\n",
              "      <td>NaN</td>\n",
              "    </tr>\n",
              "    <tr>\n",
              "      <th>2008-09-01</th>\n",
              "      <td>28.0</td>\n",
              "      <td>320.0</td>\n",
              "      <td>1638.0</td>\n",
              "      <td>752.0</td>\n",
              "      <td>104.0</td>\n",
              "      <td>NaN</td>\n",
              "      <td>1121.0</td>\n",
              "      <td>629.0</td>\n",
              "      <td>128.0</td>\n",
              "      <td>473.0</td>\n",
              "      <td>534.0</td>\n",
              "      <td>6.0</td>\n",
              "      <td>285.0</td>\n",
              "      <td>NaN</td>\n",
              "    </tr>\n",
              "    <tr>\n",
              "      <th>2008-10-01</th>\n",
              "      <td>16.0</td>\n",
              "      <td>302.0</td>\n",
              "      <td>1982.0</td>\n",
              "      <td>804.0</td>\n",
              "      <td>112.0</td>\n",
              "      <td>NaN</td>\n",
              "      <td>1142.0</td>\n",
              "      <td>720.0</td>\n",
              "      <td>128.0</td>\n",
              "      <td>603.0</td>\n",
              "      <td>504.0</td>\n",
              "      <td>NaN</td>\n",
              "      <td>246.0</td>\n",
              "      <td>NaN</td>\n",
              "    </tr>\n",
              "    <tr>\n",
              "      <th>2008-11-01</th>\n",
              "      <td>16.0</td>\n",
              "      <td>258.0</td>\n",
              "      <td>1728.0</td>\n",
              "      <td>733.0</td>\n",
              "      <td>139.0</td>\n",
              "      <td>NaN</td>\n",
              "      <td>951.0</td>\n",
              "      <td>581.0</td>\n",
              "      <td>97.0</td>\n",
              "      <td>497.0</td>\n",
              "      <td>447.0</td>\n",
              "      <td>1.0</td>\n",
              "      <td>154.0</td>\n",
              "      <td>NaN</td>\n",
              "    </tr>\n",
              "  </tbody>\n",
              "</table>\n",
              "</div>"
            ],
            "text/plain": [
              "TAG         assembly      c      c#    c++  delphi  go    java  javascript  \\\n",
              "DATE                                                                         \n",
              "2008-07-01       NaN    NaN     3.0    NaN     NaN NaN     NaN         NaN   \n",
              "2008-08-01       8.0   82.0   503.0  164.0    13.0 NaN   220.0       160.0   \n",
              "2008-09-01      28.0  320.0  1638.0  752.0   104.0 NaN  1121.0       629.0   \n",
              "2008-10-01      16.0  302.0  1982.0  804.0   112.0 NaN  1142.0       720.0   \n",
              "2008-11-01      16.0  258.0  1728.0  733.0   139.0 NaN   951.0       581.0   \n",
              "\n",
              "TAG          perl    php  python    r   ruby  swift  \n",
              "DATE                                                 \n",
              "2008-07-01    NaN    NaN     NaN  NaN    NaN    NaN  \n",
              "2008-08-01   28.0  157.0   119.0  NaN   68.0    NaN  \n",
              "2008-09-01  128.0  473.0   534.0  6.0  285.0    NaN  \n",
              "2008-10-01  128.0  603.0   504.0  NaN  246.0    NaN  \n",
              "2008-11-01   97.0  497.0   447.0  1.0  154.0    NaN  "
            ]
          },
          "execution_count": 16,
          "metadata": {},
          "output_type": "execute_result"
        }
      ],
      "source": [
        "reshaped_df.head()\n",
        "# reshaped_df.tail()"
      ]
    },
    {
      "cell_type": "code",
      "execution_count": 17,
      "metadata": {
        "colab": {},
        "colab_type": "code",
        "id": "NUyBcaMMGxu-"
      },
      "outputs": [
        {
          "data": {
            "text/plain": [
              "Index(['assembly', 'c', 'c#', 'c++', 'delphi', 'go', 'java', 'javascript',\n",
              "       'perl', 'php', 'python', 'r', 'ruby', 'swift'],\n",
              "      dtype='object', name='TAG')"
            ]
          },
          "execution_count": 17,
          "metadata": {},
          "output_type": "execute_result"
        }
      ],
      "source": [
        "reshaped_df.columns"
      ]
    },
    {
      "cell_type": "markdown",
      "metadata": {
        "colab_type": "text",
        "id": "BoDCuRU0GxvC"
      },
      "source": [
        "**Challenge**: Count the number of entries per programming language. Why might the number of entries be different? "
      ]
    },
    {
      "cell_type": "code",
      "execution_count": 18,
      "metadata": {
        "colab": {},
        "colab_type": "code",
        "id": "-peEFgaMGxvE"
      },
      "outputs": [
        {
          "data": {
            "application/vnd.microsoft.datawrangler.viewer.v0+json": {
              "columns": [
                {
                  "name": "TAG",
                  "rawType": "object",
                  "type": "string"
                },
                {
                  "name": "0",
                  "rawType": "int64",
                  "type": "integer"
                }
              ],
              "ref": "ac668ae4-c546-4e68-abbb-ff5450fcb79b",
              "rows": [
                [
                  "assembly",
                  "204"
                ],
                [
                  "c",
                  "204"
                ],
                [
                  "c#",
                  "205"
                ],
                [
                  "c++",
                  "204"
                ],
                [
                  "delphi",
                  "204"
                ],
                [
                  "go",
                  "189"
                ],
                [
                  "java",
                  "204"
                ],
                [
                  "javascript",
                  "204"
                ],
                [
                  "perl",
                  "204"
                ],
                [
                  "php",
                  "204"
                ],
                [
                  "python",
                  "204"
                ],
                [
                  "r",
                  "202"
                ],
                [
                  "ruby",
                  "204"
                ],
                [
                  "swift",
                  "195"
                ]
              ],
              "shape": {
                "columns": 1,
                "rows": 14
              }
            },
            "text/plain": [
              "TAG\n",
              "assembly      204\n",
              "c             204\n",
              "c#            205\n",
              "c++           204\n",
              "delphi        204\n",
              "go            189\n",
              "java          204\n",
              "javascript    204\n",
              "perl          204\n",
              "php           204\n",
              "python        204\n",
              "r             202\n",
              "ruby          204\n",
              "swift         195\n",
              "dtype: int64"
            ]
          },
          "execution_count": 18,
          "metadata": {},
          "output_type": "execute_result"
        }
      ],
      "source": [
        "reshaped_df.count() # number of entries per language"
      ]
    },
    {
      "cell_type": "code",
      "execution_count": 19,
      "metadata": {},
      "outputs": [
        {
          "data": {
            "application/vnd.microsoft.datawrangler.viewer.v0+json": {
              "columns": [
                {
                  "name": "DATE",
                  "rawType": "datetime64[ns]",
                  "type": "datetime"
                },
                {
                  "name": "assembly",
                  "rawType": "float64",
                  "type": "float"
                },
                {
                  "name": "c",
                  "rawType": "float64",
                  "type": "float"
                },
                {
                  "name": "c#",
                  "rawType": "float64",
                  "type": "float"
                },
                {
                  "name": "c++",
                  "rawType": "float64",
                  "type": "float"
                },
                {
                  "name": "delphi",
                  "rawType": "float64",
                  "type": "float"
                },
                {
                  "name": "go",
                  "rawType": "float64",
                  "type": "float"
                },
                {
                  "name": "java",
                  "rawType": "float64",
                  "type": "float"
                },
                {
                  "name": "javascript",
                  "rawType": "float64",
                  "type": "float"
                },
                {
                  "name": "perl",
                  "rawType": "float64",
                  "type": "float"
                },
                {
                  "name": "php",
                  "rawType": "float64",
                  "type": "float"
                },
                {
                  "name": "python",
                  "rawType": "float64",
                  "type": "float"
                },
                {
                  "name": "r",
                  "rawType": "float64",
                  "type": "float"
                },
                {
                  "name": "ruby",
                  "rawType": "float64",
                  "type": "float"
                },
                {
                  "name": "swift",
                  "rawType": "float64",
                  "type": "float"
                }
              ],
              "ref": "67c4142e-affd-41c4-9ab3-704660fe231f",
              "rows": [
                [
                  "2008-07-01 00:00:00",
                  "0.0",
                  "0.0",
                  "3.0",
                  "0.0",
                  "0.0",
                  "0.0",
                  "0.0",
                  "0.0",
                  "0.0",
                  "0.0",
                  "0.0",
                  "0.0",
                  "0.0",
                  "0.0"
                ],
                [
                  "2008-08-01 00:00:00",
                  "8.0",
                  "82.0",
                  "503.0",
                  "164.0",
                  "13.0",
                  "0.0",
                  "220.0",
                  "160.0",
                  "28.0",
                  "157.0",
                  "119.0",
                  "0.0",
                  "68.0",
                  "0.0"
                ],
                [
                  "2008-09-01 00:00:00",
                  "28.0",
                  "320.0",
                  "1638.0",
                  "752.0",
                  "104.0",
                  "0.0",
                  "1121.0",
                  "629.0",
                  "128.0",
                  "473.0",
                  "534.0",
                  "6.0",
                  "285.0",
                  "0.0"
                ],
                [
                  "2008-10-01 00:00:00",
                  "16.0",
                  "302.0",
                  "1982.0",
                  "804.0",
                  "112.0",
                  "0.0",
                  "1142.0",
                  "720.0",
                  "128.0",
                  "603.0",
                  "504.0",
                  "0.0",
                  "246.0",
                  "0.0"
                ],
                [
                  "2008-11-01 00:00:00",
                  "16.0",
                  "258.0",
                  "1728.0",
                  "733.0",
                  "139.0",
                  "0.0",
                  "951.0",
                  "581.0",
                  "97.0",
                  "497.0",
                  "447.0",
                  "1.0",
                  "154.0",
                  "0.0"
                ]
              ],
              "shape": {
                "columns": 14,
                "rows": 5
              }
            },
            "text/html": [
              "<div>\n",
              "<style scoped>\n",
              "    .dataframe tbody tr th:only-of-type {\n",
              "        vertical-align: middle;\n",
              "    }\n",
              "\n",
              "    .dataframe tbody tr th {\n",
              "        vertical-align: top;\n",
              "    }\n",
              "\n",
              "    .dataframe thead th {\n",
              "        text-align: right;\n",
              "    }\n",
              "</style>\n",
              "<table border=\"1\" class=\"dataframe\">\n",
              "  <thead>\n",
              "    <tr style=\"text-align: right;\">\n",
              "      <th>TAG</th>\n",
              "      <th>assembly</th>\n",
              "      <th>c</th>\n",
              "      <th>c#</th>\n",
              "      <th>c++</th>\n",
              "      <th>delphi</th>\n",
              "      <th>go</th>\n",
              "      <th>java</th>\n",
              "      <th>javascript</th>\n",
              "      <th>perl</th>\n",
              "      <th>php</th>\n",
              "      <th>python</th>\n",
              "      <th>r</th>\n",
              "      <th>ruby</th>\n",
              "      <th>swift</th>\n",
              "    </tr>\n",
              "    <tr>\n",
              "      <th>DATE</th>\n",
              "      <th></th>\n",
              "      <th></th>\n",
              "      <th></th>\n",
              "      <th></th>\n",
              "      <th></th>\n",
              "      <th></th>\n",
              "      <th></th>\n",
              "      <th></th>\n",
              "      <th></th>\n",
              "      <th></th>\n",
              "      <th></th>\n",
              "      <th></th>\n",
              "      <th></th>\n",
              "      <th></th>\n",
              "    </tr>\n",
              "  </thead>\n",
              "  <tbody>\n",
              "    <tr>\n",
              "      <th>2008-07-01</th>\n",
              "      <td>0.0</td>\n",
              "      <td>0.0</td>\n",
              "      <td>3.0</td>\n",
              "      <td>0.0</td>\n",
              "      <td>0.0</td>\n",
              "      <td>0.0</td>\n",
              "      <td>0.0</td>\n",
              "      <td>0.0</td>\n",
              "      <td>0.0</td>\n",
              "      <td>0.0</td>\n",
              "      <td>0.0</td>\n",
              "      <td>0.0</td>\n",
              "      <td>0.0</td>\n",
              "      <td>0.0</td>\n",
              "    </tr>\n",
              "    <tr>\n",
              "      <th>2008-08-01</th>\n",
              "      <td>8.0</td>\n",
              "      <td>82.0</td>\n",
              "      <td>503.0</td>\n",
              "      <td>164.0</td>\n",
              "      <td>13.0</td>\n",
              "      <td>0.0</td>\n",
              "      <td>220.0</td>\n",
              "      <td>160.0</td>\n",
              "      <td>28.0</td>\n",
              "      <td>157.0</td>\n",
              "      <td>119.0</td>\n",
              "      <td>0.0</td>\n",
              "      <td>68.0</td>\n",
              "      <td>0.0</td>\n",
              "    </tr>\n",
              "    <tr>\n",
              "      <th>2008-09-01</th>\n",
              "      <td>28.0</td>\n",
              "      <td>320.0</td>\n",
              "      <td>1638.0</td>\n",
              "      <td>752.0</td>\n",
              "      <td>104.0</td>\n",
              "      <td>0.0</td>\n",
              "      <td>1121.0</td>\n",
              "      <td>629.0</td>\n",
              "      <td>128.0</td>\n",
              "      <td>473.0</td>\n",
              "      <td>534.0</td>\n",
              "      <td>6.0</td>\n",
              "      <td>285.0</td>\n",
              "      <td>0.0</td>\n",
              "    </tr>\n",
              "    <tr>\n",
              "      <th>2008-10-01</th>\n",
              "      <td>16.0</td>\n",
              "      <td>302.0</td>\n",
              "      <td>1982.0</td>\n",
              "      <td>804.0</td>\n",
              "      <td>112.0</td>\n",
              "      <td>0.0</td>\n",
              "      <td>1142.0</td>\n",
              "      <td>720.0</td>\n",
              "      <td>128.0</td>\n",
              "      <td>603.0</td>\n",
              "      <td>504.0</td>\n",
              "      <td>0.0</td>\n",
              "      <td>246.0</td>\n",
              "      <td>0.0</td>\n",
              "    </tr>\n",
              "    <tr>\n",
              "      <th>2008-11-01</th>\n",
              "      <td>16.0</td>\n",
              "      <td>258.0</td>\n",
              "      <td>1728.0</td>\n",
              "      <td>733.0</td>\n",
              "      <td>139.0</td>\n",
              "      <td>0.0</td>\n",
              "      <td>951.0</td>\n",
              "      <td>581.0</td>\n",
              "      <td>97.0</td>\n",
              "      <td>497.0</td>\n",
              "      <td>447.0</td>\n",
              "      <td>1.0</td>\n",
              "      <td>154.0</td>\n",
              "      <td>0.0</td>\n",
              "    </tr>\n",
              "  </tbody>\n",
              "</table>\n",
              "</div>"
            ],
            "text/plain": [
              "TAG         assembly      c      c#    c++  delphi   go    java  javascript  \\\n",
              "DATE                                                                          \n",
              "2008-07-01       0.0    0.0     3.0    0.0     0.0  0.0     0.0         0.0   \n",
              "2008-08-01       8.0   82.0   503.0  164.0    13.0  0.0   220.0       160.0   \n",
              "2008-09-01      28.0  320.0  1638.0  752.0   104.0  0.0  1121.0       629.0   \n",
              "2008-10-01      16.0  302.0  1982.0  804.0   112.0  0.0  1142.0       720.0   \n",
              "2008-11-01      16.0  258.0  1728.0  733.0   139.0  0.0   951.0       581.0   \n",
              "\n",
              "TAG          perl    php  python    r   ruby  swift  \n",
              "DATE                                                 \n",
              "2008-07-01    0.0    0.0     0.0  0.0    0.0    0.0  \n",
              "2008-08-01   28.0  157.0   119.0  0.0   68.0    0.0  \n",
              "2008-09-01  128.0  473.0   534.0  6.0  285.0    0.0  \n",
              "2008-10-01  128.0  603.0   504.0  0.0  246.0    0.0  \n",
              "2008-11-01   97.0  497.0   447.0  1.0  154.0    0.0  "
            ]
          },
          "execution_count": 19,
          "metadata": {},
          "output_type": "execute_result"
        }
      ],
      "source": [
        "reshaped_df.fillna(0, inplace=True) # fill missing values with 0\n",
        "reshaped_df.head()\n",
        "# reshaped_df.isna().values.any() # check if there are any missing values\n"
      ]
    },
    {
      "cell_type": "markdown",
      "metadata": {
        "colab_type": "text",
        "id": "8xU7l_f4GxvK"
      },
      "source": [
        "## Data Visualisaton with with Matplotlib\n"
      ]
    },
    {
      "cell_type": "markdown",
      "metadata": {
        "colab_type": "text",
        "id": "njnNXTlhGxvK"
      },
      "source": [
        "**Challenge**: Use the [matplotlib documentation](https://matplotlib.org/3.2.1/api/_as_gen/matplotlib.pyplot.plot.html#matplotlib.pyplot.plot) to plot a single programming language (e.g., java) on a chart."
      ]
    },
    {
      "cell_type": "code",
      "execution_count": null,
      "metadata": {
        "colab": {},
        "colab_type": "code",
        "id": "S0OS8T8iGxvL"
      },
      "outputs": [
        {
          "data": {
            "text/plain": [
              "[<matplotlib.lines.Line2D at 0x1b101301290>]"
            ]
          },
          "execution_count": 52,
          "metadata": {},
          "output_type": "execute_result"
        },
        {
          "data": {
            "image/png": "[encoded data removed]",
            "text/plain": [
              "<Figure size 1200x900 with 1 Axes>"
            ]
          },
          "metadata": {},
          "output_type": "display_data"
        }
      ],
      "source": [
        "plt.figure(figsize=(12, 9))\n",
        "plt.xticks(fontsize=11)\n",
        "plt.yticks(fontsize=11)\n",
        "plt.xlabel(\"Date\", fontsize=15)\n",
        "plt.ylabel(\"# of Posts\", fontsize=15)\n",
        "plt.ylim(0, 35000)\n",
        "plt.plot(reshaped_df.index, reshaped_df['python'])"
      ]
    },
    {
      "cell_type": "markdown",
      "metadata": {
        "colab_type": "text",
        "id": "Sm2DL5tZGxvQ"
      },
      "source": [
        "**Challenge**: Show two line (e.g. for Java and Python) on the same chart."
      ]
    },
    {
      "cell_type": "code",
      "execution_count": 59,
      "metadata": {
        "colab": {},
        "colab_type": "code",
        "id": "T-0vClQSGxvQ"
      },
      "outputs": [
        {
          "data": {
            "text/plain": [
              "<matplotlib.legend.Legend at 0x1b1047fe790>"
            ]
          },
          "execution_count": 59,
          "metadata": {},
          "output_type": "execute_result"
        },
        {
          "data": {
            "image/png": "[encoded data removed]",
            "text/plain": [
              "<Figure size 1200x900 with 1 Axes>"
            ]
          },
          "metadata": {},
          "output_type": "display_data"
        }
      ],
      "source": [
        "plt.figure(figsize=(12, 9))     # giving a specific size to our frame\n",
        "plt.xticks(fontsize=11)     # changing the fontsize of each point in the x-axis\n",
        "plt.yticks(fontsize=11)\n",
        "plt.xlabel(\"Date\", fontsize=15)\n",
        "plt.ylabel(\"Number of Posts\", fontsize=15)\n",
        "plt.ylim(0, 35000)  # setting lower and upper bounds in the y-axis\n",
        "\n",
        "for column in reshaped_df.columns:  # getting the names of all the columns in the dataframe\n",
        "    plt.plot(reshaped_df.index, reshaped_df[column], linewidth=1, label=reshaped_df[column].name)   # plotting all columns 1 after another \n",
        "\n",
        "plt.legend(fontsize=11)"
      ]
    },
    {
      "cell_type": "markdown",
      "metadata": {
        "colab_type": "text",
        "id": "3jSjfPy7GxvY"
      },
      "source": [
        "# Smoothing out Time Series Data\n",
        "\n",
        "Time series data can be quite noisy, with a lot of up and down spikes. To better see a trend we can plot an average of, say 6 or 12 observations. This is called the rolling mean. We calculate the average in a window of time and move it forward by one overservation. Pandas has two handy methods already built in to work this out: [rolling()](https://pandas.pydata.org/pandas-docs/stable/reference/api/pandas.DataFrame.rolling.html) and [mean()](https://pandas.pydata.org/pandas-docs/stable/reference/api/pandas.core.window.rolling.Rolling.mean.html). "
      ]
    },
    {
      "cell_type": "code",
      "execution_count": null,
      "metadata": {
        "colab": {},
        "colab_type": "code",
        "id": "s3WYd3OgGxvc"
      },
      "outputs": [],
      "source": []
    },
    {
      "cell_type": "code",
      "execution_count": null,
      "metadata": {
        "colab": {},
        "colab_type": "code",
        "id": "WMJOX8Y2Gxvd"
      },
      "outputs": [],
      "source": []
    },
    {
      "cell_type": "code",
      "execution_count": null,
      "metadata": {
        "colab": {},
        "colab_type": "code",
        "id": "fAvvarA7Gxvf"
      },
      "outputs": [],
      "source": []
    },
    {
      "cell_type": "code",
      "execution_count": null,
      "metadata": {
        "colab": {},
        "colab_type": "code",
        "id": "Gm0Ww0S4Gxvg"
      },
      "outputs": [],
      "source": []
    }
  ],
  "metadata": {
    "colab": {
      "name": "Programming Languages (start).ipynb",
      "provenance": []
    },
    "kernelspec": {
      "display_name": ".venv (3.10.11)",
      "language": "python",
      "name": "python3"
    },
    "language_info": {
      "codemirror_mode": {
        "name": "ipython",
        "version": 3
      },
      "file_extension": ".py",
      "mimetype": "text/x-python",
      "name": "python",
      "nbconvert_exporter": "python",
      "pygments_lexer": "ipython3",
      "version": "3.11.1"
    }
  },
  "nbformat": 4,
  "nbformat_minor": 0
}
